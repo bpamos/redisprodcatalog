{
 "cells": [
  {
   "cell_type": "markdown",
   "id": "ongoing-thursday",
   "metadata": {},
   "source": [
    "# Redis Product Catalog"
   ]
  },
  {
   "cell_type": "markdown",
   "id": "attractive-management",
   "metadata": {},
   "source": [
    "## Product Catalog Use Case\n",
    "\n",
    "In the last session several common Redis use cases were discussed. Now, lets consider using Redis as our primary database for a product catalog for a new online store. It will need to store product details including a name, description, vendor, price, main category and some images."
   ]
  },
  {
   "cell_type": "markdown",
   "id": "incomplete-lancaster",
   "metadata": {},
   "source": [
    "## Requirements:\n",
    "\n",
    "* Product information stored in the database should include: name, description, vendor, price, category, images associated with that product.\n",
    "* Ability to create/update/delete product details\n",
    "* Ability to find product by ID\n",
    "* Ability to find products in category X\n",
    "* Ability to find product by its name or part of its name"
   ]
  },
  {
   "cell_type": "markdown",
   "id": "visible-pillow",
   "metadata": {},
   "source": [
    "## Step 3 - Logical Data Model:\n",
    "\n",
    "The logical data model is separate from the DBMS being used.\n",
    "It defines the structure of data elements and to set relationships between them.\n",
    "\n",
    "* Product Image\n",
    "    * Id: Number\n",
    "    * Value: Binary\n",
    "\n",
    "* Product\n",
    "    * Id: Number\n",
    "    * Name: String\n",
    "    * Description: String\n",
    "    * Vendor: String\n",
    "    * Price: Number\n",
    "    * Currency: String\n",
    "    * MainCategory: Category (1)\n",
    "    * Images: Image (0..n)\n",
    " \n",
    "* Category\n",
    "    * id: Number\n",
    "    * Name: String\n",
    "    * Products: Product (0..n)"
   ]
  },
  {
   "cell_type": "code",
   "execution_count": 1,
   "id": "matched-edgar",
   "metadata": {},
   "outputs": [],
   "source": [
    "# Lets make some sample products in a json:"
   ]
  },
  {
   "cell_type": "code",
   "execution_count": 2,
   "id": "another-pastor",
   "metadata": {},
   "outputs": [],
   "source": []
  },
  {
   "cell_type": "code",
   "execution_count": 3,
   "id": "natural-think",
   "metadata": {},
   "outputs": [],
   "source": [
    "# Product Image\n",
    "product_image = {\n",
    "\"Id\": 1,\n",
    "\"Value\": 'binaryvalue'\n",
    "}"
   ]
  },
  {
   "cell_type": "code",
   "execution_count": 4,
   "id": "informal-british",
   "metadata": {},
   "outputs": [],
   "source": [
    "# Product\n",
    "product = {\n",
    "    'Id': 1,\n",
    "    'Name': 'ProductA',\n",
    "    'Description': 'Chicken',\n",
    "    'Vendor': 'Walmart',\n",
    "    'Price': 10,\n",
    "    'Currency': 'dollars',\n",
    "    'MainCategory': 1, # mapped to category (Id)\n",
    "    'Images': [1,2,3,4] # mapped to product_image (Id)\n",
    "}"
   ]
  },
  {
   "cell_type": "code",
   "execution_count": 5,
   "id": "casual-humanitarian",
   "metadata": {},
   "outputs": [],
   "source": [
    "# Category\n",
    "category = {\n",
    "    \"Id\": 1,\n",
    "    \"Name\": 'ProductA',\n",
    "    \"Products\": [1,2,3] # mapped to product (Id)\n",
    "}"
   ]
  },
  {
   "cell_type": "code",
   "execution_count": null,
   "id": "blond-broad",
   "metadata": {},
   "outputs": [],
   "source": []
  },
  {
   "cell_type": "markdown",
   "id": "annoying-samba",
   "metadata": {},
   "source": [
    "## Step 4 - Convert to Physical Data Model for Redis:\n",
    "\n",
    "How would you take this logical data model and turn it into a physical model in Redis?\n",
    "\n",
    "What data structures would you use to meet the requirements listed above?\n",
    "\n",
    "How to index and query the data?\n",
    "\n",
    "Be ready to show via redis-cli (or Insight) how you stored the data and how you are able to find the product by ID, list all prodcuts in a given category and find a Product by full or partial name."
   ]
  },
  {
   "cell_type": "code",
   "execution_count": 67,
   "id": "following-caribbean",
   "metadata": {},
   "outputs": [
    {
     "data": {
      "text/plain": [
       "{'Id': 1, 'Value': 'binaryvalue'}"
      ]
     },
     "execution_count": 67,
     "metadata": {},
     "output_type": "execute_result"
    }
   ],
   "source": [
    "# product image: what should we store it as in redis?\n",
    "product_image"
   ]
  },
  {
   "cell_type": "code",
   "execution_count": 74,
   "id": "executed-flashing",
   "metadata": {},
   "outputs": [
    {
     "name": "stdout",
     "output_type": "stream",
     "text": [
      "Id 1\n",
      "Value binaryvalue\n"
     ]
    }
   ],
   "source": [
    "# it looks like we can store it as a simple String (key value pair)\n",
    "# we will need to fix the structure how how we deal with this though."
   ]
  },
  {
   "cell_type": "code",
   "execution_count": 93,
   "id": "temporal-affiliate",
   "metadata": {},
   "outputs": [],
   "source": [
    "# lets make a product image data structure in python\n",
    "def product_image_kv(product_id, value):\n",
    "    product_image = {f\"product_image:{product_id}\":{\n",
    "    'Value': value,\n",
    "    }}\n",
    "    return product_image"
   ]
  },
  {
   "cell_type": "code",
   "execution_count": 104,
   "id": "indoor-tolerance",
   "metadata": {},
   "outputs": [
    {
     "data": {
      "text/plain": [
       "{'product_image:3355641040': {'Value': 100}}"
      ]
     },
     "execution_count": 104,
     "metadata": {},
     "output_type": "execute_result"
    }
   ],
   "source": [
    "# lets create some values\n",
    "import random\n",
    "\n",
    "random.seed()\n",
    "product_id = random.getrandbits(32)\n",
    "value = 100\n",
    "\n",
    "product_image = product_image_kv(product_id, value)\n",
    "product_image"
   ]
  },
  {
   "cell_type": "code",
   "execution_count": 172,
   "id": "specified-recording",
   "metadata": {},
   "outputs": [
    {
     "name": "stdout",
     "output_type": "stream",
     "text": [
      "product_image:3355641040\n",
      "b'100'\n"
     ]
    }
   ],
   "source": [
    "# lets convert it to a redis data structure (a string, a key value)\n",
    "for Id, product_dict in product_image.items():\n",
    "    #print(Id, product_dict)\n",
    "    for k,v in product_dict.items():\n",
    "            #redis.set(Id,v)\n",
    "            #print(k,v)\n",
    "            redis.set(Id,v)\n",
    "    #check it out\n",
    "    print(Id)\n",
    "    print(redis.get(Id))\n",
    "    "
   ]
  },
  {
   "cell_type": "code",
   "execution_count": null,
   "id": "minute-affiliation",
   "metadata": {},
   "outputs": [],
   "source": []
  },
  {
   "cell_type": "code",
   "execution_count": null,
   "id": "experienced-wiring",
   "metadata": {},
   "outputs": [],
   "source": []
  },
  {
   "cell_type": "code",
   "execution_count": 107,
   "id": "charming-butter",
   "metadata": {},
   "outputs": [],
   "source": [
    "# lets make the Category data model"
   ]
  },
  {
   "cell_type": "code",
   "execution_count": 109,
   "id": "dietary-devices",
   "metadata": {},
   "outputs": [
    {
     "name": "stdout",
     "output_type": "stream",
     "text": [
      "{'Id': 1, 'Name': 'ProductA', 'Products': [1, 2, 3]}\n"
     ]
    }
   ],
   "source": [
    "print(category)"
   ]
  },
  {
   "cell_type": "code",
   "execution_count": null,
   "id": "innovative-trauma",
   "metadata": {},
   "outputs": [],
   "source": [
    "# we will need to follow a similar process that we did with the product image.\n",
    "# this time, we cant use a string data structure, we need a different one.\n",
    "# a Hash is really the best option\n",
    "\n",
    "# the challenge here is that we need to map in all the product ids."
   ]
  },
  {
   "cell_type": "code",
   "execution_count": 110,
   "id": "fantastic-enlargement",
   "metadata": {},
   "outputs": [],
   "source": [
    "def category_hash(category_id, name, products):\n",
    "    category = {f\"category:{category_id}\":{\n",
    "    'Name': name,\n",
    "    'Products': products\n",
    "    }}\n",
    "    return category"
   ]
  },
  {
   "cell_type": "code",
   "execution_count": 128,
   "id": "ecological-evidence",
   "metadata": {},
   "outputs": [
    {
     "data": {
      "text/plain": [
       "{'category:2423841559': {'Name': 'Meat', 'Products': [1, 2, 5, 6, 7]}}"
      ]
     },
     "execution_count": 128,
     "metadata": {},
     "output_type": "execute_result"
    }
   ],
   "source": [
    "import random\n",
    "\n",
    "random.seed()\n",
    "category_id = random.getrandbits(32)\n",
    "name = 'Meat'\n",
    "products = [1,2,5,6,7]\n",
    "\n",
    "category = category_hash(category_id, name, products)\n",
    "category"
   ]
  },
  {
   "cell_type": "code",
   "execution_count": 171,
   "id": "separated-background",
   "metadata": {},
   "outputs": [
    {
     "name": "stdout",
     "output_type": "stream",
     "text": [
      "category:2423841559\n",
      "{b'Name': b'Meat'}\n",
      "category:2423841559:products\n",
      "{b'6', b'7', b'2', b'5', b'1'}\n"
     ]
    }
   ],
   "source": [
    "# lets convert it to a redis data structure (a string, a key value)\n",
    "for Id, category_dict in category.items():\n",
    "    #print(Id, category_dict)\n",
    "    for k,v in category_dict.items():\n",
    "            #print(k,v)\n",
    "            if k != 'Products':\n",
    "                redis.hset(Id,k,v)\n",
    "            else:\n",
    "                #print(v)\n",
    "                # add products to a new data structure with a set and a new id\n",
    "                for i in v:\n",
    "                    #print(i)\n",
    "                    set_id_products = f\"{Id}:products\"\n",
    "                    redisList = redis.sadd(set_id_products,i)\n",
    "            #redis.hset(Id,k,v)\n",
    "    #check it out\n",
    "    print(Id)\n",
    "    print(redis.hgetall(Id))\n",
    "    print(set_id_products)\n",
    "    print(redis.smembers(set_id_products))"
   ]
  },
  {
   "cell_type": "code",
   "execution_count": 162,
   "id": "north-memory",
   "metadata": {},
   "outputs": [
    {
     "data": {
      "text/plain": [
       "True"
      ]
     },
     "execution_count": 162,
     "metadata": {},
     "output_type": "execute_result"
    }
   ],
   "source": [
    "redis.flushdb()"
   ]
  },
  {
   "cell_type": "code",
   "execution_count": 148,
   "id": "pressed-hollywood",
   "metadata": {},
   "outputs": [
    {
     "data": {
      "text/plain": [
       "(0, [b'category:2423841559:products', b'category:2423841559'])"
      ]
     },
     "execution_count": 148,
     "metadata": {},
     "output_type": "execute_result"
    }
   ],
   "source": [
    "redis.scan()"
   ]
  },
  {
   "cell_type": "code",
   "execution_count": null,
   "id": "russian-method",
   "metadata": {},
   "outputs": [],
   "source": [
    "# lets make a product data model\n",
    "\n",
    "# we will use a hash function.\n",
    "\n",
    "# the challenge here is the we need the image and category to fit into this model."
   ]
  },
  {
   "cell_type": "code",
   "execution_count": 149,
   "id": "interested-reception",
   "metadata": {},
   "outputs": [],
   "source": [
    "def product_hash(product_id, name, description, vendor, price, currency, mainCategory, images):\n",
    "    product = {f\"product:{product_id}\":{\n",
    "    'Name': name,\n",
    "    'Description': description,\n",
    "    'Vendor': vendor,\n",
    "    'Price': price,\n",
    "    'Currency': currency,\n",
    "    'MainCategory': mainCategory, # mapped to category (Id)\n",
    "    'Images':  images# mapped to product_image (Id)\n",
    "    }}\n",
    "    return product"
   ]
  },
  {
   "cell_type": "code",
   "execution_count": 159,
   "id": "powerful-clearing",
   "metadata": {},
   "outputs": [],
   "source": [
    "import random\n",
    "\n",
    "random.seed()\n",
    "product_id = random.getrandbits(32)\n",
    "name = 'ProductA'\n",
    "description = 'Chicken'\n",
    "vendor = 'CostCo'\n",
    "price = 12\n",
    "currency = 'dollars'\n",
    "mainCategory = [1,5,67,8]\n",
    "images = [1,2,3,4]\n",
    "\n",
    "products = product_hash(product_id, name, description, vendor, price, currency, mainCategory, images)"
   ]
  },
  {
   "cell_type": "code",
   "execution_count": 170,
   "id": "mysterious-modification",
   "metadata": {},
   "outputs": [
    {
     "name": "stdout",
     "output_type": "stream",
     "text": [
      "product:1900991853\n",
      "{b'Name': b'ProductA', b'Description': b'Chicken', b'Vendor': b'CostCo', b'Price': b'12', b'Currency': b'dollars'}\n",
      "product:1900991853:maincat\n",
      "{b'67', b'8', b'5', b'1'}\n",
      "product:1900991853:images\n",
      "{b'4', b'3', b'2', b'1'}\n"
     ]
    }
   ],
   "source": [
    "# lets convert it to a redis data structure (a string, a key value)\n",
    "for Id, product_dict in products.items():\n",
    "    #print(Id, product_dict)\n",
    "    for k,v in product_dict.items():\n",
    "            #print(k,v)\n",
    "            if k != 'MainCategory' and k != 'Images':\n",
    "                redis.hset(Id,k,v)\n",
    "            elif k == 'MainCategory':\n",
    "                #print(v)\n",
    "                # add products to a new data structure with a set and a new id\n",
    "                for i in v:\n",
    "                    #print(i)\n",
    "                    set_id_maincat = f\"{Id}:maincat\"\n",
    "                    redis.sadd(set_id_maincat,i)\n",
    "            elif k == 'Images':\n",
    "                #print(v)\n",
    "                # add products to a new data structure with a set and a new id\n",
    "                for i in v:\n",
    "                    #print(i)\n",
    "                    set_id_images = f\"{Id}:images\"\n",
    "                    redis.sadd(set_id_images,i)\n",
    "            #redis.hset(Id,k,v)\n",
    "    #check it out\n",
    "    print(Id)\n",
    "    print(redis.hgetall(Id))\n",
    "    print(set_id_maincat)\n",
    "    print(redis.smembers(set_id_maincat))\n",
    "    print(set_id_images)\n",
    "    print(redis.smembers(set_id_images))"
   ]
  },
  {
   "cell_type": "code",
   "execution_count": null,
   "id": "qualified-slope",
   "metadata": {},
   "outputs": [],
   "source": []
  },
  {
   "cell_type": "code",
   "execution_count": null,
   "id": "designing-survey",
   "metadata": {},
   "outputs": [],
   "source": []
  },
  {
   "cell_type": "code",
   "execution_count": null,
   "id": "under-madness",
   "metadata": {},
   "outputs": [],
   "source": []
  },
  {
   "cell_type": "code",
   "execution_count": null,
   "id": "favorite-philosophy",
   "metadata": {},
   "outputs": [],
   "source": []
  },
  {
   "cell_type": "code",
   "execution_count": null,
   "id": "wound-cardiff",
   "metadata": {},
   "outputs": [],
   "source": []
  },
  {
   "cell_type": "code",
   "execution_count": null,
   "id": "supposed-shield",
   "metadata": {},
   "outputs": [],
   "source": []
  },
  {
   "cell_type": "code",
   "execution_count": null,
   "id": "funky-finder",
   "metadata": {},
   "outputs": [],
   "source": []
  },
  {
   "cell_type": "code",
   "execution_count": null,
   "id": "naval-consideration",
   "metadata": {},
   "outputs": [],
   "source": []
  },
  {
   "cell_type": "code",
   "execution_count": null,
   "id": "organic-horse",
   "metadata": {},
   "outputs": [],
   "source": []
  },
  {
   "cell_type": "code",
   "execution_count": null,
   "id": "alert-sharing",
   "metadata": {},
   "outputs": [],
   "source": []
  },
  {
   "cell_type": "code",
   "execution_count": null,
   "id": "alike-racing",
   "metadata": {},
   "outputs": [],
   "source": []
  },
  {
   "cell_type": "code",
   "execution_count": null,
   "id": "everyday-ocean",
   "metadata": {},
   "outputs": [],
   "source": []
  },
  {
   "cell_type": "code",
   "execution_count": null,
   "id": "technological-freeware",
   "metadata": {},
   "outputs": [],
   "source": []
  },
  {
   "cell_type": "code",
   "execution_count": null,
   "id": "enormous-facial",
   "metadata": {},
   "outputs": [],
   "source": []
  },
  {
   "cell_type": "code",
   "execution_count": null,
   "id": "novel-voluntary",
   "metadata": {},
   "outputs": [],
   "source": []
  },
  {
   "cell_type": "code",
   "execution_count": null,
   "id": "numeric-brass",
   "metadata": {},
   "outputs": [],
   "source": []
  },
  {
   "cell_type": "code",
   "execution_count": null,
   "id": "liked-jones",
   "metadata": {},
   "outputs": [],
   "source": []
  },
  {
   "cell_type": "code",
   "execution_count": null,
   "id": "quantitative-regression",
   "metadata": {},
   "outputs": [],
   "source": []
  },
  {
   "cell_type": "code",
   "execution_count": 81,
   "id": "burning-fields",
   "metadata": {},
   "outputs": [
    {
     "name": "stdout",
     "output_type": "stream",
     "text": [
      "product:1326692461 {'Name': 'ProductA', 'Description': 'Chicken', 'Vendor': 'CostCo', 'Price': 12, 'Currency': 'dollars', 'MainCategory': 1, 'Images': 1}\n"
     ]
    }
   ],
   "source": [
    "with redis.pipeline() as pipe:\n",
    "    for Id, product_dict in product.items():\n",
    "        print(Id, product_dict)\n",
    "        for k,v in product_dict.items():\n",
    "            pipe.hset(Id,k,v)\n",
    "    pipe.execute()"
   ]
  },
  {
   "cell_type": "code",
   "execution_count": 83,
   "id": "electoral-google",
   "metadata": {},
   "outputs": [
    {
     "name": "stdout",
     "output_type": "stream",
     "text": [
      "{b'Name': b'ProductA', b'Description': b'Chicken', b'Vendor': b'CostCo', b'Price': b'12', b'Currency': b'dollars', b'MainCategory': b'1', b'Images': b'1'}\n"
     ]
    }
   ],
   "source": [
    "print(redis.hgetall(\"product:1326692461\"))"
   ]
  },
  {
   "cell_type": "code",
   "execution_count": null,
   "id": "central-scheme",
   "metadata": {},
   "outputs": [],
   "source": []
  },
  {
   "cell_type": "code",
   "execution_count": null,
   "id": "bigger-signal",
   "metadata": {},
   "outputs": [],
   "source": []
  },
  {
   "cell_type": "code",
   "execution_count": null,
   "id": "funded-township",
   "metadata": {},
   "outputs": [],
   "source": []
  },
  {
   "cell_type": "code",
   "execution_count": null,
   "id": "acute-parameter",
   "metadata": {},
   "outputs": [],
   "source": []
  },
  {
   "cell_type": "code",
   "execution_count": null,
   "id": "vertical-georgia",
   "metadata": {},
   "outputs": [],
   "source": []
  },
  {
   "cell_type": "code",
   "execution_count": 75,
   "id": "organic-criterion",
   "metadata": {},
   "outputs": [],
   "source": [
    "redis.get('product-image:1')"
   ]
  },
  {
   "cell_type": "code",
   "execution_count": null,
   "id": "sound-header",
   "metadata": {},
   "outputs": [],
   "source": []
  },
  {
   "cell_type": "code",
   "execution_count": 10,
   "id": "ordinary-cheat",
   "metadata": {},
   "outputs": [
    {
     "name": "stdout",
     "output_type": "stream",
     "text": [
      "Id 1\n",
      "Name ProductA\n",
      "Description Chicken\n",
      "Vendor Walmart\n",
      "Price 10\n",
      "Currency dollars\n",
      "MainCategory 1\n",
      "Images [1, 2, 3, 4]\n"
     ]
    }
   ],
   "source": [
    "for k,v in product.items():\n",
    "    print(k,v)"
   ]
  },
  {
   "cell_type": "code",
   "execution_count": 7,
   "id": "composed-rocket",
   "metadata": {},
   "outputs": [],
   "source": [
    "# import redis\n",
    "import redis\n",
    "import os\n",
    "\n",
    "# connect redis to localhost and port\n",
    "redis = redis.Redis(host='localhost', port=6379, db=0)"
   ]
  },
  {
   "cell_type": "code",
   "execution_count": 8,
   "id": "chicken-capture",
   "metadata": {},
   "outputs": [
    {
     "data": {
      "text/plain": [
       "b'bar'"
      ]
     },
     "execution_count": 8,
     "metadata": {},
     "output_type": "execute_result"
    }
   ],
   "source": [
    "# simple commands to test\n",
    "redis.set('foo','bar')\n",
    "redis.get('foo')"
   ]
  },
  {
   "cell_type": "code",
   "execution_count": 48,
   "id": "devoted-object",
   "metadata": {},
   "outputs": [],
   "source": [
    "import random\n",
    "\n",
    "random.seed(444)\n",
    "# create product dictionary generator.\n",
    "# identify the product id as \"product:(random int)\"\n",
    "# then add each products meta data.\n",
    "product = {f\"product:{random.getrandbits(32)}\": i for i in (\n",
    "    {\n",
    "    'Name': 'ProductA',\n",
    "    'Description': 'Chicken',\n",
    "    'Vendor': 'CostCo',\n",
    "    'Price': 10,\n",
    "    'Currency': 'dollars',\n",
    "    'MainCategory': 1, # mapped to category (Id)\n",
    "    'Images': 1 # mapped to product_image (Id)\n",
    "    },\n",
    "    {\n",
    "    'Name': 'ProductB',\n",
    "    'Description': 'Pork',\n",
    "    'Vendor': 'HEB',\n",
    "    'Price': 10,\n",
    "    'Currency': 'dollars',\n",
    "    'MainCategory': 2, # mapped to category (Id)\n",
    "    'Images': 1 # mapped to product_image (Id)\n",
    "    },\n",
    "    {\n",
    "    'Name': 'ProductC',\n",
    "    'Description': 'Duck',\n",
    "    'Vendor': 'WholeFoods',\n",
    "    'Price': 10,\n",
    "    'Currency': 'dollars',\n",
    "    'MainCategory': 4, # mapped to category (Id)\n",
    "    'Images': 1 # mapped to product_image (Id)\n",
    "    },)\n",
    "}\n"
   ]
  },
  {
   "cell_type": "code",
   "execution_count": 49,
   "id": "hired-cincinnati",
   "metadata": {},
   "outputs": [
    {
     "data": {
      "text/plain": [
       "{'product:1326692461': {'Name': 'ProductA', 'Description': 'Chicken', 'Vendor': 'CostCo', 'Price': 10, 'Currency': 'dollars', 'MainCategory': 1, 'Images': 1}, 'product:1236154736': {'Name': 'ProductB', 'Description': 'Pork', 'Vendor': 'HEB', 'Price': 10, 'Currency': 'dollars', 'MainCategory': 2, 'Images': 1}, 'product:56854717': {'Name': 'ProductC', 'Description': 'Duck', 'Vendor': 'WholeFoods', 'Price': 10, 'Currency': 'dollars', 'MainCategory': 4, 'Images': 1}}"
      ]
     },
     "execution_count": 49,
     "metadata": {},
     "output_type": "execute_result"
    }
   ],
   "source": [
    "product"
   ]
  },
  {
   "cell_type": "code",
   "execution_count": 65,
   "id": "brief-gospel",
   "metadata": {},
   "outputs": [
    {
     "name": "stdout",
     "output_type": "stream",
     "text": [
      "product:1326692461 {'Name': 'ProductA', 'Description': 'Chicken', 'Vendor': 'CostCo', 'Price': 10, 'Currency': 'dollars', 'MainCategory': 1, 'Images': 1}\n",
      "product:1236154736 {'Name': 'ProductB', 'Description': 'Pork', 'Vendor': 'HEB', 'Price': 10, 'Currency': 'dollars', 'MainCategory': 2, 'Images': 1}\n",
      "product:56854717 {'Name': 'ProductC', 'Description': 'Duck', 'Vendor': 'WholeFoods', 'Price': 10, 'Currency': 'dollars', 'MainCategory': 4, 'Images': 1}\n"
     ]
    }
   ],
   "source": [
    "\n",
    "with redis.pipeline() as pipe:\n",
    "    for Id, product_dict in product.items():\n",
    "        print(Id, product_dict)\n",
    "        for k,v in product_dict.items():\n",
    "            pipe.hset(Id,k,v)\n",
    "    pipe.execute()"
   ]
  },
  {
   "cell_type": "code",
   "execution_count": 66,
   "id": "cardiovascular-secretary",
   "metadata": {},
   "outputs": [
    {
     "name": "stdout",
     "output_type": "stream",
     "text": [
      "{b'Name': b'ProductC', b'Description': b'Duck', b'Vendor': b'WholeFoods', b'Price': b'10', b'Currency': b'dollars', b'MainCategory': b'4', b'Images': b'1'}\n"
     ]
    }
   ],
   "source": [
    "print(redis.hgetall(\"product:56854717\"))"
   ]
  },
  {
   "cell_type": "code",
   "execution_count": 64,
   "id": "adolescent-pharmacy",
   "metadata": {},
   "outputs": [
    {
     "data": {
      "text/plain": [
       "1"
      ]
     },
     "execution_count": 64,
     "metadata": {},
     "output_type": "execute_result"
    }
   ],
   "source": [
    "redis.hdel(\"product:1326692461\", 'Id')"
   ]
  },
  {
   "cell_type": "code",
   "execution_count": null,
   "id": "strange-fairy",
   "metadata": {},
   "outputs": [],
   "source": []
  }
 ],
 "metadata": {
  "kernelspec": {
   "display_name": "Python 3",
   "language": "python",
   "name": "python3"
  },
  "language_info": {
   "codemirror_mode": {
    "name": "ipython",
    "version": 3
   },
   "file_extension": ".py",
   "mimetype": "text/x-python",
   "name": "python",
   "nbconvert_exporter": "python",
   "pygments_lexer": "ipython3",
   "version": "3.8.8"
  }
 },
 "nbformat": 4,
 "nbformat_minor": 5
}
