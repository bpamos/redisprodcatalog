{
 "cells": [
  {
   "cell_type": "markdown",
   "id": "moving-interstate",
   "metadata": {},
   "source": [
    "# Redis Basics"
   ]
  },
  {
   "cell_type": "code",
   "execution_count": 7,
   "id": "seventh-ownership",
   "metadata": {},
   "outputs": [],
   "source": [
    "# import redis\n",
    "import redis\n",
    "import os"
   ]
  },
  {
   "cell_type": "code",
   "execution_count": 8,
   "id": "conditional-hands",
   "metadata": {},
   "outputs": [],
   "source": [
    "# connect redis to localhost and port\n",
    "redis = redis.Redis(host='localhost', port=6379, db=0)"
   ]
  },
  {
   "cell_type": "code",
   "execution_count": 17,
   "id": "neutral-process",
   "metadata": {},
   "outputs": [
    {
     "data": {
      "text/plain": [
       "b'bar'"
      ]
     },
     "execution_count": 17,
     "metadata": {},
     "output_type": "execute_result"
    }
   ],
   "source": [
    "# simple commands to test\n",
    "redis.set('foo','bar')\n",
    "redis.get('foo')"
   ]
  },
  {
   "cell_type": "code",
   "execution_count": 18,
   "id": "chemical-schema",
   "metadata": {},
   "outputs": [
    {
     "name": "stdout",
     "output_type": "stream",
     "text": [
      "b'foo'\n"
     ]
    }
   ],
   "source": [
    "for key in redis.scan_iter(\"*\"):\n",
    "    print(key)"
   ]
  },
  {
   "cell_type": "code",
   "execution_count": 16,
   "id": "limiting-gnome",
   "metadata": {},
   "outputs": [
    {
     "data": {
      "text/plain": [
       "True"
      ]
     },
     "execution_count": 16,
     "metadata": {},
     "output_type": "execute_result"
    }
   ],
   "source": [
    "#redis.flushdb()"
   ]
  },
  {
   "cell_type": "markdown",
   "id": "experimental-court",
   "metadata": {},
   "source": [
    "## Lua Scripts"
   ]
  },
  {
   "cell_type": "code",
   "execution_count": 19,
   "id": "returning-statement",
   "metadata": {},
   "outputs": [],
   "source": [
    "stats_script = \"\"\"\n",
    "    -- Convert arguments to numbers\n",
    "    local k1 = redis.call('get', KEYS[1])\n",
    "    local k2 = redis.call('get', KEYS[2])\n",
    "\n",
    "    if ARGV[1] == \"sum\" then\n",
    "      return k1 + k2\n",
    "    elseif ARGV[1] == \"max\" then\n",
    "      return math.max(k1, k2)\n",
    "    else\n",
    "      return nil\n",
    "    end\n",
    "\"\"\""
   ]
  },
  {
   "cell_type": "code",
   "execution_count": 20,
   "id": "expired-psychiatry",
   "metadata": {},
   "outputs": [
    {
     "name": "stdout",
     "output_type": "stream",
     "text": [
      "2075\n",
      "2000\n"
     ]
    }
   ],
   "source": [
    "redis.set(\"hits:homepage\", 2000)\n",
    "redis.set(\"hits:loginpage\", 75)\n",
    "\n",
    "# Register our script with the Redis Python client and\n",
    "# return a callable object for invoking our script.\n",
    "stats = redis.register_script(stats_script)\n",
    "\n",
    "# Invoke our \"sum\" script.\n",
    "# This calls SCRIPT LOAD and then stores\n",
    "# the SHA1 digest of the script for future use.\n",
    "total = stats([\"hits:homepage\", \"hits:loginpage\"], [\"sum\"])\n",
    "print(total)\n",
    "assert(total == 2075)\n",
    "\n",
    "# Two more tests.\n",
    "max = stats([\"hits:homepage\", \"hits:loginpage\"], [\"max\"])\n",
    "print(max)\n",
    "assert(max == 2000)"
   ]
  },
  {
   "cell_type": "code",
   "execution_count": 21,
   "id": "promising-buyer",
   "metadata": {},
   "outputs": [
    {
     "data": {
      "text/plain": [
       "b'2000'"
      ]
     },
     "execution_count": 21,
     "metadata": {},
     "output_type": "execute_result"
    }
   ],
   "source": [
    "redis.get(\"hits:homepage\")"
   ]
  },
  {
   "cell_type": "markdown",
   "id": "second-sharp",
   "metadata": {},
   "source": [
    "## Lua Script (ZINCRBY and ZINCRBYFLOAT)"
   ]
  },
  {
   "cell_type": "code",
   "execution_count": 33,
   "id": "quality-kansas",
   "metadata": {},
   "outputs": [],
   "source": [
    "zscript_lua =\"\"\"\n",
    "    -- explain\n",
    "    local zsetMembers = redis.call('zrange', KEYS[1], '0', '-1')\n",
    "    for k,member in pairs(zsetMembers) do\n",
    "        redis.call('zincrby', KEYS[1], 1, member)\n",
    "    end\n",
    "\"\"\""
   ]
  },
  {
   "cell_type": "code",
   "execution_count": 39,
   "id": "million-isaac",
   "metadata": {},
   "outputs": [
    {
     "name": "stdout",
     "output_type": "stream",
     "text": [
      "[(b'one', 1.0), (b'two', 2.0)]\n"
     ]
    }
   ],
   "source": [
    "redis.zadd(\"myzset\",{'one':1})\n",
    "redis.zadd(\"myzset\", {'two':2})\n",
    "\n",
    "print(redis.zrange('myzset', 0,-1,withscores = True))\n",
    "\n",
    "# Register our script with the Redis Python client and\n",
    "# return a callable object for invoking our script.\n",
    "lua_script = redis.register_script(zscript_lua)\n"
   ]
  },
  {
   "cell_type": "code",
   "execution_count": 41,
   "id": "retained-agreement",
   "metadata": {},
   "outputs": [
    {
     "name": "stdout",
     "output_type": "stream",
     "text": [
      "None\n"
     ]
    }
   ],
   "source": [
    "# Invoke our \"sum\" script.\n",
    "# This calls SCRIPT LOAD and then stores\n",
    "# the SHA1 digest of the script for future use.\n",
    "total = lua_script([\"myzset\"])\n",
    "print(total)"
   ]
  },
  {
   "cell_type": "code",
   "execution_count": 42,
   "id": "naughty-ottawa",
   "metadata": {},
   "outputs": [
    {
     "name": "stdout",
     "output_type": "stream",
     "text": [
      "[(b'one', 2.0), (b'two', 3.0)]\n"
     ]
    }
   ],
   "source": [
    "print(redis.zrange('myzset', 0,-1,withscores = True))"
   ]
  },
  {
   "cell_type": "code",
   "execution_count": 43,
   "id": "mighty-dimension",
   "metadata": {},
   "outputs": [],
   "source": [
    "########################################"
   ]
  },
  {
   "cell_type": "code",
   "execution_count": 62,
   "id": "ranging-portugal",
   "metadata": {},
   "outputs": [
    {
     "name": "stdout",
     "output_type": "stream",
     "text": [
      "original\n",
      "[(b'one', 1.0), (b'two', 2.0), (b'three', 3.0)]\n",
      "After lua\n",
      "[(b'one', 76.5), (b'two', 77.5), (b'three', 78.5)]\n"
     ]
    }
   ],
   "source": [
    "zscript_lua =\"\"\"\n",
    "    -- first set a local var, zsetMembers, this will call the whole zset range\n",
    "    local zsetMembers = redis.call('zrange', KEYS[1], '0', '-1')\n",
    "    -- set k2 to be equal to the a KV, and grab the value, the value will be what you incrby\n",
    "    local k2 = redis.call('get', KEYS[2])\n",
    "    \n",
    "    -- loop through each zset\n",
    "    for k,member in pairs(zsetMembers) do\n",
    "        \n",
    "        -- for each zset incrby the k2 val\n",
    "        redis.call('zincrby', KEYS[1], k2, member)\n",
    "    end\n",
    "\"\"\"\n",
    "\n",
    "\n",
    "redis.zadd(\"myzset\",{'one':1})\n",
    "redis.zadd(\"myzset\", {'two':2})\n",
    "redis.zadd(\"myzset\", {'three':3})\n",
    "redis.set(\"myincrby\", 75.5)\n",
    "\n",
    "print('original')\n",
    "print(redis.zrange('myzset', 0,-1,withscores = True))\n",
    "\n",
    "# Register our script with the Redis Python client and\n",
    "# return a callable object for invoking our script.\n",
    "lua_script = redis.register_script(zscript_lua)\n",
    "\n",
    "# Invoke our \"sum\" script.\n",
    "# This calls SCRIPT LOAD and then stores\n",
    "# the SHA1 digest of the script for future use.\n",
    "total = lua_script([\"myzset\",\"myincrby\"])\n",
    "print('After lua')\n",
    "print(redis.zrange('myzset', 0,-1,withscores = True))"
   ]
  },
  {
   "cell_type": "code",
   "execution_count": null,
   "id": "senior-finger",
   "metadata": {},
   "outputs": [],
   "source": []
  }
 ],
 "metadata": {
  "kernelspec": {
   "display_name": "Python 3",
   "language": "python",
   "name": "python3"
  },
  "language_info": {
   "codemirror_mode": {
    "name": "ipython",
    "version": 3
   },
   "file_extension": ".py",
   "mimetype": "text/x-python",
   "name": "python",
   "nbconvert_exporter": "python",
   "pygments_lexer": "ipython3",
   "version": "3.8.8"
  }
 },
 "nbformat": 4,
 "nbformat_minor": 5
}
