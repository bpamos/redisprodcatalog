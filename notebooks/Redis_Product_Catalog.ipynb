{
 "cells": [
  {
   "cell_type": "markdown",
   "id": "german-examination",
   "metadata": {},
   "source": [
    "# Redis Product Catalog"
   ]
  },
  {
   "cell_type": "markdown",
   "id": "square-carter",
   "metadata": {},
   "source": [
    "## Product Catalog Use Case\n",
    "\n",
    "In the last session several common Redis use cases were discussed. Now, lets consider using Redis as our primary database for a product catalog for a new online store. It will need to store product details including a name, description, vendor, price, main category and some images."
   ]
  },
  {
   "cell_type": "markdown",
   "id": "beautiful-alias",
   "metadata": {},
   "source": [
    "## Requirements:\n",
    "\n",
    "* Product information stored in the database should include: name, description, vendor, price, category, images associated with that product.\n",
    "* Ability to create/update/delete product details\n",
    "* Ability to find product by ID\n",
    "* Ability to find products in category X\n",
    "* Ability to find product by its name or part of its name"
   ]
  },
  {
   "cell_type": "markdown",
   "id": "antique-breach",
   "metadata": {},
   "source": [
    "## Step 3 - Logical Data Model:\n",
    "\n",
    "The logical data model is separate from the DBMS being used.\n",
    "It defines the structure of data elements and to set relationships between them.\n",
    "\n",
    "* Product Image\n",
    "    * Id: Number\n",
    "    * Value: Binary\n",
    "\n",
    "* Product\n",
    "    * Id: Number\n",
    "    * Name: String\n",
    "    * Description: String\n",
    "    * Vendor: String\n",
    "    * Price: Number\n",
    "    * Currency: String\n",
    "    * MainCategory: Category (1)\n",
    "    * Images: Image (0..n)\n",
    " \n",
    "* Category\n",
    "    * id: Number\n",
    "    * Name: String\n",
    "    * Products: Product (0..n)"
   ]
  },
  {
   "cell_type": "code",
   "execution_count": 1,
   "id": "complete-techno",
   "metadata": {},
   "outputs": [],
   "source": [
    "# Lets make some sample products in a json:"
   ]
  },
  {
   "cell_type": "code",
   "execution_count": 2,
   "id": "northern-application",
   "metadata": {},
   "outputs": [],
   "source": []
  },
  {
   "cell_type": "code",
   "execution_count": 1,
   "id": "expressed-controversy",
   "metadata": {},
   "outputs": [],
   "source": [
    "# Product Image\n",
    "product_image = {\n",
    "\"Id\": 1,\n",
    "\"Value\": 'binaryvalue'\n",
    "}"
   ]
  },
  {
   "cell_type": "code",
   "execution_count": 2,
   "id": "fitted-layer",
   "metadata": {},
   "outputs": [],
   "source": [
    "# Product\n",
    "product = {\n",
    "    'Id': 1,\n",
    "    'Name': 'ProductA',\n",
    "    'Description': 'Chicken',\n",
    "    'Vendor': 'Walmart',\n",
    "    'Price': 10,\n",
    "    'Currency': 'dollars',\n",
    "    'MainCategory': 1, # mapped to category (Id)\n",
    "    'Images': [1,2,3,4] # mapped to product_image (Id)\n",
    "}"
   ]
  },
  {
   "cell_type": "code",
   "execution_count": 3,
   "id": "minute-sperm",
   "metadata": {},
   "outputs": [],
   "source": [
    "# Category\n",
    "category = {\n",
    "    \"Id\": 1,\n",
    "    \"Name\": 'ProductA',\n",
    "    \"Products\": [1,2,3] # mapped to product (Id)\n",
    "}"
   ]
  },
  {
   "cell_type": "code",
   "execution_count": null,
   "id": "radical-windsor",
   "metadata": {},
   "outputs": [],
   "source": []
  },
  {
   "cell_type": "markdown",
   "id": "twelve-enlargement",
   "metadata": {},
   "source": [
    "## Step 4 - Convert to Physical Data Model for Redis:\n",
    "\n",
    "How would you take this logical data model and turn it into a physical model in Redis?\n",
    "\n",
    "What data structures would you use to meet the requirements listed above?\n",
    "\n",
    "How to index and query the data?\n",
    "\n",
    "Be ready to show via redis-cli (or Insight) how you stored the data and how you are able to find the product by ID, list all prodcuts in a given category and find a Product by full or partial name."
   ]
  },
  {
   "cell_type": "code",
   "execution_count": 165,
   "id": "built-beijing",
   "metadata": {},
   "outputs": [],
   "source": [
    "# import redis\n",
    "import redis\n",
    "import os\n",
    "\n",
    "# connect redis to localhost and port\n",
    "redis = redis.Redis(host='localhost', port=6379, db=0)"
   ]
  },
  {
   "cell_type": "code",
   "execution_count": 166,
   "id": "measured-district",
   "metadata": {},
   "outputs": [
    {
     "data": {
      "text/plain": [
       "{'product_image:1457441629': {'Value': 100}}"
      ]
     },
     "execution_count": 166,
     "metadata": {},
     "output_type": "execute_result"
    }
   ],
   "source": [
    "# product image: what should we store it as in redis?\n",
    "product_image"
   ]
  },
  {
   "cell_type": "code",
   "execution_count": 167,
   "id": "optical-latino",
   "metadata": {},
   "outputs": [],
   "source": [
    "# it looks like we can store it as a simple String (key value pair)\n",
    "# we will need to fix the structure how how we deal with this though."
   ]
  },
  {
   "cell_type": "code",
   "execution_count": 168,
   "id": "loaded-cuisine",
   "metadata": {},
   "outputs": [],
   "source": [
    "# lets make a product image data structure in python\n",
    "def product_image_kv(product_id, value):\n",
    "    product_image = {f\"product_image:{product_id}\":{\n",
    "    'Value': value,\n",
    "    }}\n",
    "    return product_image"
   ]
  },
  {
   "cell_type": "code",
   "execution_count": 169,
   "id": "described-empty",
   "metadata": {},
   "outputs": [
    {
     "data": {
      "text/plain": [
       "{'product_image:1471133404': {'Value': 100}}"
      ]
     },
     "execution_count": 169,
     "metadata": {},
     "output_type": "execute_result"
    }
   ],
   "source": [
    "# lets create some values\n",
    "import random\n",
    "\n",
    "random.seed()\n",
    "product_id = random.getrandbits(32)\n",
    "value = 100\n",
    "\n",
    "product_image = product_image_kv(product_id, value)\n",
    "product_image"
   ]
  },
  {
   "cell_type": "code",
   "execution_count": 170,
   "id": "african-paradise",
   "metadata": {},
   "outputs": [
    {
     "name": "stdout",
     "output_type": "stream",
     "text": [
      "product_image:1471133404\n",
      "b'100'\n"
     ]
    }
   ],
   "source": [
    "# lets convert it to a redis data structure (a string, a key value)\n",
    "for Id, product_dict in product_image.items():\n",
    "    #print(Id, product_dict)\n",
    "    for k,v in product_dict.items():\n",
    "            #redis.set(Id,v)\n",
    "            #print(k,v)\n",
    "            redis.set(Id,v)\n",
    "    #check it out\n",
    "    print(Id)\n",
    "    print(redis.get(Id))\n",
    "    "
   ]
  },
  {
   "cell_type": "code",
   "execution_count": null,
   "id": "under-outdoors",
   "metadata": {},
   "outputs": [],
   "source": []
  },
  {
   "cell_type": "code",
   "execution_count": null,
   "id": "essential-twins",
   "metadata": {},
   "outputs": [],
   "source": []
  },
  {
   "cell_type": "code",
   "execution_count": 171,
   "id": "welsh-solution",
   "metadata": {},
   "outputs": [],
   "source": [
    "# lets make the Category data model"
   ]
  },
  {
   "cell_type": "code",
   "execution_count": 172,
   "id": "laden-declaration",
   "metadata": {},
   "outputs": [
    {
     "name": "stdout",
     "output_type": "stream",
     "text": [
      "Meat\n"
     ]
    }
   ],
   "source": [
    "print(category)"
   ]
  },
  {
   "cell_type": "code",
   "execution_count": 173,
   "id": "proper-track",
   "metadata": {},
   "outputs": [],
   "source": [
    "# we will need to follow a similar process that we did with the product image.\n",
    "# this time, we cant use a string data structure, we need a different one.\n",
    "# a Hash is really the best option\n",
    "\n",
    "# the challenge here is that we need to map in all the product ids."
   ]
  },
  {
   "cell_type": "code",
   "execution_count": 174,
   "id": "fossil-florida",
   "metadata": {},
   "outputs": [],
   "source": [
    "def category_hash(category_id, name, products):\n",
    "    category = {f\"category:{category_id}\":{\n",
    "    'Name': name,\n",
    "    'Products': products\n",
    "    }}\n",
    "    return category"
   ]
  },
  {
   "cell_type": "code",
   "execution_count": 175,
   "id": "outdoor-peninsula",
   "metadata": {},
   "outputs": [
    {
     "data": {
      "text/plain": [
       "{'category:1254762292': {'Name': 'Meat', 'Products': [1, 2, 5, 6, 7]}}"
      ]
     },
     "execution_count": 175,
     "metadata": {},
     "output_type": "execute_result"
    }
   ],
   "source": [
    "import random\n",
    "\n",
    "random.seed()\n",
    "category_id = random.getrandbits(32)\n",
    "name = 'Meat'\n",
    "products = [1,2,5,6,7]\n",
    "\n",
    "category = category_hash(category_id, name, products)\n",
    "category"
   ]
  },
  {
   "cell_type": "code",
   "execution_count": 176,
   "id": "preliminary-colors",
   "metadata": {},
   "outputs": [
    {
     "name": "stdout",
     "output_type": "stream",
     "text": [
      "category:1254762292\n",
      "{b'Name': b'Meat'}\n",
      "category:1254762292:products\n",
      "{b'7', b'2', b'5', b'6', b'1'}\n"
     ]
    }
   ],
   "source": [
    "# lets convert it to a redis data structure (a string, a key value)\n",
    "for Id, category_dict in category.items():\n",
    "    #print(Id, category_dict)\n",
    "    for k,v in category_dict.items():\n",
    "            #print(k,v)\n",
    "            if k != 'Products':\n",
    "                redis.hset(Id,k,v)\n",
    "            else:\n",
    "                #print(v)\n",
    "                # add products to a new data structure with a set and a new id\n",
    "                for i in v:\n",
    "                    #print(i)\n",
    "                    set_id_products = f\"{Id}:products\"\n",
    "                    redisList = redis.sadd(set_id_products,i)\n",
    "            #redis.hset(Id,k,v)\n",
    "    #check it out\n",
    "    print(Id)\n",
    "    print(redis.hgetall(Id))\n",
    "    print(set_id_products)\n",
    "    print(redis.smembers(set_id_products))"
   ]
  },
  {
   "cell_type": "code",
   "execution_count": 177,
   "id": "functioning-horizon",
   "metadata": {},
   "outputs": [
    {
     "data": {
      "text/plain": [
       "True"
      ]
     },
     "execution_count": 177,
     "metadata": {},
     "output_type": "execute_result"
    }
   ],
   "source": [
    "redis.flushdb()"
   ]
  },
  {
   "cell_type": "code",
   "execution_count": 179,
   "id": "prime-proposal",
   "metadata": {},
   "outputs": [],
   "source": [
    "#redis.scan()"
   ]
  },
  {
   "cell_type": "code",
   "execution_count": 180,
   "id": "neither-washer",
   "metadata": {},
   "outputs": [],
   "source": [
    "# lets make a product data model\n",
    "\n",
    "# we will use a hash function.\n",
    "\n",
    "# the challenge here is the we need the image and category to fit into this model."
   ]
  },
  {
   "cell_type": "code",
   "execution_count": 181,
   "id": "cutting-confusion",
   "metadata": {},
   "outputs": [],
   "source": [
    "def product_hash(product_id, name, description, vendor, price, currency, mainCategory, images):\n",
    "    product = {f\"product:{product_id}\":{\n",
    "    'Name': name,\n",
    "    'Description': description,\n",
    "    'Vendor': vendor,\n",
    "    'Price': price,\n",
    "    'Currency': currency,\n",
    "    'MainCategory': mainCategory, # mapped to category (Id)\n",
    "    'Images':  images# mapped to product_image (Id)\n",
    "    }}\n",
    "    return product"
   ]
  },
  {
   "cell_type": "code",
   "execution_count": 182,
   "id": "sacred-position",
   "metadata": {},
   "outputs": [],
   "source": [
    "import random\n",
    "\n",
    "random.seed()\n",
    "product_id = random.getrandbits(32)\n",
    "name = 'ProductA'\n",
    "description = 'Chicken'\n",
    "vendor = 'CostCo'\n",
    "price = 12\n",
    "currency = 'dollars'\n",
    "mainCategory = [1,5,67,8]\n",
    "images = [1,2,3,4]\n",
    "\n",
    "products = product_hash(product_id, name, description, vendor, price, currency, mainCategory, images)"
   ]
  },
  {
   "cell_type": "code",
   "execution_count": 183,
   "id": "consistent-blind",
   "metadata": {},
   "outputs": [
    {
     "name": "stdout",
     "output_type": "stream",
     "text": [
      "product:3748912688\n",
      "{b'Name': b'ProductA', b'Description': b'Chicken', b'Vendor': b'CostCo', b'Price': b'12', b'Currency': b'dollars'}\n",
      "product:3748912688:maincat\n",
      "{b'5', b'67', b'1', b'8'}\n",
      "product:3748912688:images\n",
      "{b'2', b'4', b'1', b'3'}\n"
     ]
    }
   ],
   "source": [
    "# lets convert it to a redis data structure (a string, a key value)\n",
    "for Id, product_dict in products.items():\n",
    "    #print(Id, product_dict)\n",
    "    for k,v in product_dict.items():\n",
    "            #print(k,v)\n",
    "            if k != 'MainCategory' and k != 'Images':\n",
    "                redis.hset(Id,k,v)\n",
    "            elif k == 'MainCategory':\n",
    "                #print(v)\n",
    "                # add products to a new data structure with a set and a new id\n",
    "                for i in v:\n",
    "                    #print(i)\n",
    "                    set_id_maincat = f\"{Id}:maincat\"\n",
    "                    redis.sadd(set_id_maincat,i)\n",
    "            elif k == 'Images':\n",
    "                #print(v)\n",
    "                # add products to a new data structure with a set and a new id\n",
    "                for i in v:\n",
    "                    #print(i)\n",
    "                    set_id_images = f\"{Id}:images\"\n",
    "                    redis.sadd(set_id_images,i)\n",
    "            #redis.hset(Id,k,v)\n",
    "    #check it out\n",
    "    print(Id)\n",
    "    print(redis.hgetall(Id))\n",
    "    print(set_id_maincat)\n",
    "    print(redis.smembers(set_id_maincat))\n",
    "    print(set_id_images)\n",
    "    print(redis.smembers(set_id_images))"
   ]
  },
  {
   "cell_type": "code",
   "execution_count": 195,
   "id": "joined-niagara",
   "metadata": {},
   "outputs": [
    {
     "data": {
      "text/plain": [
       "(0, [b'product:3748912688:images'])"
      ]
     },
     "execution_count": 195,
     "metadata": {},
     "output_type": "execute_result"
    }
   ],
   "source": [
    "redis.scan(0,'product*')"
   ]
  },
  {
   "cell_type": "code",
   "execution_count": 257,
   "id": "injured-walker",
   "metadata": {},
   "outputs": [
    {
     "data": {
      "text/plain": [
       "3"
      ]
     },
     "execution_count": 257,
     "metadata": {},
     "output_type": "execute_result"
    }
   ],
   "source": [
    "redis.incr('cat', 1)\n",
    "redis.get('cat')"
   ]
  },
  {
   "cell_type": "code",
   "execution_count": 259,
   "id": "representative-efficiency",
   "metadata": {},
   "outputs": [
    {
     "data": {
      "text/plain": [
       "b'3'"
      ]
     },
     "execution_count": 259,
     "metadata": {},
     "output_type": "execute_result"
    }
   ],
   "source": [
    "redis.get('cat')"
   ]
  },
  {
   "cell_type": "code",
   "execution_count": 201,
   "id": "fourth-basket",
   "metadata": {},
   "outputs": [],
   "source": [
    "name = 'cat'\n",
    "if redis.sadd('product-names',name) == 1:\n",
    "    print('yes')\n"
   ]
  },
  {
   "cell_type": "code",
   "execution_count": 198,
   "id": "baking-involvement",
   "metadata": {},
   "outputs": [
    {
     "data": {
      "text/plain": [
       "{b'cat'}"
      ]
     },
     "execution_count": 198,
     "metadata": {},
     "output_type": "execute_result"
    }
   ],
   "source": [
    "redis.smembers('product-names')"
   ]
  },
  {
   "cell_type": "code",
   "execution_count": 192,
   "id": "dangerous-cooperative",
   "metadata": {},
   "outputs": [
    {
     "data": {
      "text/plain": [
       "b'ProductA'"
      ]
     },
     "execution_count": 192,
     "metadata": {},
     "output_type": "execute_result"
    }
   ],
   "source": [
    "redis.hget('product:3748912688','Name')"
   ]
  },
  {
   "cell_type": "code",
   "execution_count": 557,
   "id": "magnetic-footwear",
   "metadata": {},
   "outputs": [
    {
     "data": {
      "text/plain": [
       "1"
      ]
     },
     "execution_count": 557,
     "metadata": {},
     "output_type": "execute_result"
    }
   ],
   "source": [
    "redis.zadd('my-images',{10:3})"
   ]
  },
  {
   "cell_type": "code",
   "execution_count": 565,
   "id": "colored-nurse",
   "metadata": {},
   "outputs": [
    {
     "data": {
      "text/plain": [
       "[(b'binaryvalue4', 1.0), (b'value1', 0.0)]"
      ]
     },
     "execution_count": 565,
     "metadata": {},
     "output_type": "execute_result"
    }
   ],
   "source": [
    "redis.zadd('my-images',{'value1':0})\n",
    "redis.zrevrange('my-images',0,4,withscores=True)"
   ]
  },
  {
   "cell_type": "code",
   "execution_count": 568,
   "id": "signed-acting",
   "metadata": {},
   "outputs": [
    {
     "data": {
      "text/plain": [
       "2.0"
      ]
     },
     "execution_count": 568,
     "metadata": {},
     "output_type": "execute_result"
    }
   ],
   "source": [
    "redis.zincrby('my-images',1,'value1')"
   ]
  },
  {
   "cell_type": "code",
   "execution_count": 605,
   "id": "extra-domain",
   "metadata": {},
   "outputs": [
    {
     "name": "stdout",
     "output_type": "stream",
     "text": [
      "6\n"
     ]
    }
   ],
   "source": [
    "image_zset_id = 'my-images'\n",
    "image_binary_val = 'myBinary5'\n",
    "print(redis.zcard(image_zset_id))\n",
    "if redis.zcard(image_zset_id) > 0:\n",
    "    top_score=redis.zrevrange(image_zset_id,0,0,withscores=True)\n",
    "    top_score_incr = top_score[0][1] + 1\n",
    "    redis.zadd(image_zset_id,{image_binary_val:top_score_incr})\n",
    "else:\n",
    "    redis.zadd(image_zset_id,{image_binary_val:0})"
   ]
  },
  {
   "cell_type": "code",
   "execution_count": 606,
   "id": "portable-exploration",
   "metadata": {},
   "outputs": [
    {
     "data": {
      "text/plain": [
       "[(b'myBinary5', 6.0),\n",
       " (b'myBinary4', 4.0),\n",
       " (b'myBinary3', 3.0),\n",
       " (b'myBinary2', 2.0),\n",
       " (b'myBinary1', 1.0),\n",
       " (b'myBinary', 0.0)]"
      ]
     },
     "execution_count": 606,
     "metadata": {},
     "output_type": "execute_result"
    }
   ],
   "source": [
    "redis.zrevrange(image_zset_id,0,-1,withscores=True)"
   ]
  },
  {
   "cell_type": "code",
   "execution_count": 634,
   "id": "fitted-plaza",
   "metadata": {},
   "outputs": [
    {
     "data": {
      "text/plain": [
       "[b'myBinary6', b'myBinary5', b'myBinary3', b'myBinary3']"
      ]
     },
     "execution_count": 634,
     "metadata": {},
     "output_type": "execute_result"
    }
   ],
   "source": [
    "image_list_id = 'my-images2'\n",
    "image_binary_val = 'myBinary6'\n",
    "\n",
    "redis.lpush(image_list_id,image_binary_val)\n",
    "redis.ltrim(image_list_id,0,3)\n",
    "\n",
    "redis.lrange(image_list_id,0,-1)"
   ]
  },
  {
   "cell_type": "code",
   "execution_count": null,
   "id": "heard-graph",
   "metadata": {},
   "outputs": [],
   "source": []
  },
  {
   "cell_type": "code",
   "execution_count": null,
   "id": "owned-fields",
   "metadata": {},
   "outputs": [],
   "source": []
  },
  {
   "cell_type": "code",
   "execution_count": null,
   "id": "entertaining-reducing",
   "metadata": {},
   "outputs": [],
   "source": []
  },
  {
   "cell_type": "code",
   "execution_count": 580,
   "id": "violent-allowance",
   "metadata": {},
   "outputs": [
    {
     "data": {
      "text/plain": [
       "True"
      ]
     },
     "execution_count": 580,
     "metadata": {},
     "output_type": "execute_result"
    }
   ],
   "source": [
    "redis.flushdb()"
   ]
  },
  {
   "cell_type": "code",
   "execution_count": null,
   "id": "warming-neutral",
   "metadata": {},
   "outputs": [],
   "source": []
  },
  {
   "cell_type": "markdown",
   "id": "aerial-sponsorship",
   "metadata": {},
   "source": [
    "# Product Catalog Testing"
   ]
  },
  {
   "cell_type": "code",
   "execution_count": 41,
   "id": "favorite-requirement",
   "metadata": {},
   "outputs": [],
   "source": [
    "# what a user would put into the product catalog\n",
    "\n",
    "name = 'ProductA'\n",
    "description = 'Chicken'\n",
    "vendor = 'CostCo'\n",
    "price = 12\n",
    "currency = 'dollars'\n",
    "category = 'Meat'\n",
    "images = 'binaryValue'"
   ]
  },
  {
   "cell_type": "code",
   "execution_count": 62,
   "id": "brown-proxy",
   "metadata": {},
   "outputs": [],
   "source": [
    "import abc, json, pathlib\n",
    "from abc import abstractmethod\n",
    "from dataclasses import dataclass, field\n",
    "import numpy as np\n",
    "from pathlib import Path\n",
    "# for type annotations\n",
    "from typing import Any, Dict, List, Optional, Union, Collection\n",
    "PathOrStr = Union[Path,str]"
   ]
  },
  {
   "cell_type": "code",
   "execution_count": 75,
   "id": "interesting-petersburg",
   "metadata": {},
   "outputs": [],
   "source": [
    "# Utils\n",
    "\n",
    "def if_none(a: Any, b: Any) -> Any:\n",
    "    \"`a` if `a` is not None, otherwise `b`.\"\n",
    "    return b if a is None else a\n",
    "\n",
    "\n",
    "def to_type(a: Any, data_type):\n",
    "    \"\"\"\n",
    "    If item is None, return None, else, convert to an data_type specified\n",
    "    (ie. np.array, str, int, float, ect..)\n",
    "    :parameter: a (Any or None)\n",
    "    :returns: None or data_type(a)\n",
    "    \"\"\"\n",
    "    return None if a is None else data_type(a)"
   ]
  },
  {
   "cell_type": "code",
   "execution_count": 317,
   "id": "flexible-organizer",
   "metadata": {},
   "outputs": [],
   "source": [
    "\n",
    "class DataObject(metaclass=abc.ABCMeta):\n",
    "    \"\"\"\n",
    "    A abstract base class to work with subclasses `DeviationSurvey` and `CalculableObject`.\n",
    "    \"\"\"\n",
    "    @abstractmethod\n",
    "    def from_json(self):\n",
    "        pass\n",
    "\n",
    "    @abstractmethod\n",
    "    def validate(self):\n",
    "        pass\n",
    "\n",
    "    @abstractmethod\n",
    "    def deserialize(self):\n",
    "        pass\n",
    "\n",
    "    @abstractmethod\n",
    "    def serialize(self):\n",
    "        pass"
   ]
  },
  {
   "cell_type": "code",
   "execution_count": 322,
   "id": "dominican-calculation",
   "metadata": {},
   "outputs": [],
   "source": [
    "@dataclass\n",
    "class ProductCreate(DataObject):\n",
    "    \"\"\"\n",
    "    Dataclass for Product\n",
    "    :parameter:\n",
    "    productId:    (required) product id\n",
    "    name:         (required) product name\n",
    "    description:  (required) product description\n",
    "    vendor:       (required) product vendor\n",
    "    price:        (required) product price\n",
    "    currency:     (required) currency\n",
    "    category:     (required) product category\n",
    "    images:       (required) images associated with product (binary value)\n",
    "    :returns:\n",
    "    dataclassObj: Dataclass Product object\n",
    "    \"\"\"\n",
    "\n",
    "    #productId: str\n",
    "    name: str\n",
    "    description: str\n",
    "    vendor: str\n",
    "    price: float\n",
    "    currency: str\n",
    "    category: str\n",
    "    productId: str = field(default=None, metadata={'unit': 'str'})\n",
    "    images: np.ndarray = field(default=None, metadata={'unit': 'str'})\n",
    "\n",
    "    def from_json(self):\n",
    "        super().from_json()\n",
    "\n",
    "    def serialize(self):\n",
    "        super().serialize()\n",
    "\n",
    "    def validate(self):\n",
    "        \"\"\"\n",
    "        validate different parameters to ensure that the data in the DataObject\n",
    "        will work with the directional survey functions\n",
    "        \"\"\"\n",
    "\n",
    "\n",
    "#         def validate_productId(self):\n",
    "#             \"\"\"\n",
    "#             validate that productId is a string\n",
    "#             :return: pass or TypeError\n",
    "#             \"\"\"\n",
    "#             productId_type = type(self.productId)\n",
    "#             if productId_type is str:\n",
    "#                 pass\n",
    "#             else:\n",
    "#                 raise TypeError(f\"Validation Error: productId has type {productId_type}\")\n",
    "        \n",
    "        def validate_product_name(self):\n",
    "            \"\"\"\n",
    "            validate that the product name has not been used\n",
    "            :return: pass or TypeError\n",
    "            \"\"\"\n",
    "            product_name = self.name\n",
    "            print(product_name)\n",
    "            if redis.sadd('product-names',product_name) == 1:\n",
    "                pass\n",
    "            else:\n",
    "                raise TypeError(f\"Validation Error: product name must be unique: {product_name}\")\n",
    "                \n",
    "        # run validation functions\n",
    "#         validate_productId(self)\n",
    "        validate_product_name(self)\n",
    "\n",
    "    def deserialize(self):\n",
    "        \"\"\"\n",
    "        convert dict values to their proper deserialized dict values\n",
    "        converts lists to np.arrays if not None\n",
    "        converts value to float if not None\n",
    "        converts value to str if not None\n",
    "        :parameter:\n",
    "        DataObject params\n",
    "        :return:\n",
    "        DataObject params deserialized as floats, str, int, or np.arrays\n",
    "        \"\"\"\n",
    "\n",
    "        self.productId = to_type(self.productId, str)\n",
    "        self.name = to_type(self.name, str)\n",
    "        self.description = to_type(self.description, str)\n",
    "        self.vendor = to_type(self.vendor, str)\n",
    "        self.price = to_type(self.price, float)\n",
    "        self.currency = to_type(self.currency, str)\n",
    "        self.category = to_type(self.category, str)\n",
    "        self.images = to_type(self.images, np.array)\n",
    "\n",
    "    def __post_init__(self):\n",
    "        \"\"\"\n",
    "        validate all data,\n",
    "        serialized all validated data,\n",
    "        look in all fields and types,\n",
    "        if type is None pass,\n",
    "        else if type given doesnt match dataclass type raise error\n",
    "        \"\"\"\n",
    "        self.validate()\n",
    "        self.deserialize()\n",
    "        print(self.deserialize())\n",
    "        for (name, field_type) in self.__annotations__.items():\n",
    "            if not isinstance(self.__dict__[name], field_type):\n",
    "                current_type = type(self.__dict__[name])\n",
    "                if current_type is type(None):\n",
    "                    pass\n",
    "                else:\n",
    "                    raise ValueError(f\"The field `{name}` was assigned by `{current_type}` instead of `{field_type}`\")\n"
   ]
  },
  {
   "cell_type": "code",
   "execution_count": 416,
   "id": "numerous-clerk",
   "metadata": {},
   "outputs": [],
   "source": [
    "@dataclass\n",
    "class ProductUpdate(DataObject):\n",
    "    \"\"\"\n",
    "    Dataclass for Product\n",
    "    :parameter:\n",
    "    productId:    (required) product id\n",
    "    name:         (required) product name\n",
    "    description:  (required) product description\n",
    "    vendor:       (required) product vendor\n",
    "    price:        (required) product price\n",
    "    currency:     (required) currency\n",
    "    category:     (required) product category\n",
    "    images:       (required) images associated with product (binary value)\n",
    "    :returns:\n",
    "    dataclassObj: Dataclass Product object\n",
    "    \"\"\"\n",
    "\n",
    "    productId: str\n",
    "    name: str = field(default=None, metadata={'unit': 'str'})\n",
    "    description: str = field(default=None, metadata={'unit': 'str'})\n",
    "    vendor: str = field(default=None, metadata={'unit': 'str'})\n",
    "    price: float = field(default=None, metadata={'unit': 'float'})\n",
    "    currency: str = field(default=None, metadata={'unit': 'str'})\n",
    "    category: str = field(default=None, metadata={'unit': 'str'})\n",
    "    images: np.ndarray = field(default=None, metadata={'unit': 'str'})\n",
    "\n",
    "    def from_json(self):\n",
    "        super().from_json()\n",
    "\n",
    "    def serialize(self):\n",
    "        super().serialize()\n",
    "\n",
    "    def validate(self):\n",
    "        \"\"\"\n",
    "        validate different parameters to ensure that the data in the DataObject\n",
    "        will work with the directional survey functions\n",
    "        \"\"\"\n",
    "\n",
    "\n",
    "        def validate_productId(self):\n",
    "            \"\"\"\n",
    "            validate that productId is a string\n",
    "            :return: pass or TypeError\n",
    "            \"\"\"\n",
    "            print(self.productId)\n",
    "            print(redis.hget(self.productId,'name'))\n",
    "            if type(redis.hget(self.productId,'name')) is bytes:\n",
    "                pass\n",
    "            else:\n",
    "                raise TypeError(f\"Validation Error: productId does not exist\")\n",
    "        \n",
    "#         def validate_product_name(self):\n",
    "#             \"\"\"\n",
    "#             validate that the product name has not been used\n",
    "#             :return: pass or TypeError\n",
    "#             \"\"\"\n",
    "#             product_name = self.name\n",
    "#             print(product_name)\n",
    "#             if redis.sadd('product-names',product_name) == 1:\n",
    "#                 pass\n",
    "#             else:\n",
    "#                 raise TypeError(f\"Validation Error: product name must be unique: {product_name}\")\n",
    "                \n",
    "        # run validation functions\n",
    "        validate_productId(self)\n",
    "        #validate_product_name(self)\n",
    "\n",
    "    def deserialize(self):\n",
    "        \"\"\"\n",
    "        convert dict values to their proper deserialized dict values\n",
    "        converts lists to np.arrays if not None\n",
    "        converts value to float if not None\n",
    "        converts value to str if not None\n",
    "        :parameter:\n",
    "        DataObject params\n",
    "        :return:\n",
    "        DataObject params deserialized as floats, str, int, or np.arrays\n",
    "        \"\"\"\n",
    "\n",
    "        self.productId = to_type(self.productId, str)\n",
    "        self.name = to_type(self.name, str)\n",
    "        self.description = to_type(self.description, str)\n",
    "        self.vendor = to_type(self.vendor, str)\n",
    "        self.price = to_type(self.price, float)\n",
    "        self.currency = to_type(self.currency, str)\n",
    "        self.category = to_type(self.category, str)\n",
    "        self.images = to_type(self.images, np.array)\n",
    "\n",
    "    def __post_init__(self):\n",
    "        \"\"\"\n",
    "        validate all data,\n",
    "        serialized all validated data,\n",
    "        look in all fields and types,\n",
    "        if type is None pass,\n",
    "        else if type given doesnt match dataclass type raise error\n",
    "        \"\"\"\n",
    "        self.validate()\n",
    "        self.deserialize()\n",
    "        print(self.deserialize())\n",
    "        for (name, field_type) in self.__annotations__.items():\n",
    "            if not isinstance(self.__dict__[name], field_type):\n",
    "                current_type = type(self.__dict__[name])\n",
    "                if current_type is type(None):\n",
    "                    pass\n",
    "                else:\n",
    "                    raise ValueError(f\"The field `{name}` was assigned by `{current_type}` instead of `{field_type}`\")\n"
   ]
  },
  {
   "cell_type": "code",
   "execution_count": 406,
   "id": "changed-working",
   "metadata": {},
   "outputs": [],
   "source": [
    "class CalculableObject(DataObject):\n",
    "\n",
    "    def __init__(self, product_obj, **kwargs):\n",
    "        \"\"\"\n",
    "        DirectionalSurvey object with a wells directional survey info\n",
    "        Attributes:\n",
    "        directional_survey_points (Dataclass Object) DataObject object\n",
    "        \"\"\"\n",
    "\n",
    "        self.product_obj = product_obj\n",
    "\n",
    "    def validate(self):\n",
    "        super().validate()\n",
    "\n",
    "    def deserialize(self):\n",
    "        super().deserialize()\n",
    "\n",
    "    @classmethod\n",
    "    def from_json(cls, path: PathOrStr):\n",
    "        \"\"\"\n",
    "        Pass in a json path, either a string or a Path lib path and convert to a WellboreTrajectory data obj\n",
    "        :param:\n",
    "        -------\n",
    "         path: PathOrStr\n",
    "        :return:\n",
    "        -------\n",
    "        deviation_survey_obj: Obj\n",
    "        :examples:\n",
    "        -------\n",
    "        \"\"\"\n",
    "\n",
    "        with open(path) as json_file:\n",
    "            json_data = json.load(json_file)\n",
    "        json_file.close()\n",
    "\n",
    "        res = cls(data=json_data)  # converts json data\n",
    "        return res\n",
    "\n",
    "    def serialize(self):\n",
    "        \"\"\"\n",
    "        Convert survey object to serialized json\n",
    "        :parameter:\n",
    "        -------\n",
    "        None\n",
    "        :return:\n",
    "        -------\n",
    "        json: str\n",
    "        :examples:\n",
    "        -------\n",
    "        \"\"\"\n",
    "        \n",
    "        self.productId = to_type(self.productId, str)\n",
    "        self.name = to_type(self.name, str)\n",
    "        self.description = to_type(self.description, str)\n",
    "        self.vendor = to_type(self.vendor, str)\n",
    "        self.price = to_type(self.price, float)\n",
    "        self.currency = to_type(self.currency, str)\n",
    "        self.category = to_type(self.category, str)\n",
    "        self.images = to_type(self.images, np.array)\n",
    "\n",
    "        json_obj = dict(productId=str(self.product_obj.productId),\n",
    "                        name=str(self.product_obj.name),\n",
    "                        description=str(self.product_obj.description),\n",
    "                        vendor=str(self.product_obj.vendor),\n",
    "                        price=float(self.product_obj.price),\n",
    "                        currency=str(self.product_obj.currency),\n",
    "                        images=list(self.product_obj.images))\n",
    "\n",
    "\n",
    "        json_string = json.dumps(json_obj)  # converts a data object into a json string.\n",
    "\n",
    "        return json_string"
   ]
  },
  {
   "cell_type": "code",
   "execution_count": 646,
   "id": "prompt-religion",
   "metadata": {},
   "outputs": [],
   "source": [
    "class ProductCatalogCreate(CalculableObject):\n",
    "\n",
    "    def __init__(self, data=None):\n",
    "        \"\"\"\n",
    "        DirectionalSurvey object with a wells directional survey info\n",
    "        Attributes:\n",
    "        directional_survey_points (Dataclass Object) DataObject object\n",
    "        \"\"\"\n",
    "\n",
    "        self.data = data\n",
    "        self.product_obj = ProductCreate(**self.data)\n",
    "        \n",
    "#     def category_mapping(self):\n",
    "#         \"create a mapping for the category\"\n",
    "        \n",
    "        \n",
    "    def product_id_gen(self):\n",
    "        \"Generate the product Id\"\n",
    "        product_id_incr = redis.incr('product_id_incr', 1)\n",
    "        product_id = f\"product:{product_id_incr}\"\n",
    "        \n",
    "        self.product_obj.productId = product_id\n",
    "\n",
    "    def product_hash(self):\n",
    "        \"\"\"\n",
    "        Calculate TVD, n_s_deviation, e_w_deviation, and dls values along the wellbore\n",
    "        using md, inc, and azim arrays\n",
    "        :parameter:\n",
    "        -------\n",
    "        None\n",
    "        :return:\n",
    "        -------\n",
    "        calculated np.array values\n",
    "        tvd: np.array\n",
    "        dls: np.array\n",
    "        e_w_deviation: np.array\n",
    "        n_s_deviation: np.array\n",
    "        :examples:\n",
    "        -------\n",
    "        \"\"\"\n",
    "        # get md, inc, and azim arrays\n",
    "        product_id = self.product_obj.productId\n",
    "        name = self.product_obj.name\n",
    "        description = self.product_obj.description\n",
    "        vendor = self.product_obj.vendor\n",
    "        price = self.product_obj.price\n",
    "        currency = self.product_obj.currency\n",
    "        category = self.product_obj.category\n",
    "        images = self.product_obj.images\n",
    "        \n",
    "        redis.hset(product_id,'name',name)\n",
    "        redis.hset(product_id,'description',description)\n",
    "        redis.hset(product_id,'vendor',vendor)\n",
    "        redis.hset(product_id,'price',price)\n",
    "        redis.hset(product_id,'currency',currency)\n",
    "        redis.hset(product_id,'main-category',category)\n",
    "        \n",
    "        # create a list of images, keep only 4 per product\n",
    "        # first image in the list is the number 1 image\n",
    "        list_id_images = f\"{product_id}:images\"\n",
    "        for image_binary_val in images:\n",
    "            redis.rpush(list_id_images,str(image_binary_val))\n",
    "            redis.ltrim(list_id_images,0,3)\n",
    "            #redis.lrange(image_list_id,0,-1)\n",
    "            \n",
    "    def category_set(self):\n",
    "        \"\"\"\n",
    "        You can get the ID from the product hash and create the cateogry hash\n",
    "        you will call the current main cat product id. Find out what it is, then create a unique ID for it.\n",
    "        Like, MEAT, and then update the set??? idk. ughh\n",
    "        \"\"\"\n",
    "        product_id = self.product_obj.productId\n",
    "        category = self.product_obj.category\n",
    "        \n",
    "        category_id = f\"category:{category}\"\n",
    "        redis.sadd(category_id,product_id)\n",
    "        \n",
    "#     def image_kv(self):\n",
    "#         \"\"\"\n",
    "#         generate image key value pair\n",
    "#         \"\"\"\n",
    "#         product_id = self.product_obj.productId\n",
    "#         image = self.product_obj.image\n",
    "        \n",
    "        \n",
    "#         product_image = {f\"product_image:{product_id}\"\n",
    "\n",
    "    def generate_product_catalog(self):\n",
    "\n",
    "        self.product_id_gen()  # get generated product id\n",
    "\n",
    "        self.product_hash()  # get product hash\n",
    "        \n",
    "        self.category_set() # get category set"
   ]
  },
  {
   "cell_type": "code",
   "execution_count": 718,
   "id": "fifth-special",
   "metadata": {},
   "outputs": [],
   "source": [
    "class ProductCatalogUpdate(CalculableObject):\n",
    "\n",
    "    def __init__(self, data=None):\n",
    "        \"\"\"\n",
    "        DirectionalSurvey object with a wells directional survey info\n",
    "        Attributes:\n",
    "        directional_survey_points (Dataclass Object) DataObject object\n",
    "        \"\"\"\n",
    "\n",
    "        self.data = data\n",
    "        self.product_obj = ProductUpdate(**self.data)\n",
    "        \n",
    "\n",
    "    def product_hash_update(self):\n",
    "        \"\"\"\n",
    "        Calculate TVD, n_s_deviation, e_w_deviation, and dls values along the wellbore\n",
    "        using md, inc, and azim arrays\n",
    "        :parameter:\n",
    "        -------\n",
    "        None\n",
    "        :return:\n",
    "        -------\n",
    "        calculated np.array values\n",
    "        tvd: np.array\n",
    "        dls: np.array\n",
    "        e_w_deviation: np.array\n",
    "        n_s_deviation: np.array\n",
    "        :examples:\n",
    "        -------\n",
    "        \"\"\"\n",
    "        # get md, inc, and azim arrays\n",
    "        product_id = self.product_obj.productId\n",
    "        name = self.product_obj.name\n",
    "        description = self.product_obj.description\n",
    "        vendor = self.product_obj.vendor\n",
    "        price = self.product_obj.price\n",
    "        currency = self.product_obj.currency\n",
    "        category = self.product_obj.category\n",
    "        images = self.product_obj.images\n",
    "        \n",
    "        # update name if not none, this involves removing and replacing a product name set value\n",
    "        if name is not None: \n",
    "            # get the original value of the name in the product id\n",
    "            orig_name = redis.hget(product_id,'name')\n",
    "            # remove it from the set product-names, (must decode bytes to string)\n",
    "            orig_name = orig_name.decode(\"utf-8\")\n",
    "            redis.srem('product-names', orig_name)\n",
    "            # add it the new name to the product-names set\n",
    "            redis.sadd('product-names',name)\n",
    "            \n",
    "            # update the name in the product hash\n",
    "            redis.hset(product_id,'name',name)\n",
    "            \n",
    "        # updates if present    \n",
    "        if description is not None: redis.hset(product_id,'description',description)\n",
    "        if vendor is not None: redis.hset(product_id,'vendor',vendor)\n",
    "        if price is not None: redis.hset(product_id,'price',price)\n",
    "        if currency is not None: redis.hset(product_id,'currency',currency)\n",
    "        \n",
    "        # image updates\n",
    "        if images is not None:\n",
    "            list_id_images = f\"{product_id}:images\"\n",
    "            # reverse the nparray to keep the image order, (1st in list is best image)\n",
    "            for image_binary_val in images[::-1]:\n",
    "                # lpush image items in\n",
    "                redis.lpush(list_id_images,str(image_binary_val))\n",
    "                # ltrim the list after the 4th image\n",
    "                redis.ltrim(list_id_images,0,3)\n",
    "                #redis.lrange(image_list_id,0,-1)\n",
    "        \n",
    "    def category_update(self):\n",
    "        \"\"\"\n",
    "        You can get the ID from the product hash and create the cateogry hash\n",
    "        you will call the current main cat product id. Find out what it is, then create a unique ID for it.\n",
    "        Like, MEAT, and then update the set??? idk. ughh\n",
    "        \"\"\"\n",
    "        product_id = self.product_obj.productId\n",
    "        category = self.product_obj.category\n",
    "        \n",
    "        if category is not None:\n",
    "            \n",
    "            # get the original value of the category\n",
    "            orig_cat = redis.hget(product_id,'main-category')\n",
    "            # remove it from the set, (must decode bytes to string)\n",
    "            orig_cat = orig_cat.decode(\"utf-8\")\n",
    "            orig_cat_id = f\"category:{orig_cat}\"\n",
    "            redis.srem(orig_cat_id, product_id)\n",
    "            \n",
    "            # update in the product hash\n",
    "            redis.hset(product_id,'main-category',category)\n",
    "            \n",
    "            # add it to the new set\n",
    "            category_id = f\"category:{category}\"\n",
    "            redis.sadd(category_id,product_id)\n",
    "\n",
    "            \n",
    "            \n",
    "    def product_hash_delete(self):\n",
    "        \"\"\"\n",
    "        Calculate TVD, n_s_deviation, e_w_deviation, and dls values along the wellbore\n",
    "        using md, inc, and azim arrays\n",
    "        :parameter:\n",
    "        -------\n",
    "        None\n",
    "        :return:\n",
    "        -------\n",
    "        calculated np.array values\n",
    "        tvd: np.array\n",
    "        dls: np.array\n",
    "        e_w_deviation: np.array\n",
    "        n_s_deviation: np.array\n",
    "        :examples:\n",
    "        -------\n",
    "        \"\"\"\n",
    "        # get md, inc, and azim arrays\n",
    "        product_id = self.product_obj.productId\n",
    "        \n",
    "\n",
    "        # get the original value of the name in the product id\n",
    "        orig_name = redis.hget(product_id,'name')\n",
    "        # remove it from the set product-names, (must decode bytes to string)\n",
    "        orig_name = orig_name.decode(\"utf-8\")\n",
    "        redis.srem('product-names', orig_name)\n",
    "            \n",
    "        # delete the hash\n",
    "        redis.delete(product_id)\n",
    "        \n",
    "    def images_list_delete(self):\n",
    "        \n",
    "        product_id = self.product_obj.productId\n",
    "        #images = self.product_obj.images\n",
    "        \n",
    "\n",
    "        list_id_images = f\"{product_id}:images\"\n",
    "        redis.delete(list_id_images)\n",
    "                \n",
    "\n",
    "    def category_remove(self):\n",
    "        \"\"\"\n",
    "        You can get the ID from the product hash and create the cateogry hash\n",
    "        you will call the current main cat product id. Find out what it is, then create a unique ID for it.\n",
    "        Like, MEAT, and then update the set??? idk. ughh\n",
    "        \"\"\"\n",
    "        product_id = self.product_obj.productId\n",
    "\n",
    "        # get the original value of the category\n",
    "        orig_cat = redis.hget(product_id,'main-category')\n",
    "        # remove it from the set, (must decode bytes to string)\n",
    "        orig_cat = orig_cat.decode(\"utf-8\")\n",
    "        orig_cat_id = f\"category:{orig_cat}\"\n",
    "        redis.srem(orig_cat_id, product_id)           \n",
    "\n",
    "    def update_product_catalog(self):\n",
    "\n",
    "        self.product_hash_update()  # get product hash\n",
    "        \n",
    "        self.category_update() # get category set\n",
    "        \n",
    "    def delete_product_catalog(self):\n",
    "        \n",
    "        self.category_remove()\n",
    "        self.product_hash_delete()\n",
    "        self.images_list_delete()"
   ]
  },
  {
   "cell_type": "code",
   "execution_count": 719,
   "id": "identical-seating",
   "metadata": {},
   "outputs": [],
   "source": [
    "# testing"
   ]
  },
  {
   "cell_type": "code",
   "execution_count": null,
   "id": "independent-brisbane",
   "metadata": {},
   "outputs": [],
   "source": []
  },
  {
   "cell_type": "code",
   "execution_count": null,
   "id": "ready-snowboard",
   "metadata": {},
   "outputs": [],
   "source": []
  },
  {
   "cell_type": "code",
   "execution_count": 721,
   "id": "skilled-friday",
   "metadata": {},
   "outputs": [
    {
     "name": "stdout",
     "output_type": "stream",
     "text": [
      "Product_Q\n"
     ]
    },
    {
     "ename": "TypeError",
     "evalue": "Validation Error: product name must be unique: Product_Q",
     "output_type": "error",
     "traceback": [
      "\u001b[0;31m---------------------------------------------------------------------------\u001b[0m",
      "\u001b[0;31mTypeError\u001b[0m                                 Traceback (most recent call last)",
      "\u001b[0;32m<ipython-input-721-f462405b7768>\u001b[0m in \u001b[0;36m<module>\u001b[0;34m\u001b[0m\n\u001b[1;32m     11\u001b[0m \u001b[0;34m\u001b[0m\u001b[0m\n\u001b[1;32m     12\u001b[0m \u001b[0;34m\u001b[0m\u001b[0m\n\u001b[0;32m---> 13\u001b[0;31m \u001b[0mproduct_obj\u001b[0m \u001b[0;34m=\u001b[0m \u001b[0mProductCatalog\u001b[0m\u001b[0;34m(\u001b[0m\u001b[0mproduct_dict\u001b[0m\u001b[0;34m)\u001b[0m \u001b[0;31m# get product object\u001b[0m\u001b[0;34m\u001b[0m\u001b[0;34m\u001b[0m\u001b[0m\n\u001b[0m\u001b[1;32m     14\u001b[0m \u001b[0mprint\u001b[0m\u001b[0;34m(\u001b[0m\u001b[0;34m'product.data:'\u001b[0m\u001b[0;34m)\u001b[0m\u001b[0;34m\u001b[0m\u001b[0;34m\u001b[0m\u001b[0m\n\u001b[1;32m     15\u001b[0m \u001b[0mprint\u001b[0m\u001b[0;34m(\u001b[0m\u001b[0mproduct_obj\u001b[0m\u001b[0;34m.\u001b[0m\u001b[0mdata\u001b[0m\u001b[0;34m)\u001b[0m\u001b[0;34m\u001b[0m\u001b[0;34m\u001b[0m\u001b[0m\n",
      "\u001b[0;32m<ipython-input-646-388fc2bd25ec>\u001b[0m in \u001b[0;36m__init__\u001b[0;34m(self, data)\u001b[0m\n\u001b[1;32m      9\u001b[0m \u001b[0;34m\u001b[0m\u001b[0m\n\u001b[1;32m     10\u001b[0m         \u001b[0mself\u001b[0m\u001b[0;34m.\u001b[0m\u001b[0mdata\u001b[0m \u001b[0;34m=\u001b[0m \u001b[0mdata\u001b[0m\u001b[0;34m\u001b[0m\u001b[0;34m\u001b[0m\u001b[0m\n\u001b[0;32m---> 11\u001b[0;31m         \u001b[0mself\u001b[0m\u001b[0;34m.\u001b[0m\u001b[0mproduct_obj\u001b[0m \u001b[0;34m=\u001b[0m \u001b[0mProduct\u001b[0m\u001b[0;34m(\u001b[0m\u001b[0;34m**\u001b[0m\u001b[0mself\u001b[0m\u001b[0;34m.\u001b[0m\u001b[0mdata\u001b[0m\u001b[0;34m)\u001b[0m\u001b[0;34m\u001b[0m\u001b[0;34m\u001b[0m\u001b[0m\n\u001b[0m\u001b[1;32m     12\u001b[0m \u001b[0;34m\u001b[0m\u001b[0m\n\u001b[1;32m     13\u001b[0m \u001b[0;31m#     def category_mapping(self):\u001b[0m\u001b[0;34m\u001b[0m\u001b[0;34m\u001b[0m\u001b[0;34m\u001b[0m\u001b[0m\n",
      "\u001b[0;32m<string>\u001b[0m in \u001b[0;36m__init__\u001b[0;34m(self, name, description, vendor, price, currency, category, productId, images)\u001b[0m\n",
      "\u001b[0;32m<ipython-input-322-33af3c0e8063>\u001b[0m in \u001b[0;36m__post_init__\u001b[0;34m(self)\u001b[0m\n\u001b[1;32m     95\u001b[0m         \u001b[0;32melse\u001b[0m \u001b[0;32mif\u001b[0m \u001b[0mtype\u001b[0m \u001b[0mgiven\u001b[0m \u001b[0mdoesnt\u001b[0m \u001b[0mmatch\u001b[0m \u001b[0mdataclass\u001b[0m \u001b[0mtype\u001b[0m \u001b[0;32mraise\u001b[0m \u001b[0merror\u001b[0m\u001b[0;34m\u001b[0m\u001b[0;34m\u001b[0m\u001b[0m\n\u001b[1;32m     96\u001b[0m         \"\"\"\n\u001b[0;32m---> 97\u001b[0;31m         \u001b[0mself\u001b[0m\u001b[0;34m.\u001b[0m\u001b[0mvalidate\u001b[0m\u001b[0;34m(\u001b[0m\u001b[0;34m)\u001b[0m\u001b[0;34m\u001b[0m\u001b[0;34m\u001b[0m\u001b[0m\n\u001b[0m\u001b[1;32m     98\u001b[0m         \u001b[0mself\u001b[0m\u001b[0;34m.\u001b[0m\u001b[0mdeserialize\u001b[0m\u001b[0;34m(\u001b[0m\u001b[0;34m)\u001b[0m\u001b[0;34m\u001b[0m\u001b[0;34m\u001b[0m\u001b[0m\n\u001b[1;32m     99\u001b[0m         \u001b[0mprint\u001b[0m\u001b[0;34m(\u001b[0m\u001b[0mself\u001b[0m\u001b[0;34m.\u001b[0m\u001b[0mdeserialize\u001b[0m\u001b[0;34m(\u001b[0m\u001b[0;34m)\u001b[0m\u001b[0;34m)\u001b[0m\u001b[0;34m\u001b[0m\u001b[0;34m\u001b[0m\u001b[0m\n",
      "\u001b[0;32m<ipython-input-322-33af3c0e8063>\u001b[0m in \u001b[0;36mvalidate\u001b[0;34m(self)\u001b[0m\n\u001b[1;32m     64\u001b[0m         \u001b[0;31m# run validation functions\u001b[0m\u001b[0;34m\u001b[0m\u001b[0;34m\u001b[0m\u001b[0;34m\u001b[0m\u001b[0m\n\u001b[1;32m     65\u001b[0m \u001b[0;31m#         validate_productId(self)\u001b[0m\u001b[0;34m\u001b[0m\u001b[0;34m\u001b[0m\u001b[0;34m\u001b[0m\u001b[0m\n\u001b[0;32m---> 66\u001b[0;31m         \u001b[0mvalidate_product_name\u001b[0m\u001b[0;34m(\u001b[0m\u001b[0mself\u001b[0m\u001b[0;34m)\u001b[0m\u001b[0;34m\u001b[0m\u001b[0;34m\u001b[0m\u001b[0m\n\u001b[0m\u001b[1;32m     67\u001b[0m \u001b[0;34m\u001b[0m\u001b[0m\n\u001b[1;32m     68\u001b[0m     \u001b[0;32mdef\u001b[0m \u001b[0mdeserialize\u001b[0m\u001b[0;34m(\u001b[0m\u001b[0mself\u001b[0m\u001b[0;34m)\u001b[0m\u001b[0;34m:\u001b[0m\u001b[0;34m\u001b[0m\u001b[0;34m\u001b[0m\u001b[0m\n",
      "\u001b[0;32m<ipython-input-322-33af3c0e8063>\u001b[0m in \u001b[0;36mvalidate_product_name\u001b[0;34m(self)\u001b[0m\n\u001b[1;32m     60\u001b[0m                 \u001b[0;32mpass\u001b[0m\u001b[0;34m\u001b[0m\u001b[0;34m\u001b[0m\u001b[0m\n\u001b[1;32m     61\u001b[0m             \u001b[0;32melse\u001b[0m\u001b[0;34m:\u001b[0m\u001b[0;34m\u001b[0m\u001b[0;34m\u001b[0m\u001b[0m\n\u001b[0;32m---> 62\u001b[0;31m                 \u001b[0;32mraise\u001b[0m \u001b[0mTypeError\u001b[0m\u001b[0;34m(\u001b[0m\u001b[0;34mf\"Validation Error: product name must be unique: {product_name}\"\u001b[0m\u001b[0;34m)\u001b[0m\u001b[0;34m\u001b[0m\u001b[0;34m\u001b[0m\u001b[0m\n\u001b[0m\u001b[1;32m     63\u001b[0m \u001b[0;34m\u001b[0m\u001b[0m\n\u001b[1;32m     64\u001b[0m         \u001b[0;31m# run validation functions\u001b[0m\u001b[0;34m\u001b[0m\u001b[0;34m\u001b[0m\u001b[0;34m\u001b[0m\u001b[0m\n",
      "\u001b[0;31mTypeError\u001b[0m: Validation Error: product name must be unique: Product_Q"
     ]
    }
   ],
   "source": [
    "\n",
    "\n",
    "# example dict\n",
    "product_dict = {\n",
    "    \"name\": 'Product_Q',\n",
    "    \"description\": 'Chicken',\n",
    "    \"vendor\": 'WholeFoods',\n",
    "    \"price\": 15.5,\n",
    "    \"currency\": 'dollars',\n",
    "    \"category\": 'Meat',\n",
    "    \"images\": [1,2,3,4,5,6,7,8]\n",
    "}\n",
    "\n",
    "\n",
    "product_obj = ProductCatalog(product_dict) # get product object\n",
    "print('product.data:')\n",
    "print(product_obj.data)\n",
    "#product_obj.calculate_survey_points() # runs through min curve algo, calc lat lon points, and calc horizontal\n",
    "#print('calc object:')\n",
    "\n",
    "product_obj.generate_product_catalog()"
   ]
  },
  {
   "cell_type": "code",
   "execution_count": 711,
   "id": "senior-technician",
   "metadata": {},
   "outputs": [
    {
     "data": {
      "text/plain": [
       "{b'name': b'Product_Q',\n",
       " b'description': b'Chicken',\n",
       " b'vendor': b'WholeFoods',\n",
       " b'price': b'15.5',\n",
       " b'currency': b'dollars',\n",
       " b'main-category': b'Meat'}"
      ]
     },
     "execution_count": 711,
     "metadata": {},
     "output_type": "execute_result"
    }
   ],
   "source": [
    "redis.hgetall('product:6')"
   ]
  },
  {
   "cell_type": "code",
   "execution_count": 712,
   "id": "altered-forward",
   "metadata": {},
   "outputs": [
    {
     "data": {
      "text/plain": [
       "[b'1', b'2', b'3', b'4']"
      ]
     },
     "execution_count": 712,
     "metadata": {},
     "output_type": "execute_result"
    }
   ],
   "source": [
    "redis.lrange('product:6:images',0,-1)"
   ]
  },
  {
   "cell_type": "code",
   "execution_count": 713,
   "id": "lesser-policy",
   "metadata": {},
   "outputs": [
    {
     "data": {
      "text/plain": [
       "{b'product:1', b'product:2', b'product:4', b'product:6'}"
      ]
     },
     "execution_count": 713,
     "metadata": {},
     "output_type": "execute_result"
    }
   ],
   "source": [
    "redis.smembers('category:Meat')"
   ]
  },
  {
   "cell_type": "code",
   "execution_count": 714,
   "id": "sustained-discrimination",
   "metadata": {},
   "outputs": [
    {
     "name": "stdout",
     "output_type": "stream",
     "text": [
      "product:6\n",
      "b'Product_Q'\n",
      "None\n"
     ]
    }
   ],
   "source": [
    "# example dict\n",
    "product_dict = {\n",
    "    \"productId\": 'product:6'\n",
    "}\n",
    "\n",
    "product_obj = ProductCatalogUpdate(product_dict) # get product object\n",
    "product_obj.delete_product_catalog()"
   ]
  },
  {
   "cell_type": "code",
   "execution_count": 715,
   "id": "tracked-failure",
   "metadata": {},
   "outputs": [
    {
     "data": {
      "text/plain": [
       "{}"
      ]
     },
     "execution_count": 715,
     "metadata": {},
     "output_type": "execute_result"
    }
   ],
   "source": [
    "redis.hgetall('product:6')"
   ]
  },
  {
   "cell_type": "code",
   "execution_count": 716,
   "id": "natural-egyptian",
   "metadata": {},
   "outputs": [
    {
     "data": {
      "text/plain": [
       "[]"
      ]
     },
     "execution_count": 716,
     "metadata": {},
     "output_type": "execute_result"
    }
   ],
   "source": [
    "redis.lrange('product:6:images',0,-1)"
   ]
  },
  {
   "cell_type": "code",
   "execution_count": 717,
   "id": "fitting-appendix",
   "metadata": {},
   "outputs": [
    {
     "data": {
      "text/plain": [
       "{b'product:1', b'product:2', b'product:4'}"
      ]
     },
     "execution_count": 717,
     "metadata": {},
     "output_type": "execute_result"
    }
   ],
   "source": [
    "redis.smembers('category:Meat')"
   ]
  },
  {
   "cell_type": "code",
   "execution_count": 532,
   "id": "electrical-craft",
   "metadata": {},
   "outputs": [
    {
     "data": {
      "text/plain": [
       "{b'Product_B', b'Product_C', b'product_SICK'}"
      ]
     },
     "execution_count": 532,
     "metadata": {},
     "output_type": "execute_result"
    }
   ],
   "source": [
    "redis.smembers('product-names')"
   ]
  },
  {
   "cell_type": "code",
   "execution_count": 676,
   "id": "cardiac-chart",
   "metadata": {},
   "outputs": [
    {
     "name": "stdout",
     "output_type": "stream",
     "text": [
      "product:3\n",
      "b'product_SICK'\n",
      "None\n",
      "2450\n",
      "233\n"
     ]
    }
   ],
   "source": [
    "# example dict\n",
    "product_dict = {\n",
    "    \"productId\": 'product:3',\n",
    "    \"name\": 'product_SICK',\n",
    "    \"description\": 'ChickenBUTTS',\n",
    "    \"vendor\": 'WholeFoodsBUTSS',\n",
    "    \"price\": 1202,\n",
    "    \"currency\": 'dollarsZZZZ',\n",
    "    \"category\": 'Fish',\n",
    "    \"images\": [233,2450]\n",
    "}\n",
    "\n",
    "product_obj = ProductCatalogUpdate(product_dict) # get product object\n",
    "product_obj.update_product_catalog()"
   ]
  },
  {
   "cell_type": "code",
   "execution_count": 677,
   "id": "administrative-incident",
   "metadata": {},
   "outputs": [
    {
     "data": {
      "text/plain": [
       "[b'233', b'2450', b'20', b'100']"
      ]
     },
     "execution_count": 677,
     "metadata": {},
     "output_type": "execute_result"
    }
   ],
   "source": [
    "redis.lrange('product:3:images',0,-1)"
   ]
  },
  {
   "cell_type": "code",
   "execution_count": 654,
   "id": "urban-emperor",
   "metadata": {},
   "outputs": [
    {
     "data": {
      "text/plain": [
       "{b'name': b'product_SICK',\n",
       " b'description': b'ChickenBUTTS',\n",
       " b'vendor': b'WholeFoodsBUTSS',\n",
       " b'price': b'1202.0',\n",
       " b'currency': b'dollarsZZZZ',\n",
       " b'main-category': b'Fish'}"
      ]
     },
     "execution_count": 654,
     "metadata": {},
     "output_type": "execute_result"
    }
   ],
   "source": [
    "redis.hgetall('product:3')"
   ]
  },
  {
   "cell_type": "code",
   "execution_count": 655,
   "id": "complimentary-cheese",
   "metadata": {},
   "outputs": [
    {
     "data": {
      "text/plain": [
       "{b'product:1', b'product:2'}"
      ]
     },
     "execution_count": 655,
     "metadata": {},
     "output_type": "execute_result"
    }
   ],
   "source": [
    "redis.smembers('category:Meat')"
   ]
  },
  {
   "cell_type": "code",
   "execution_count": 529,
   "id": "visible-montreal",
   "metadata": {},
   "outputs": [
    {
     "data": {
      "text/plain": [
       "{b'Product_B', b'Product_C', b'product_SICK'}"
      ]
     },
     "execution_count": 529,
     "metadata": {},
     "output_type": "execute_result"
    }
   ],
   "source": [
    "redis.smembers('product-names')"
   ]
  },
  {
   "cell_type": "code",
   "execution_count": 477,
   "id": "heavy-entity",
   "metadata": {},
   "outputs": [
    {
     "data": {
      "text/plain": [
       "{b'product:3', b'product:4', b'product:5', b'product:6', b'product:7'}"
      ]
     },
     "execution_count": 477,
     "metadata": {},
     "output_type": "execute_result"
    }
   ],
   "source": [
    "redis.smembers('category:Fish')"
   ]
  },
  {
   "cell_type": "code",
   "execution_count": null,
   "id": "everyday-crazy",
   "metadata": {},
   "outputs": [],
   "source": []
  },
  {
   "cell_type": "code",
   "execution_count": 508,
   "id": "continent-grain",
   "metadata": {},
   "outputs": [
    {
     "data": {
      "text/plain": [
       "True"
      ]
     },
     "execution_count": 508,
     "metadata": {},
     "output_type": "execute_result"
    }
   ],
   "source": [
    "redis.flushdb()\n"
   ]
  },
  {
   "cell_type": "code",
   "execution_count": 425,
   "id": "moral-morning",
   "metadata": {},
   "outputs": [
    {
     "data": {
      "text/plain": [
       "(1,\n",
       " [b'3748912688',\n",
       "  b'product:4:images',\n",
       "  b'product:1:images',\n",
       "  b'product:2:images',\n",
       "  b'category:Fish',\n",
       "  b'product:2',\n",
       "  b'product:3',\n",
       "  b'product:5',\n",
       "  b'product-names',\n",
       "  b'product:3:images'])"
      ]
     },
     "execution_count": 425,
     "metadata": {},
     "output_type": "execute_result"
    }
   ],
   "source": [
    "redis.scan(0)\n",
    "#redis.smembers('product-names')"
   ]
  },
  {
   "cell_type": "code",
   "execution_count": 384,
   "id": "lesser-citizenship",
   "metadata": {},
   "outputs": [
    {
     "data": {
      "text/plain": [
       "(0, [b'product:1:images', b'product:1'])"
      ]
     },
     "execution_count": 384,
     "metadata": {},
     "output_type": "execute_result"
    }
   ],
   "source": [
    "redis.scan(0,'product:1*')"
   ]
  },
  {
   "cell_type": "code",
   "execution_count": 376,
   "id": "ecological-module",
   "metadata": {},
   "outputs": [
    {
     "data": {
      "text/plain": [
       "(0, [b'product:1'])"
      ]
     },
     "execution_count": 376,
     "metadata": {},
     "output_type": "execute_result"
    }
   ],
   "source": [
    "redis.scan(5,'product:1*')"
   ]
  },
  {
   "cell_type": "code",
   "execution_count": 426,
   "id": "accepted-dylan",
   "metadata": {},
   "outputs": [
    {
     "data": {
      "text/plain": [
       "{b'name': b'Product_A',\n",
       " b'description': b'Chicken',\n",
       " b'vendor': b'WholeFoods',\n",
       " b'price': b'15.5',\n",
       " b'currency': b'dollars',\n",
       " b'main-category': b'Meat'}"
      ]
     },
     "execution_count": 426,
     "metadata": {},
     "output_type": "execute_result"
    }
   ],
   "source": [
    "redis.hgetall('product:1')"
   ]
  },
  {
   "cell_type": "code",
   "execution_count": 397,
   "id": "excited-syracuse",
   "metadata": {},
   "outputs": [
    {
     "data": {
      "text/plain": [
       "{b'product:1', b'product:2', b'product:3'}"
      ]
     },
     "execution_count": 397,
     "metadata": {},
     "output_type": "execute_result"
    }
   ],
   "source": [
    "redis.smembers('category:Meat')"
   ]
  },
  {
   "cell_type": "code",
   "execution_count": 387,
   "id": "impressed-thirty",
   "metadata": {},
   "outputs": [
    {
     "data": {
      "text/plain": [
       "{b'1', b'2', b'3', b'4'}"
      ]
     },
     "execution_count": 387,
     "metadata": {},
     "output_type": "execute_result"
    }
   ],
   "source": [
    "redis.smembers('product:1:images')"
   ]
  },
  {
   "cell_type": "code",
   "execution_count": null,
   "id": "united-terrain",
   "metadata": {},
   "outputs": [],
   "source": []
  },
  {
   "cell_type": "code",
   "execution_count": 164,
   "id": "applied-console",
   "metadata": {},
   "outputs": [
    {
     "data": {
      "text/plain": [
       "[]"
      ]
     },
     "execution_count": 164,
     "metadata": {},
     "output_type": "execute_result"
    }
   ],
   "source": [
    "import redis\n",
    "r = redis.StrictRedis(host='localhost', port=6379, db=0)\n",
    "r.keys()\n",
    "    \n"
   ]
  },
  {
   "cell_type": "code",
   "execution_count": null,
   "id": "lesbian-television",
   "metadata": {},
   "outputs": [],
   "source": [
    "# things to do.\n",
    "\n",
    "\"\"\"\n",
    "Create the cateogry mapping, so you have meat and an Id\n",
    "\n",
    "\n",
    "\"\"\""
   ]
  },
  {
   "cell_type": "code",
   "execution_count": null,
   "id": "treated-official",
   "metadata": {},
   "outputs": [],
   "source": [
    "redis()"
   ]
  },
  {
   "cell_type": "code",
   "execution_count": null,
   "id": "generous-dance",
   "metadata": {},
   "outputs": [],
   "source": []
  },
  {
   "cell_type": "code",
   "execution_count": null,
   "id": "serial-trustee",
   "metadata": {},
   "outputs": [],
   "source": []
  },
  {
   "cell_type": "code",
   "execution_count": 87,
   "id": "capable-values",
   "metadata": {},
   "outputs": [
    {
     "ename": "AttributeError",
     "evalue": "'ProductCatalog' object has no attribute 'productId'",
     "output_type": "error",
     "traceback": [
      "\u001b[0;31m---------------------------------------------------------------------------\u001b[0m",
      "\u001b[0;31mAttributeError\u001b[0m                            Traceback (most recent call last)",
      "\u001b[0;32m<ipython-input-87-a285fefaa42c>\u001b[0m in \u001b[0;36m<module>\u001b[0;34m\u001b[0m\n\u001b[0;32m----> 1\u001b[0;31m \u001b[0mjson_ds\u001b[0m \u001b[0;34m=\u001b[0m \u001b[0mproduct_obj\u001b[0m\u001b[0;34m.\u001b[0m\u001b[0mserialize\u001b[0m\u001b[0;34m(\u001b[0m\u001b[0;34m)\u001b[0m \u001b[0;31m# serialize to json\u001b[0m\u001b[0;34m\u001b[0m\u001b[0;34m\u001b[0m\u001b[0m\n\u001b[0m\u001b[1;32m      2\u001b[0m \u001b[0mjson_ds\u001b[0m\u001b[0;34m\u001b[0m\u001b[0;34m\u001b[0m\u001b[0m\n",
      "\u001b[0;32m<ipython-input-79-7d97cec69789>\u001b[0m in \u001b[0;36mserialize\u001b[0;34m(self)\u001b[0m\n\u001b[1;32m     50\u001b[0m         \"\"\"\n\u001b[1;32m     51\u001b[0m \u001b[0;34m\u001b[0m\u001b[0m\n\u001b[0;32m---> 52\u001b[0;31m         \u001b[0mself\u001b[0m\u001b[0;34m.\u001b[0m\u001b[0mproductId\u001b[0m \u001b[0;34m=\u001b[0m \u001b[0mto_type\u001b[0m\u001b[0;34m(\u001b[0m\u001b[0mself\u001b[0m\u001b[0;34m.\u001b[0m\u001b[0mproductId\u001b[0m\u001b[0;34m,\u001b[0m \u001b[0mstr\u001b[0m\u001b[0;34m)\u001b[0m\u001b[0;34m\u001b[0m\u001b[0;34m\u001b[0m\u001b[0m\n\u001b[0m\u001b[1;32m     53\u001b[0m         \u001b[0mself\u001b[0m\u001b[0;34m.\u001b[0m\u001b[0mname\u001b[0m \u001b[0;34m=\u001b[0m \u001b[0mto_type\u001b[0m\u001b[0;34m(\u001b[0m\u001b[0mself\u001b[0m\u001b[0;34m.\u001b[0m\u001b[0mname\u001b[0m\u001b[0;34m,\u001b[0m \u001b[0mstr\u001b[0m\u001b[0;34m)\u001b[0m\u001b[0;34m\u001b[0m\u001b[0;34m\u001b[0m\u001b[0m\n\u001b[1;32m     54\u001b[0m         \u001b[0mself\u001b[0m\u001b[0;34m.\u001b[0m\u001b[0mdescription\u001b[0m \u001b[0;34m=\u001b[0m \u001b[0mto_type\u001b[0m\u001b[0;34m(\u001b[0m\u001b[0mself\u001b[0m\u001b[0;34m.\u001b[0m\u001b[0mdescription\u001b[0m\u001b[0;34m,\u001b[0m \u001b[0mstr\u001b[0m\u001b[0;34m)\u001b[0m\u001b[0;34m\u001b[0m\u001b[0;34m\u001b[0m\u001b[0m\n",
      "\u001b[0;31mAttributeError\u001b[0m: 'ProductCatalog' object has no attribute 'productId'"
     ]
    }
   ],
   "source": [
    "json_ds = product_obj.serialize() # serialize to json\n",
    "json_ds"
   ]
  },
  {
   "cell_type": "code",
   "execution_count": null,
   "id": "criminal-staff",
   "metadata": {},
   "outputs": [],
   "source": []
  },
  {
   "cell_type": "code",
   "execution_count": null,
   "id": "traditional-arbitration",
   "metadata": {},
   "outputs": [],
   "source": []
  },
  {
   "cell_type": "code",
   "execution_count": null,
   "id": "final-underground",
   "metadata": {},
   "outputs": [],
   "source": []
  },
  {
   "cell_type": "code",
   "execution_count": null,
   "id": "original-context",
   "metadata": {},
   "outputs": [],
   "source": []
  },
  {
   "cell_type": "code",
   "execution_count": null,
   "id": "mediterranean-benjamin",
   "metadata": {},
   "outputs": [],
   "source": []
  },
  {
   "cell_type": "code",
   "execution_count": 81,
   "id": "electric-place",
   "metadata": {},
   "outputs": [
    {
     "name": "stdout",
     "output_type": "stream",
     "text": [
      "product:1326692461 {'Name': 'ProductA', 'Description': 'Chicken', 'Vendor': 'CostCo', 'Price': 12, 'Currency': 'dollars', 'MainCategory': 1, 'Images': 1}\n"
     ]
    }
   ],
   "source": [
    "with redis.pipeline() as pipe:\n",
    "    for Id, product_dict in product.items():\n",
    "        print(Id, product_dict)\n",
    "        for k,v in product_dict.items():\n",
    "            pipe.hset(Id,k,v)\n",
    "    pipe.execute()"
   ]
  },
  {
   "cell_type": "code",
   "execution_count": 83,
   "id": "confidential-college",
   "metadata": {},
   "outputs": [
    {
     "name": "stdout",
     "output_type": "stream",
     "text": [
      "{b'Name': b'ProductA', b'Description': b'Chicken', b'Vendor': b'CostCo', b'Price': b'12', b'Currency': b'dollars', b'MainCategory': b'1', b'Images': b'1'}\n"
     ]
    }
   ],
   "source": [
    "print(redis.hgetall(\"product:1326692461\"))"
   ]
  },
  {
   "cell_type": "code",
   "execution_count": null,
   "id": "virtual-explorer",
   "metadata": {},
   "outputs": [],
   "source": []
  },
  {
   "cell_type": "code",
   "execution_count": null,
   "id": "continuing-memorial",
   "metadata": {},
   "outputs": [],
   "source": []
  },
  {
   "cell_type": "code",
   "execution_count": null,
   "id": "behind-pacific",
   "metadata": {},
   "outputs": [],
   "source": []
  },
  {
   "cell_type": "code",
   "execution_count": null,
   "id": "legendary-andrews",
   "metadata": {},
   "outputs": [],
   "source": []
  },
  {
   "cell_type": "code",
   "execution_count": null,
   "id": "impossible-hours",
   "metadata": {},
   "outputs": [],
   "source": []
  },
  {
   "cell_type": "code",
   "execution_count": 75,
   "id": "illegal-projector",
   "metadata": {},
   "outputs": [],
   "source": [
    "redis.get('product-image:1')"
   ]
  },
  {
   "cell_type": "code",
   "execution_count": null,
   "id": "second-communist",
   "metadata": {},
   "outputs": [],
   "source": []
  },
  {
   "cell_type": "code",
   "execution_count": 10,
   "id": "changing-anxiety",
   "metadata": {},
   "outputs": [
    {
     "name": "stdout",
     "output_type": "stream",
     "text": [
      "Id 1\n",
      "Name ProductA\n",
      "Description Chicken\n",
      "Vendor Walmart\n",
      "Price 10\n",
      "Currency dollars\n",
      "MainCategory 1\n",
      "Images [1, 2, 3, 4]\n"
     ]
    }
   ],
   "source": [
    "for k,v in product.items():\n",
    "    print(k,v)"
   ]
  },
  {
   "cell_type": "code",
   "execution_count": 7,
   "id": "corporate-burner",
   "metadata": {},
   "outputs": [],
   "source": [
    "# import redis\n",
    "import redis\n",
    "import os\n",
    "\n",
    "# connect redis to localhost and port\n",
    "redis = redis.Redis(host='localhost', port=6379, db=0)"
   ]
  },
  {
   "cell_type": "code",
   "execution_count": 8,
   "id": "suburban-sacramento",
   "metadata": {},
   "outputs": [
    {
     "data": {
      "text/plain": [
       "b'bar'"
      ]
     },
     "execution_count": 8,
     "metadata": {},
     "output_type": "execute_result"
    }
   ],
   "source": [
    "# simple commands to test\n",
    "redis.set('foo','bar')\n",
    "redis.get('foo')"
   ]
  },
  {
   "cell_type": "code",
   "execution_count": 48,
   "id": "metric-journalist",
   "metadata": {},
   "outputs": [],
   "source": [
    "import random\n",
    "\n",
    "random.seed(444)\n",
    "# create product dictionary generator.\n",
    "# identify the product id as \"product:(random int)\"\n",
    "# then add each products meta data.\n",
    "product = {f\"product:{random.getrandbits(32)}\": i for i in (\n",
    "    {\n",
    "    'Name': 'ProductA',\n",
    "    'Description': 'Chicken',\n",
    "    'Vendor': 'CostCo',\n",
    "    'Price': 10,\n",
    "    'Currency': 'dollars',\n",
    "    'MainCategory': 1, # mapped to category (Id)\n",
    "    'Images': 1 # mapped to product_image (Id)\n",
    "    },\n",
    "    {\n",
    "    'Name': 'ProductB',\n",
    "    'Description': 'Pork',\n",
    "    'Vendor': 'HEB',\n",
    "    'Price': 10,\n",
    "    'Currency': 'dollars',\n",
    "    'MainCategory': 2, # mapped to category (Id)\n",
    "    'Images': 1 # mapped to product_image (Id)\n",
    "    },\n",
    "    {\n",
    "    'Name': 'ProductC',\n",
    "    'Description': 'Duck',\n",
    "    'Vendor': 'WholeFoods',\n",
    "    'Price': 10,\n",
    "    'Currency': 'dollars',\n",
    "    'MainCategory': 4, # mapped to category (Id)\n",
    "    'Images': 1 # mapped to product_image (Id)\n",
    "    },)\n",
    "}\n"
   ]
  },
  {
   "cell_type": "code",
   "execution_count": 49,
   "id": "extraordinary-norman",
   "metadata": {},
   "outputs": [
    {
     "data": {
      "text/plain": [
       "{'product:1326692461': {'Name': 'ProductA', 'Description': 'Chicken', 'Vendor': 'CostCo', 'Price': 10, 'Currency': 'dollars', 'MainCategory': 1, 'Images': 1}, 'product:1236154736': {'Name': 'ProductB', 'Description': 'Pork', 'Vendor': 'HEB', 'Price': 10, 'Currency': 'dollars', 'MainCategory': 2, 'Images': 1}, 'product:56854717': {'Name': 'ProductC', 'Description': 'Duck', 'Vendor': 'WholeFoods', 'Price': 10, 'Currency': 'dollars', 'MainCategory': 4, 'Images': 1}}"
      ]
     },
     "execution_count": 49,
     "metadata": {},
     "output_type": "execute_result"
    }
   ],
   "source": [
    "product"
   ]
  },
  {
   "cell_type": "code",
   "execution_count": 65,
   "id": "rational-consumption",
   "metadata": {},
   "outputs": [
    {
     "name": "stdout",
     "output_type": "stream",
     "text": [
      "product:1326692461 {'Name': 'ProductA', 'Description': 'Chicken', 'Vendor': 'CostCo', 'Price': 10, 'Currency': 'dollars', 'MainCategory': 1, 'Images': 1}\n",
      "product:1236154736 {'Name': 'ProductB', 'Description': 'Pork', 'Vendor': 'HEB', 'Price': 10, 'Currency': 'dollars', 'MainCategory': 2, 'Images': 1}\n",
      "product:56854717 {'Name': 'ProductC', 'Description': 'Duck', 'Vendor': 'WholeFoods', 'Price': 10, 'Currency': 'dollars', 'MainCategory': 4, 'Images': 1}\n"
     ]
    }
   ],
   "source": [
    "\n",
    "with redis.pipeline() as pipe:\n",
    "    for Id, product_dict in product.items():\n",
    "        print(Id, product_dict)\n",
    "        for k,v in product_dict.items():\n",
    "            pipe.hset(Id,k,v)\n",
    "    pipe.execute()"
   ]
  },
  {
   "cell_type": "code",
   "execution_count": 66,
   "id": "affiliated-wheat",
   "metadata": {},
   "outputs": [
    {
     "name": "stdout",
     "output_type": "stream",
     "text": [
      "{b'Name': b'ProductC', b'Description': b'Duck', b'Vendor': b'WholeFoods', b'Price': b'10', b'Currency': b'dollars', b'MainCategory': b'4', b'Images': b'1'}\n"
     ]
    }
   ],
   "source": [
    "print(redis.hgetall(\"product:56854717\"))"
   ]
  },
  {
   "cell_type": "code",
   "execution_count": 64,
   "id": "fifth-economy",
   "metadata": {},
   "outputs": [
    {
     "data": {
      "text/plain": [
       "1"
      ]
     },
     "execution_count": 64,
     "metadata": {},
     "output_type": "execute_result"
    }
   ],
   "source": [
    "redis.hdel(\"product:1326692461\", 'Id')"
   ]
  },
  {
   "cell_type": "code",
   "execution_count": null,
   "id": "fatty-medium",
   "metadata": {},
   "outputs": [],
   "source": []
  }
 ],
 "metadata": {
  "kernelspec": {
   "display_name": "Python 3",
   "language": "python",
   "name": "python3"
  },
  "language_info": {
   "codemirror_mode": {
    "name": "ipython",
    "version": 3
   },
   "file_extension": ".py",
   "mimetype": "text/x-python",
   "name": "python",
   "nbconvert_exporter": "python",
   "pygments_lexer": "ipython3",
   "version": "3.8.8"
  }
 },
 "nbformat": 4,
 "nbformat_minor": 5
}
