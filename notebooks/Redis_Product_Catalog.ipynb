{
 "cells": [
  {
   "cell_type": "markdown",
   "id": "positive-luther",
   "metadata": {},
   "source": [
    "# Redis Product Catalog Tutorial"
   ]
  },
  {
   "cell_type": "markdown",
   "id": "qualified-session",
   "metadata": {},
   "source": [
    "## Product Catalog Use Case\n",
    "\n",
    "In the last session several common Redis use cases were discussed. Now, lets consider using Redis as our primary database for a product catalog for a new online store. It will need to store product details including a name, description, vendor, price, main category and some images.\n",
    "\n",
    "\n",
    "## Requirements:\n",
    "\n",
    "* Product information stored in the database should include: name, description, vendor, price, category, images associated with that product.\n",
    "* Ability to create/update/delete product details\n",
    "* Ability to find product by ID\n",
    "* Ability to find products in category X\n",
    "* Ability to find product by its name or part of its name\n",
    "\n",
    "\n",
    "## Logical Data Model:\n",
    "\n",
    "The logical data model is separate from the DBMS being used.\n",
    "It defines the structure of data elements and to set relationships between them.\n",
    "\n",
    "* Product Image\n",
    "    * Id: Number\n",
    "    * Value: Binary\n",
    "\n",
    "* Product\n",
    "    * Id: Number\n",
    "    * Name: String\n",
    "    * Description: String\n",
    "    * Vendor: String\n",
    "    * Price: Number\n",
    "    * Currency: String\n",
    "    * MainCategory: Category (1)\n",
    "    * Images: Image (0..n)\n",
    " \n",
    "* Category\n",
    "    * id: Number\n",
    "    * Name: String\n",
    "    * Products: Product (0..n)\n",
    "\n",
    "## Redis Data Model:\n",
    "\n",
    "Different than the logical model, see below"
   ]
  },
  {
   "cell_type": "code",
   "execution_count": 1,
   "id": "initial-roberts",
   "metadata": {},
   "outputs": [
    {
     "name": "stdout",
     "output_type": "stream",
     "text": [
      "/Users/brandonamos/Documents/repos/redisprodcatalog\n",
      "/Users/brandonamos/Documents/repos/redisprodcatalog\n"
     ]
    }
   ],
   "source": [
    "# first import and get to the path of the repo\n",
    "import os\n",
    "from pathlib import Path\n",
    "current_dir = Path.cwd()\n",
    "path = current_dir.parent\n",
    "print(path)\n",
    "os.chdir(path)\n",
    "current_dir = Path.cwd()\n",
    "print(current_dir)"
   ]
  },
  {
   "cell_type": "code",
   "execution_count": 2,
   "id": "after-apple",
   "metadata": {},
   "outputs": [],
   "source": [
    "# import from productcatalog\n",
    "from productcatalog.product_catalog_create import *\n",
    "from productcatalog.product_catalog_update import *\n",
    "from productcatalog.product_catalog_search import *"
   ]
  },
  {
   "cell_type": "code",
   "execution_count": 12,
   "id": "reflected-presentation",
   "metadata": {},
   "outputs": [],
   "source": [
    "# example product dict list\n",
    "product_dict_list = [\n",
    "    {\n",
    "    \"name\": 'Doritos Spicy Nacho',\n",
    "    \"description\": 'Flavored Tortilla Chip',\n",
    "    \"vendor\": 'HEB',\n",
    "    \"price\": 3.99,\n",
    "    \"currency\": 'dollars',\n",
    "    \"category\": 'Chip',\n",
    "    \"images\": [1,2,3,4,5,6,7,8]\n",
    "    },\n",
    "    {\n",
    "    \"name\": 'Doritos Salsa Verde',\n",
    "    \"description\": 'Flavored Tortilla Chip',\n",
    "    \"vendor\": 'Costco',\n",
    "    \"price\": 3.99,\n",
    "    \"currency\": 'dollars',\n",
    "    \"category\": 'Chip',\n",
    "    \"images\": [1,2,3,4,5,6,7,8]\n",
    "    },\n",
    "    {\n",
    "    \"name\": 'Doritos Flaming Hot Nacho Cheese',\n",
    "    \"description\": 'Flavored Tortilla Chip',\n",
    "    \"vendor\": 'Kroger',\n",
    "    \"price\": 3.99,\n",
    "    \"currency\": 'dollars',\n",
    "    \"category\": 'Chip',\n",
    "    \"images\": [1,2,3,4,5,6,7,8]\n",
    "    },\n",
    "    {\n",
    "    \"name\": 'Doritos Cool Ranch',\n",
    "    \"description\": 'Flavored Tortilla Chip',\n",
    "    \"vendor\": 'Doritos',\n",
    "    \"price\": 3.99,\n",
    "    \"currency\": 'dollars',\n",
    "    \"category\": 'Chip',\n",
    "    \"images\": [1,2,3,4,5,6,7,8]\n",
    "    },\n",
    "    {\n",
    "    \"name\": 'Tostitos Hint of Lime',\n",
    "    \"description\": 'Flavored Tortilla Chip',\n",
    "    \"vendor\": 'Costco',\n",
    "    \"price\": 3.99,\n",
    "    \"currency\": 'dollars',\n",
    "    \"category\": 'Chip',\n",
    "    \"images\": [1,2,3,4,5,6,7,8]\n",
    "    },\n",
    "    {\n",
    "    \"name\": 'Tostitos Scoops',\n",
    "    \"description\": 'Flavored Tortilla Chip',\n",
    "    \"vendor\": 'Kroger',\n",
    "    \"price\": 4.99,\n",
    "    \"currency\": 'dollars',\n",
    "    \"category\": 'Chip',\n",
    "    \"images\": [1,2,3,4,5,6,7,8]\n",
    "    },\n",
    "    {\n",
    "    \"name\": 'Tostitos Original',\n",
    "    \"description\": 'Flavored Tortilla Chip',\n",
    "    \"vendor\": 'Kroger',\n",
    "    \"price\": 4.99,\n",
    "    \"currency\": 'dollars',\n",
    "    \"category\": 'Chip',\n",
    "    \"images\": [1,2,3,4,5,6,7,8]\n",
    "    },\n",
    "    {\n",
    "    \"name\": 'Cheetos XXtra Flaming Hot',\n",
    "    \"description\": 'Cheese puff snack',\n",
    "    \"vendor\": 'HEB',\n",
    "    \"price\": 2.99,\n",
    "    \"currency\": 'dollars',\n",
    "    \"category\": 'Cheese_Puff',\n",
    "    \"images\": [1,2,3,4,5,6,7,8]\n",
    "    },\n",
    "    {\n",
    "    \"name\": 'Cheetos Baked Crunchy',\n",
    "    \"description\": 'Cheese puff snack',\n",
    "    \"vendor\": 'HEB',\n",
    "    \"price\": 2.99,\n",
    "    \"currency\": 'dollars',\n",
    "    \"category\": 'Cheese_Puff',\n",
    "    \"images\": [1,2,3,4,5,6,7,8]\n",
    "    },\n",
    "    {\n",
    "    \"name\": 'Cheetos Original',\n",
    "    \"description\": 'Cheese puff snack',\n",
    "    \"vendor\": 'Kroger',\n",
    "    \"price\": 2.99,\n",
    "    \"currency\": 'dollars',\n",
    "    \"category\": 'Cheese_Puff',\n",
    "    \"images\": [1,2,3,4,5,6,7,8]\n",
    "    },\n",
    "    {\n",
    "    \"name\": 'Kale',\n",
    "    \"description\": 'Leafy Greens',\n",
    "    \"vendor\": 'HEB',\n",
    "    \"price\": 5.50,\n",
    "    \"currency\": 'dollars',\n",
    "    \"category\": 'Vegetable',\n",
    "    \"images\": [1,2,3,4,5,6,7,8]\n",
    "    },\n",
    "    {\n",
    "    \"name\": 'Iceburg Lettuce',\n",
    "    \"description\": 'Leafy Greens',\n",
    "    \"vendor\": 'Kroger',\n",
    "    \"price\": 1.50,\n",
    "    \"currency\": 'dollars',\n",
    "    \"category\": 'Vegetable',\n",
    "    \"images\": [1,2,3,4,5,6,7,8]\n",
    "    },\n",
    "    {\n",
    "    \"name\": 'Butter Lettuce',\n",
    "    \"description\": 'Leafy Greens',\n",
    "    \"vendor\": 'HEB',\n",
    "    \"price\": 3.50,\n",
    "    \"currency\": 'dollars',\n",
    "    \"category\": 'Vegetable',\n",
    "    \"images\": [1,2,3,4,5,6,7,8]\n",
    "    },\n",
    "    {\n",
    "    \"name\": 'Pork',\n",
    "    \"description\": 'The Meats',\n",
    "    \"vendor\": 'HEB',\n",
    "    \"price\": 3.50,\n",
    "    \"currency\": 'dollars',\n",
    "    \"category\": 'Meat',\n",
    "    \"images\": [1,2,3,4,5,6,7,8]\n",
    "    },\n",
    "    {\n",
    "    \"name\": 'Chicken',\n",
    "    \"description\": 'The Meats',\n",
    "    \"vendor\": 'HEB',\n",
    "    \"price\": 5.50,\n",
    "    \"currency\": 'dollars',\n",
    "    \"category\": 'Meat',\n",
    "    \"images\": [1,2,3,4,5,6,7,8]\n",
    "    },\n",
    "    {\n",
    "    \"name\": 'Beef',\n",
    "    \"description\": 'The Meats',\n",
    "    \"vendor\": 'HEB',\n",
    "    \"price\": 9.50,\n",
    "    \"currency\": 'dollars',\n",
    "    \"category\": 'Meat',\n",
    "    \"images\": [1,2,3,4,5,6,7,8]\n",
    "    },\n",
    "    {\n",
    "    \"name\": 'Tuna',\n",
    "    \"description\": 'Fishy',\n",
    "    \"vendor\": 'HEB',\n",
    "    \"price\": 5.50,\n",
    "    \"currency\": 'dollars',\n",
    "    \"category\": 'Fish',\n",
    "    \"images\": [1,2,3,4,5,6,7,8]\n",
    "    },\n",
    "    {\n",
    "    \"name\": 'Whale',\n",
    "    \"description\": 'Fishy',\n",
    "    \"vendor\": 'HEB',\n",
    "    \"price\": 20.50,\n",
    "    \"currency\": 'dollars',\n",
    "    \"category\": 'Fish',\n",
    "    \"images\": [1,2,3,4,5,6,7,8]\n",
    "    },\n",
    "    {\n",
    "    \"name\": 'Snapper',\n",
    "    \"description\": 'Fishy',\n",
    "    \"vendor\": 'HEB',\n",
    "    \"price\": 12,\n",
    "    \"currency\": 'dollars',\n",
    "    \"category\": 'Fish',\n",
    "    \"images\": [1,2,3,4,5,6,7,8]\n",
    "    }\n",
    "]"
   ]
  },
  {
   "cell_type": "markdown",
   "id": "brown-wireless",
   "metadata": {},
   "source": [
    "## Flush Db to Start"
   ]
  },
  {
   "cell_type": "code",
   "execution_count": 4,
   "id": "cooperative-disposition",
   "metadata": {},
   "outputs": [
    {
     "data": {
      "text/plain": [
       "True"
      ]
     },
     "execution_count": 4,
     "metadata": {},
     "output_type": "execute_result"
    }
   ],
   "source": [
    "# lets start out by flushing the db\n",
    "import redis\n",
    "\n",
    "# connect redis to localhost and port\n",
    "redis = redis.Redis(host='localhost', port=6379, db=0)\n",
    "redis.flushdb()"
   ]
  },
  {
   "cell_type": "markdown",
   "id": "objective-backup",
   "metadata": {},
   "source": [
    "## Create a Product\n",
    "\n",
    "Lets create a product and put it in our redis db.\n",
    "\n",
    "Below is a example of what a product should look like in the database.\n",
    "While Redis is schemaless, I have required a schema in this db.\n",
    "\n",
    "Each product should have the following:\n",
    "* Name: (str)\n",
    "    * **must be unique, no duplicate names for now**\n",
    "* Description: (str)\n",
    "* Vendor: (str)\n",
    "* Price: (a int or float)\n",
    "* Currency: (str)\n",
    "* Category: (str)\n",
    "* Images: (a list of binary images)\n",
    "    * I have just used numbers for now, but it could accept binary objects."
   ]
  },
  {
   "cell_type": "code",
   "execution_count": 5,
   "id": "needed-flavor",
   "metadata": {},
   "outputs": [
    {
     "name": "stdout",
     "output_type": "stream",
     "text": [
      "This takes the dict and puts it into a dataclass object\n",
      "\n",
      "product.data:\n",
      "{'name': 'Doritos Nacho Cheese', 'description': 'Flavored Tortilla Chip', 'vendor': 'HEB', 'price': 3.99, 'currency': 'dollars', 'category': 'Chip', 'images': [1, 2, 3, 4, 5, 6, 7, 8]}\n",
      "\n",
      "product dataclass obj:\n",
      "ProductCreate(name='Doritos Nacho Cheese', description='Flavored Tortilla Chip', vendor='HEB', price=3.99, currency='dollars', category='Chip', productId=None, images=array([1, 2, 3, 4, 5, 6, 7, 8]), redisSession=[Redis<ConnectionPool<Connection<host=localhost,port=6379,db=0>>>])\n"
     ]
    }
   ],
   "source": [
    "# example dict\n",
    "product_dict = {\n",
    "    \"name\": 'Doritos Nacho Cheese',\n",
    "    \"description\": 'Flavored Tortilla Chip',\n",
    "    \"vendor\": 'HEB',\n",
    "    \"price\": 3.99,\n",
    "    \"currency\": 'dollars',\n",
    "    \"category\": 'Chip',\n",
    "    \"images\": [1,2,3,4,5,6,7,8]\n",
    "    }\n",
    "\n",
    "# Now put the product dict into ProductCatalogCreate \n",
    "# to generate the Redis Datastructures in the Redis DB\n",
    "product_obj = ProductCatalogCreate(product_dict) # get product object\n",
    "print('This takes the dict and puts it into a dataclass object')\n",
    "print('')\n",
    "print('product.data:')\n",
    "print(product_obj.data)\n",
    "print('')\n",
    "print('product dataclass obj:')\n",
    "print(product_obj.product_obj)\n",
    "\n",
    "# create the new product and put it in the db\n",
    "product_obj.generate_product_catalog()"
   ]
  },
  {
   "cell_type": "markdown",
   "id": "strange-theta",
   "metadata": {},
   "source": [
    "**Product Obj**\n",
    "\n",
    "The product obj contains all the data from the dict and also a redis client session.\n",
    "\n",
    "### What else does it create?"
   ]
  },
  {
   "cell_type": "code",
   "execution_count": 6,
   "id": "sixth-tuition",
   "metadata": {},
   "outputs": [
    {
     "data": {
      "text/plain": [
       "(0,\n",
       " [b'category:Chip',\n",
       "  b'product:1:images',\n",
       "  b'product-names',\n",
       "  b'product_id_incr',\n",
       "  b'product:1',\n",
       "  b'product-name-index'])"
      ]
     },
     "execution_count": 6,
     "metadata": {},
     "output_type": "execute_result"
    }
   ],
   "source": [
    "redis = product_obj.product_obj.redisSession[0]\n",
    "\n",
    "# do a redis scan to check out the db contents\n",
    "redis.scan()"
   ]
  },
  {
   "cell_type": "markdown",
   "id": "painted-bread",
   "metadata": {},
   "source": [
    "### Product Hash\n",
    "We get a Redis Hash of a product id. **product:1**\n",
    "\n",
    "The hash contains all the product information.\n",
    "\n",
    "The product Id is generated using a Redis Incr command, that will \n",
    "continue to increment up by 1 for each new product in the db."
   ]
  },
  {
   "cell_type": "code",
   "execution_count": 7,
   "id": "suited-assist",
   "metadata": {},
   "outputs": [
    {
     "data": {
      "text/plain": [
       "{b'name': b'Doritos Nacho Cheese',\n",
       " b'description': b'Flavored Tortilla Chip',\n",
       " b'vendor': b'HEB',\n",
       " b'price': b'3.99',\n",
       " b'currency': b'dollars',\n",
       " b'category': b'Chip'}"
      ]
     },
     "execution_count": 7,
     "metadata": {},
     "output_type": "execute_result"
    }
   ],
   "source": [
    "redis.hgetall('product:1')"
   ]
  },
  {
   "cell_type": "markdown",
   "id": "pressing-clause",
   "metadata": {},
   "source": [
    "### Product Images\n",
    "\n",
    "Since Redis does not allow for nested data structures a product image index\n",
    "was generated, this is the product id and images text concat together. (product:1:images)\n",
    "\n",
    "The product images are stored in a list. The code allows for 4 product images and drops any extra images."
   ]
  },
  {
   "cell_type": "code",
   "execution_count": 8,
   "id": "charged-teach",
   "metadata": {},
   "outputs": [
    {
     "data": {
      "text/plain": [
       "[b'1', b'2', b'3', b'4']"
      ]
     },
     "execution_count": 8,
     "metadata": {},
     "output_type": "execute_result"
    }
   ],
   "source": [
    "redis.lrange('product:1:images',0,-1)"
   ]
  },
  {
   "cell_type": "markdown",
   "id": "private-politics",
   "metadata": {},
   "source": [
    "### Category Index\n",
    "\n",
    "We create a set for the category. It is given an id of 'category:(the category from the dict)'\n",
    "\n",
    "The set will hold all the products in that category, with no duplicates"
   ]
  },
  {
   "cell_type": "code",
   "execution_count": 9,
   "id": "fitting-colombia",
   "metadata": {},
   "outputs": [
    {
     "data": {
      "text/plain": [
       "{b'product:1'}"
      ]
     },
     "execution_count": 9,
     "metadata": {},
     "output_type": "execute_result"
    }
   ],
   "source": [
    "redis.smembers('category:Chip')"
   ]
  },
  {
   "cell_type": "markdown",
   "id": "engaging-excellence",
   "metadata": {},
   "source": [
    "### Product Names:\n",
    "\n",
    "A set of all unique product names is generated just to ensure no duplicate names are used\n",
    "when attempting to put a new product in the db."
   ]
  },
  {
   "cell_type": "code",
   "execution_count": 10,
   "id": "nuclear-midnight",
   "metadata": {},
   "outputs": [
    {
     "data": {
      "text/plain": [
       "{b'Doritos Nacho Cheese'}"
      ]
     },
     "execution_count": 10,
     "metadata": {},
     "output_type": "execute_result"
    }
   ],
   "source": [
    "redis.smembers('product-names')"
   ]
  },
  {
   "cell_type": "markdown",
   "id": "ideal-florida",
   "metadata": {},
   "source": [
    "### Product Names Index:\n",
    "\n",
    "A secondary index of product names and the product Ids is generated so that it can be\n",
    "used in a Name search when you do not know the Id."
   ]
  },
  {
   "cell_type": "code",
   "execution_count": 11,
   "id": "still-conviction",
   "metadata": {},
   "outputs": [
    {
     "data": {
      "text/plain": [
       "{b'Doritos Nacho Cheese': b'product:1'}"
      ]
     },
     "execution_count": 11,
     "metadata": {},
     "output_type": "execute_result"
    }
   ],
   "source": [
    "redis.hgetall('product-name-index')"
   ]
  },
  {
   "cell_type": "markdown",
   "id": "further-reducing",
   "metadata": {},
   "source": [
    "## Now that we have seen all the data structures, lets put some data in the DB"
   ]
  },
  {
   "cell_type": "code",
   "execution_count": 13,
   "id": "chubby-rings",
   "metadata": {},
   "outputs": [],
   "source": [
    "# Loop through product dict list and put in the db.\n",
    "for item in product_dict_list:\n",
    "    \n",
    "    product_obj = ProductCatalogCreate(item) # get product object\n",
    "    product_obj.generate_product_catalog() # create products"
   ]
  },
  {
   "cell_type": "code",
   "execution_count": 14,
   "id": "sporting-ecuador",
   "metadata": {},
   "outputs": [
    {
     "data": {
      "text/plain": [
       "(12,\n",
       " [b'product:2',\n",
       "  b'product:7',\n",
       "  b'product:9',\n",
       "  b'product:18:images',\n",
       "  b'product:3:images',\n",
       "  b'category:Chip',\n",
       "  b'product:18',\n",
       "  b'product:11:images',\n",
       "  b'product:1:images',\n",
       "  b'product:9:images',\n",
       "  b'product:11'])"
      ]
     },
     "execution_count": 14,
     "metadata": {},
     "output_type": "execute_result"
    }
   ],
   "source": [
    "# do a quick scan to check if new products are present.\n",
    "redis.scan()"
   ]
  },
  {
   "cell_type": "markdown",
   "id": "transparent-scope",
   "metadata": {},
   "source": [
    "# Now lets find products, update products, and delete them:"
   ]
  },
  {
   "cell_type": "markdown",
   "id": "variable-mistress",
   "metadata": {},
   "source": [
    "### Find product by product id:"
   ]
  },
  {
   "cell_type": "code",
   "execution_count": 15,
   "id": "electronic-invasion",
   "metadata": {},
   "outputs": [],
   "source": [
    "product_id = 'product:5'"
   ]
  },
  {
   "cell_type": "code",
   "execution_count": 16,
   "id": "chief-hanging",
   "metadata": {},
   "outputs": [
    {
     "data": {
      "text/plain": [
       "{b'name': b'Doritos Cool Ranch',\n",
       " b'description': b'Flavored Tortilla Chip',\n",
       " b'vendor': b'Doritos',\n",
       " b'price': b'3.99',\n",
       " b'currency': b'dollars',\n",
       " b'category': b'Chip'}"
      ]
     },
     "execution_count": 16,
     "metadata": {},
     "output_type": "execute_result"
    }
   ],
   "source": [
    "# product find\n",
    "product_dict = {\n",
    "    \"productId\": product_id\n",
    "}\n",
    "\n",
    "product_obj = ProductCatalogSearch(product_dict) # get product object\n",
    "product_obj.find_by_product_id()"
   ]
  },
  {
   "cell_type": "markdown",
   "id": "strange-palace",
   "metadata": {},
   "source": [
    "### Lets update this product and its contents:\n",
    "\n",
    "First lets do a full update, change everything."
   ]
  },
  {
   "cell_type": "code",
   "execution_count": 17,
   "id": "bronze-paris",
   "metadata": {},
   "outputs": [],
   "source": [
    "# example dict\n",
    "product_dict = {\n",
    "    \"productId\": product_id,\n",
    "    \"name\": 'Updated Product Name',\n",
    "    \"description\": 'Updated Desc',\n",
    "    \"vendor\": 'Updated Vendor',\n",
    "    \"price\": 100,\n",
    "    \"currency\": 'Euros',\n",
    "    \"category\": 'NewCat',\n",
    "    \"images\": [233,2450]\n",
    "}\n",
    "\n",
    "product_obj = ProductCatalogUpdate(product_dict) # get product object\n",
    "product_obj.update_product() # update the product info"
   ]
  },
  {
   "cell_type": "code",
   "execution_count": 18,
   "id": "super-valve",
   "metadata": {},
   "outputs": [
    {
     "data": {
      "text/plain": [
       "{b'name': b'Updated Product Name',\n",
       " b'description': b'Updated Desc',\n",
       " b'vendor': b'Updated Vendor',\n",
       " b'price': b'100.0',\n",
       " b'currency': b'Euros',\n",
       " b'category': b'NewCat'}"
      ]
     },
     "execution_count": 18,
     "metadata": {},
     "output_type": "execute_result"
    }
   ],
   "source": [
    "# Lets find the updated product\n",
    "# product find\n",
    "product_dict = {\n",
    "    \"productId\": product_id\n",
    "}\n",
    "\n",
    "product_obj = ProductCatalogSearch(product_dict) # get product object\n",
    "product_obj.find_by_product_id()"
   ]
  },
  {
   "cell_type": "markdown",
   "id": "precise-bracelet",
   "metadata": {},
   "source": [
    "### Nice, but what about the data in those other data structures? Doesnt it need to change?\n",
    "\n",
    "Dont worry, that is all handled for you.\n",
    "Lets check it out"
   ]
  },
  {
   "cell_type": "code",
   "execution_count": 19,
   "id": "upset-sandwich",
   "metadata": {},
   "outputs": [
    {
     "name": "stdout",
     "output_type": "stream",
     "text": [
      "check out the product:\n",
      "{b'name': b'Updated Product Name', b'description': b'Updated Desc', b'vendor': b'Updated Vendor', b'price': b'100.0', b'currency': b'Euros', b'category': b'NewCat'}\n",
      "\n",
      "check out the new product images: (see how it has pushed older images out)\n",
      "[b'233', b'2450', b'1', b'2']\n",
      "\n",
      "Check out the original category: (notice the product id is gone)\n",
      "{b'product:2', b'product:4', b'product:6', b'product:1', b'product:8', b'product:3', b'product:7'}\n",
      "check out the new catagory, notice a new product!\n",
      "{b'product:5'}\n"
     ]
    }
   ],
   "source": [
    "# check out the product:\n",
    "print('check out the product:')\n",
    "print(redis.hgetall(product_id))\n",
    "\n",
    "print(\"\")\n",
    "print('check out the new product images: (see how it has pushed older images out)')\n",
    "print(redis.lrange(f\"{product_id}:images\",0,-1))\n",
    "\n",
    "print('')\n",
    "print('Check out the original category: (notice the product id is gone)')\n",
    "print(redis.smembers('category:Chip'))\n",
    "\n",
    "#print('')\n",
    "#print(redis.smembers('product-names'))\n",
    "\n",
    "print('check out the new catagory, notice a new product!')\n",
    "print(redis.smembers('category:NewCat'))"
   ]
  },
  {
   "cell_type": "markdown",
   "id": "further-freeware",
   "metadata": {},
   "source": [
    "### Lets update 1 or 2 fields:\n",
    "\n",
    "Sometimes you might just want to update a couple of fields. Lets do that"
   ]
  },
  {
   "cell_type": "code",
   "execution_count": 20,
   "id": "heard-oregon",
   "metadata": {},
   "outputs": [
    {
     "data": {
      "text/plain": [
       "{b'name': b'Updated Again',\n",
       " b'description': b'Updated Desc',\n",
       " b'vendor': b'Updated Vendor',\n",
       " b'price': b'100.0',\n",
       " b'currency': b'Euros',\n",
       " b'category': b'Chip'}"
      ]
     },
     "execution_count": 20,
     "metadata": {},
     "output_type": "execute_result"
    }
   ],
   "source": [
    "# example dict\n",
    "product_dict = {\n",
    "    \"productId\": product_id,\n",
    "    \"name\": 'Updated Again',\n",
    "    \"category\": 'Chip',\n",
    "    \"images\": ['new']\n",
    "}\n",
    "\n",
    "product_obj = ProductCatalogUpdate(product_dict) # get product object\n",
    "product_obj.update_product() # update the product info\n",
    "\n",
    "# Lets find the updated product\n",
    "# product find\n",
    "product_dict = {\n",
    "    \"productId\": product_id\n",
    "}\n",
    "product_obj = ProductCatalogSearch(product_dict) # get product object\n",
    "product_obj.find_by_product_id()"
   ]
  },
  {
   "cell_type": "code",
   "execution_count": 21,
   "id": "constant-caution",
   "metadata": {},
   "outputs": [
    {
     "name": "stdout",
     "output_type": "stream",
     "text": [
      "check out the product:\n",
      "{b'name': b'Updated Again', b'description': b'Updated Desc', b'vendor': b'Updated Vendor', b'price': b'100.0', b'currency': b'Euros', b'category': b'Chip'}\n",
      "\n",
      "check out the new product images: (see how it has pushed older images out)\n",
      "[b'new', b'233', b'2450', b'1']\n",
      "\n",
      "Check out the original category: (notice the product id is back!)\n",
      "{b'product:2', b'product:4', b'product:6', b'product:1', b'product:8', b'product:3', b'product:7', b'product:5'}\n",
      "check out the previous New cat, notice it is empty\n",
      "set()\n"
     ]
    }
   ],
   "source": [
    "# check out the product:\n",
    "print('check out the product:')\n",
    "print(redis.hgetall(product_id))\n",
    "\n",
    "print(\"\")\n",
    "print('check out the new product images: (see how it has pushed older images out)')\n",
    "print(redis.lrange(f\"{product_id}:images\",0,-1))\n",
    "\n",
    "print('')\n",
    "print('Check out the original category: (notice the product id is back!)')\n",
    "print(redis.smembers('category:Chip'))\n",
    "\n",
    "#print('')\n",
    "#print(redis.smembers('product-names'))\n",
    "\n",
    "print('check out the previous New cat, notice it is empty')\n",
    "print(redis.smembers('category:NewCat'))"
   ]
  },
  {
   "cell_type": "markdown",
   "id": "sorted-scotland",
   "metadata": {},
   "source": [
    "### We can also find images by product id only:"
   ]
  },
  {
   "cell_type": "code",
   "execution_count": 22,
   "id": "premium-image",
   "metadata": {},
   "outputs": [
    {
     "data": {
      "text/plain": [
       "[b'1', b'2', b'3', b'4']"
      ]
     },
     "execution_count": 22,
     "metadata": {},
     "output_type": "execute_result"
    }
   ],
   "source": [
    "# product images find\n",
    "product_dict = {\n",
    "    \"productId\": 'product:1'\n",
    "}\n",
    "\n",
    "product_obj = ProductCatalogSearch(product_dict) # get product object\n",
    "product_obj.find_images_by_product_id()"
   ]
  },
  {
   "cell_type": "markdown",
   "id": "confirmed-samoa",
   "metadata": {},
   "source": [
    "### Find products in a Category:"
   ]
  },
  {
   "cell_type": "code",
   "execution_count": 23,
   "id": "fallen-output",
   "metadata": {},
   "outputs": [
    {
     "name": "stdout",
     "output_type": "stream",
     "text": [
      "category:Chip\n"
     ]
    },
    {
     "data": {
      "text/plain": [
       "{b'product:1',\n",
       " b'product:2',\n",
       " b'product:3',\n",
       " b'product:4',\n",
       " b'product:5',\n",
       " b'product:6',\n",
       " b'product:7',\n",
       " b'product:8'}"
      ]
     },
     "execution_count": 23,
     "metadata": {},
     "output_type": "execute_result"
    }
   ],
   "source": [
    "# category find\n",
    "product_dict = {\n",
    "    \"category\": 'Chip'\n",
    "}\n",
    "\n",
    "product_obj = ProductCatalogSearch(product_dict) # get product object\n",
    "product_obj.find_products_in_category()"
   ]
  },
  {
   "cell_type": "code",
   "execution_count": 24,
   "id": "double-style",
   "metadata": {},
   "outputs": [
    {
     "name": "stdout",
     "output_type": "stream",
     "text": [
      "category:Cheese_Puff\n"
     ]
    },
    {
     "data": {
      "text/plain": [
       "{b'product:10', b'product:11', b'product:9'}"
      ]
     },
     "execution_count": 24,
     "metadata": {},
     "output_type": "execute_result"
    }
   ],
   "source": [
    "# category find\n",
    "product_dict = {\n",
    "    \"category\": 'Cheese_Puff'\n",
    "}\n",
    "\n",
    "product_obj = ProductCatalogSearch(product_dict) # get product object\n",
    "product_obj.find_products_in_category()"
   ]
  },
  {
   "cell_type": "markdown",
   "id": "split-explosion",
   "metadata": {},
   "source": [
    "### What happens if I dont know the Product Id? \n",
    "\n",
    "Dont worry, you can find products using the secondary index in Redis\n",
    "Just by the product Name"
   ]
  },
  {
   "cell_type": "code",
   "execution_count": 25,
   "id": "revised-opening",
   "metadata": {},
   "outputs": [
    {
     "data": {
      "text/plain": [
       "{b'name': b'Doritos Flaming Hot Nacho Cheese',\n",
       " b'description': b'Flavored Tortilla Chip',\n",
       " b'vendor': b'Kroger',\n",
       " b'price': b'3.99',\n",
       " b'currency': b'dollars',\n",
       " b'category': b'Chip'}"
      ]
     },
     "execution_count": 25,
     "metadata": {},
     "output_type": "execute_result"
    }
   ],
   "source": [
    "# find product by its name or part of its name\n",
    "product_name = 'Doritos Flaming Hot Nacho Cheese'\n",
    "#product_name = 'Doritos Nacho Cheese'\n",
    "product_dict = {\n",
    "    \"name\": product_name\n",
    "}\n",
    "\n",
    "product_obj = ProductCatalogSearch(product_dict) # get product object\n",
    "product_obj.find_products_by_name()"
   ]
  },
  {
   "cell_type": "markdown",
   "id": "innovative-thong",
   "metadata": {},
   "source": [
    "### What about if I only know the partial name?\n",
    "\n",
    "Use Full Text Search!"
   ]
  },
  {
   "cell_type": "markdown",
   "id": "electrical-black",
   "metadata": {},
   "source": [
    "# Set Up RediSearch\n",
    "\n",
    "This is not my python app yet, for now, just set it up manually"
   ]
  },
  {
   "cell_type": "markdown",
   "id": "handled-colombia",
   "metadata": {},
   "source": [
    "We will want to create a RediSearch Index, lets make it look like this one"
   ]
  },
  {
   "cell_type": "code",
   "execution_count": 26,
   "id": "superb-scientist",
   "metadata": {},
   "outputs": [
    {
     "name": "stdout",
     "output_type": "stream",
     "text": [
      "\n"
     ]
    }
   ],
   "source": [
    "# RediSearch Index\n",
    "\"\"\"\n",
    "FT.CREATE \n",
    "idx:product ON hash \n",
    "    PREFIX 1 \"product:\" \n",
    "    SCHEMA \n",
    "    name TEXT SORTABLE\n",
    "    description TEXT SORTABLE\n",
    "    vendor TAG SORTABLE\n",
    "    price NUMERIC SORTABLE\n",
    "    main-category TAG SORTABLE    \n",
    "\"\"\"\n",
    "print('')"
   ]
  },
  {
   "cell_type": "markdown",
   "id": "varying-alias",
   "metadata": {},
   "source": [
    "There are a couple of ways to do this.\n",
    "\n",
    "You can execute the following query in the redis-cli:"
   ]
  },
  {
   "cell_type": "code",
   "execution_count": 27,
   "id": "technical-theory",
   "metadata": {},
   "outputs": [],
   "source": [
    "# FT.CREATE idx:product ON hash PREFIX 1 \"product:\" SCHEMA name TEXT SORTABLE description TEXT SORTABLE vendor TAG SORTABLE price NUMERIC SORTABLE category TAG SORTABLE"
   ]
  },
  {
   "cell_type": "markdown",
   "id": "overhead-martin",
   "metadata": {},
   "source": [
    "Or you can set it up with redisearch-py package"
   ]
  },
  {
   "cell_type": "code",
   "execution_count": 28,
   "id": "alone-proposition",
   "metadata": {},
   "outputs": [
    {
     "data": {
      "text/plain": [
       "'OK'"
      ]
     },
     "execution_count": 28,
     "metadata": {},
     "output_type": "execute_result"
    }
   ],
   "source": [
    "from redisearch import Client, TextField, NumericField, TagField, IndexDefinition, Query\n",
    "\n",
    "# Creating a client with a given index name\n",
    "client = Client(\"idx:product\")\n",
    "\n",
    "# IndexDefinition is available for RediSearch 2.0+\n",
    "definition = IndexDefinition(prefix=['product:'])\n",
    "\n",
    "# Creating the index definition and schema\n",
    "client.create_index((TextField(\"name\", sortable=True), \n",
    "                     TextField(\"description\", sortable=True), \n",
    "                     TagField(\"vendor\"), \n",
    "                     NumericField(\"price\", sortable=True), \n",
    "                     TagField(\"category\")), definition=definition)"
   ]
  },
  {
   "cell_type": "markdown",
   "id": "applicable-collect",
   "metadata": {},
   "source": [
    "### Lets Run Some queries:\n",
    "\n",
    "Here is a list of queries you could run from the cli"
   ]
  },
  {
   "cell_type": "code",
   "execution_count": 29,
   "id": "round-underwear",
   "metadata": {},
   "outputs": [],
   "source": [
    "# FT.SEARCH idx:product \"Doritos\" \n",
    "\n",
    "# FT.SEARCH idx:product \"Flaming\" RETURN 2 price category \n",
    "\n",
    "#FT.SEARCH idx:product \"@vendor:{Costco|Kroger}\" RETURN 2 name price\n",
    "    \n",
    "#FT.SEARCH idx:product \"@category:{Meat|Fish} @price:[9 15]\" RETURN 3 name price category  "
   ]
  },
  {
   "cell_type": "code",
   "execution_count": 30,
   "id": "restricted-chocolate",
   "metadata": {},
   "outputs": [
    {
     "name": "stdout",
     "output_type": "stream",
     "text": [
      "total Items:\n",
      "4\n",
      "\n",
      "Doritos Nacho Cheese\n",
      "HEB\n",
      "Doritos Salsa Verde\n",
      "Costco\n",
      "Doritos Flaming Hot Nacho Cheese\n",
      "Kroger\n",
      "Doritos Spicy Nacho\n",
      "HEB\n"
     ]
    }
   ],
   "source": [
    "# Simple search using the rediSearch python package\n",
    "res = client.search(\"Doritos\")\n",
    "\n",
    "print('total Items:')\n",
    "print(res.total)\n",
    "print('')\n",
    "for item in res.docs:\n",
    "    print(item.name)\n",
    "    print(item.vendor)"
   ]
  },
  {
   "cell_type": "markdown",
   "id": "level-blogger",
   "metadata": {},
   "source": [
    "### Use the Cursor:\n",
    "Or we can just put them directy into the redis cursor:"
   ]
  },
  {
   "cell_type": "code",
   "execution_count": 31,
   "id": "republican-classroom",
   "metadata": {},
   "outputs": [
    {
     "data": {
      "text/plain": [
       "[2,\n",
       " b'product:4',\n",
       " [b'name',\n",
       "  b'Doritos Flaming Hot Nacho Cheese',\n",
       "  b'description',\n",
       "  b'Flavored Tortilla Chip',\n",
       "  b'vendor',\n",
       "  b'Kroger',\n",
       "  b'price',\n",
       "  b'3.99',\n",
       "  b'currency',\n",
       "  b'dollars',\n",
       "  b'category',\n",
       "  b'Chip'],\n",
       " b'product:9',\n",
       " [b'name',\n",
       "  b'Cheetos XXtra Flaming Hot',\n",
       "  b'description',\n",
       "  b'Cheese puff snack',\n",
       "  b'vendor',\n",
       "  b'HEB',\n",
       "  b'price',\n",
       "  b'2.99',\n",
       "  b'currency',\n",
       "  b'dollars',\n",
       "  b'category',\n",
       "  b'Cheese_Puff']]"
      ]
     },
     "execution_count": 31,
     "metadata": {},
     "output_type": "execute_result"
    }
   ],
   "source": [
    "# FT.SEARCH idx:product \"Doritos\" \n",
    "redis.execute_command('ft.search', 'idx:product', 'Flaming')"
   ]
  },
  {
   "cell_type": "code",
   "execution_count": 33,
   "id": "optimum-transfer",
   "metadata": {},
   "outputs": [
    {
     "data": {
      "text/plain": [
       "[2,\n",
       " b'product:4',\n",
       " [b'name',\n",
       "  b'Doritos Flaming Hot Nacho Cheese',\n",
       "  b'description',\n",
       "  b'Flavored Tortilla Chip',\n",
       "  b'vendor',\n",
       "  b'Kroger',\n",
       "  b'price',\n",
       "  b'3.99',\n",
       "  b'currency',\n",
       "  b'dollars',\n",
       "  b'category',\n",
       "  b'Chip'],\n",
       " b'product:9',\n",
       " [b'name',\n",
       "  b'Cheetos XXtra Flaming Hot',\n",
       "  b'description',\n",
       "  b'Cheese puff snack',\n",
       "  b'vendor',\n",
       "  b'HEB',\n",
       "  b'price',\n",
       "  b'2.99',\n",
       "  b'currency',\n",
       "  b'dollars',\n",
       "  b'category',\n",
       "  b'Cheese_Puff']]"
      ]
     },
     "execution_count": 33,
     "metadata": {},
     "output_type": "execute_result"
    }
   ],
   "source": [
    "# FT.SEARCH idx:product \"Flaming\" RETURN 2 price category\n",
    "redis.execute_command('ft.search', 'idx:product', 'Flaming')"
   ]
  },
  {
   "cell_type": "code",
   "execution_count": 34,
   "id": "chubby-workshop",
   "metadata": {},
   "outputs": [
    {
     "data": {
      "text/plain": [
       "[7,\n",
       " b'product:3',\n",
       " [b'name', b'Doritos Salsa Verde', b'price', b'3.99'],\n",
       " b'product:6',\n",
       " [b'name', b'Tostitos Hint of Lime', b'price', b'3.99'],\n",
       " b'product:8',\n",
       " [b'name', b'Tostitos Original', b'price', b'4.99'],\n",
       " b'product:13',\n",
       " [b'name', b'Iceburg Lettuce', b'price', b'1.5'],\n",
       " b'product:4',\n",
       " [b'name', b'Doritos Flaming Hot Nacho Cheese', b'price', b'3.99'],\n",
       " b'product:11',\n",
       " [b'name', b'Cheetos Original', b'price', b'2.99'],\n",
       " b'product:7',\n",
       " [b'name', b'Tostitos Scoops', b'price', b'4.99']]"
      ]
     },
     "execution_count": 34,
     "metadata": {},
     "output_type": "execute_result"
    }
   ],
   "source": [
    "#FT.SEARCH idx:product \"@vendor:{Costco|Kroger}\" RETURN 2 name price\n",
    "redis.execute_command('ft.search', 'idx:product', \"@vendor:{Costco|Kroger}\", \n",
    "                      \"RETURN\", \"2\", \"name\", \"price\")"
   ]
  },
  {
   "cell_type": "code",
   "execution_count": 35,
   "id": "novel-contamination",
   "metadata": {},
   "outputs": [
    {
     "data": {
      "text/plain": [
       "[2,\n",
       " b'product:20',\n",
       " [b'name', b'Snapper', b'price', b'12', b'category', b'Fish'],\n",
       " b'product:17',\n",
       " [b'name', b'Beef', b'price', b'9.5', b'category', b'Meat']]"
      ]
     },
     "execution_count": 35,
     "metadata": {},
     "output_type": "execute_result"
    }
   ],
   "source": [
    "#FT.SEARCH idx:product \"@category:{Meat|Fish} @price:[9 15]\" RETURN 3 name price category\n",
    "redis.execute_command('ft.search', 'idx:product', \"@category:{Meat|Fish} @price:[9 15]\",\n",
    "                      \"RETURN\", \"3\", \"name\", \"price\", \"category\")"
   ]
  },
  {
   "cell_type": "markdown",
   "id": "excellent-addition",
   "metadata": {},
   "source": [
    "# Delete A Product\n",
    "### Now I want to delete a product.\n",
    "\n",
    "This will delete the product and remove it from all the other data structures it was related to"
   ]
  },
  {
   "cell_type": "code",
   "execution_count": 36,
   "id": "anticipated-modification",
   "metadata": {},
   "outputs": [],
   "source": [
    "# Delete Product by Product ID\n",
    "product_dict = {\n",
    "    \"productId\": product_id\n",
    "}\n",
    "\n",
    "product_obj = ProductCatalogUpdate(product_dict) # get product object\n",
    "product_obj.delete_product()"
   ]
  },
  {
   "cell_type": "code",
   "execution_count": 37,
   "id": "dominant-indonesian",
   "metadata": {},
   "outputs": [
    {
     "name": "stdout",
     "output_type": "stream",
     "text": [
      "check out the product: (It is gone!)\n",
      "{}\n",
      "\n",
      "check out the new product images: (They are gone!)\n",
      "[]\n",
      "\n",
      "Check out the original category: (The product id is gone!)\n",
      "{b'product:2', b'product:4', b'product:6', b'product:1', b'product:8', b'product:3', b'product:7'}\n",
      "\n",
      "The product name is gone! you can use it again\n",
      "{b'Cheetos Original', b'Doritos Flaming Hot Nacho Cheese', b'Tostitos Original', b'Chicken', b'Doritos Spicy Nacho', b'Tostitos Scoops', b'Tostitos Hint of Lime', b'Iceburg Lettuce', b'Snapper', b'Cheetos Baked Crunchy', b'Tuna', b'Kale', b'Butter Lettuce', b'Doritos Salsa Verde', b'Doritos Nacho Cheese', b'Pork', b'Whale', b'Cheetos XXtra Flaming Hot', b'Beef'}\n"
     ]
    }
   ],
   "source": [
    "# check out the product:\n",
    "print('check out the product: (It is gone!)')\n",
    "print(redis.hgetall(product_id))\n",
    "\n",
    "print(\"\")\n",
    "print('check out the new product images: (They are gone!)')\n",
    "print(redis.lrange(f\"{product_id}:images\",0,-1))\n",
    "\n",
    "print('')\n",
    "print('Check out the original category: (The product id is gone!)')\n",
    "print(redis.smembers('category:Chip'))\n",
    "\n",
    "print('')\n",
    "print('The product name is gone! you can use it again')\n",
    "print(redis.smembers('product-names'))"
   ]
  },
  {
   "cell_type": "code",
   "execution_count": null,
   "id": "sublime-railway",
   "metadata": {},
   "outputs": [],
   "source": []
  }
 ],
 "metadata": {
  "kernelspec": {
   "display_name": "Python 3",
   "language": "python",
   "name": "python3"
  },
  "language_info": {
   "codemirror_mode": {
    "name": "ipython",
    "version": 3
   },
   "file_extension": ".py",
   "mimetype": "text/x-python",
   "name": "python",
   "nbconvert_exporter": "python",
   "pygments_lexer": "ipython3",
   "version": "3.8.8"
  }
 },
 "nbformat": 4,
 "nbformat_minor": 5
}
