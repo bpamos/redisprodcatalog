{
 "cells": [
  {
   "cell_type": "markdown",
   "id": "german-examination",
   "metadata": {},
   "source": [
    "# Redis Product Catalog"
   ]
  },
  {
   "cell_type": "markdown",
   "id": "square-carter",
   "metadata": {},
   "source": [
    "## Product Catalog Use Case\n",
    "\n",
    "In the last session several common Redis use cases were discussed. Now, lets consider using Redis as our primary database for a product catalog for a new online store. It will need to store product details including a name, description, vendor, price, main category and some images."
   ]
  },
  {
   "cell_type": "markdown",
   "id": "beautiful-alias",
   "metadata": {},
   "source": [
    "## Requirements:\n",
    "\n",
    "* Product information stored in the database should include: name, description, vendor, price, category, images associated with that product.\n",
    "* Ability to create/update/delete product details\n",
    "* Ability to find product by ID\n",
    "* Ability to find products in category X\n",
    "* Ability to find product by its name or part of its name"
   ]
  },
  {
   "cell_type": "markdown",
   "id": "antique-breach",
   "metadata": {},
   "source": [
    "## Step 3 - Logical Data Model:\n",
    "\n",
    "The logical data model is separate from the DBMS being used.\n",
    "It defines the structure of data elements and to set relationships between them.\n",
    "\n",
    "* Product Image\n",
    "    * Id: Number\n",
    "    * Value: Binary\n",
    "\n",
    "* Product\n",
    "    * Id: Number\n",
    "    * Name: String\n",
    "    * Description: String\n",
    "    * Vendor: String\n",
    "    * Price: Number\n",
    "    * Currency: String\n",
    "    * MainCategory: Category (1)\n",
    "    * Images: Image (0..n)\n",
    " \n",
    "* Category\n",
    "    * id: Number\n",
    "    * Name: String\n",
    "    * Products: Product (0..n)"
   ]
  },
  {
   "cell_type": "code",
   "execution_count": 1,
   "id": "complete-techno",
   "metadata": {},
   "outputs": [],
   "source": [
    "# Lets make some sample products in a json:"
   ]
  },
  {
   "cell_type": "code",
   "execution_count": 2,
   "id": "northern-application",
   "metadata": {},
   "outputs": [],
   "source": []
  },
  {
   "cell_type": "markdown",
   "id": "twelve-enlargement",
   "metadata": {},
   "source": [
    "## Step 4 - Convert to Physical Data Model for Redis:\n",
    "\n",
    "How would you take this logical data model and turn it into a physical model in Redis?\n",
    "\n",
    "What data structures would you use to meet the requirements listed above?\n",
    "\n",
    "How to index and query the data?\n",
    "\n",
    "Be ready to show via redis-cli (or Insight) how you stored the data and how you are able to find the product by ID, list all prodcuts in a given category and find a Product by full or partial name."
   ]
  },
  {
   "cell_type": "code",
   "execution_count": 1,
   "id": "built-beijing",
   "metadata": {},
   "outputs": [],
   "source": [
    "# import redis\n",
    "import redis\n",
    "import os\n",
    "\n",
    "# connect redis to localhost and port\n",
    "redis = redis.Redis(host='localhost', port=6379, db=0)"
   ]
  },
  {
   "cell_type": "code",
   "execution_count": 2,
   "id": "optical-latino",
   "metadata": {},
   "outputs": [],
   "source": [
    "# it looks like we can store it as a simple String (key value pair)\n",
    "# we will need to fix the structure how how we deal with this though."
   ]
  },
  {
   "cell_type": "code",
   "execution_count": 3,
   "id": "functioning-horizon",
   "metadata": {},
   "outputs": [
    {
     "data": {
      "text/plain": [
       "True"
      ]
     },
     "execution_count": 3,
     "metadata": {},
     "output_type": "execute_result"
    }
   ],
   "source": [
    "redis.flushdb()"
   ]
  },
  {
   "cell_type": "code",
   "execution_count": null,
   "id": "warming-neutral",
   "metadata": {},
   "outputs": [],
   "source": []
  },
  {
   "cell_type": "markdown",
   "id": "aerial-sponsorship",
   "metadata": {},
   "source": [
    "# Product Catalog Testing"
   ]
  },
  {
   "cell_type": "code",
   "execution_count": 1,
   "id": "brown-proxy",
   "metadata": {},
   "outputs": [],
   "source": [
    "import redis\n",
    "import os\n",
    "import abc, json, pathlib\n",
    "from abc import abstractmethod\n",
    "from dataclasses import dataclass, field\n",
    "import numpy as np\n",
    "from pathlib import Path\n",
    "# for type annotations\n",
    "from typing import Any, Dict, List, Optional, Union, Collection\n",
    "PathOrStr = Union[Path,str]"
   ]
  },
  {
   "cell_type": "code",
   "execution_count": 2,
   "id": "interesting-petersburg",
   "metadata": {},
   "outputs": [],
   "source": [
    "# Utils\n",
    "\n",
    "def if_none(a: Any, b: Any) -> Any:\n",
    "    \"`a` if `a` is not None, otherwise `b`.\"\n",
    "    return b if a is None else a\n",
    "\n",
    "\n",
    "def to_type(a: Any, data_type):\n",
    "    \"\"\"\n",
    "    If item is None, return None, else, convert to an data_type specified\n",
    "    (ie. np.array, str, int, float, ect..)\n",
    "    :parameter: a (Any or None)\n",
    "    :returns: None or data_type(a)\n",
    "    \"\"\"\n",
    "    return None if a is None else data_type(a)"
   ]
  },
  {
   "cell_type": "code",
   "execution_count": 3,
   "id": "compound-absence",
   "metadata": {},
   "outputs": [],
   "source": [
    "def redis(host='localhost', port=6379, db=0):\n",
    "    return redis.Redis(host=host, port=port, db=db)"
   ]
  },
  {
   "cell_type": "code",
   "execution_count": 4,
   "id": "steady-ordering",
   "metadata": {},
   "outputs": [
    {
     "data": {
      "text/plain": [
       "Redis<ConnectionPool<Connection<host=localhost,port=6379,db=0>>>"
      ]
     },
     "execution_count": 4,
     "metadata": {},
     "output_type": "execute_result"
    }
   ],
   "source": [
    "\n",
    "redis = redis_db(host='localhost', port=6379, db=0)\n",
    "redis"
   ]
  },
  {
   "cell_type": "code",
   "execution_count": 5,
   "id": "flexible-organizer",
   "metadata": {},
   "outputs": [],
   "source": [
    "\n",
    "class DataObject(metaclass=abc.ABCMeta):\n",
    "    \"\"\"\n",
    "    A abstract base class to work with subclasses `DeviationSurvey` and `CalculableObject`.\n",
    "    \"\"\"\n",
    "    @abstractmethod\n",
    "    def from_json(self):\n",
    "        pass\n",
    "\n",
    "    @abstractmethod\n",
    "    def validate(self):\n",
    "        pass\n",
    "\n",
    "    @abstractmethod\n",
    "    def deserialize(self):\n",
    "        pass\n",
    "\n",
    "    @abstractmethod\n",
    "    def serialize(self):\n",
    "        pass"
   ]
  },
  {
   "cell_type": "code",
   "execution_count": 6,
   "id": "dominican-calculation",
   "metadata": {},
   "outputs": [],
   "source": [
    "@dataclass\n",
    "class ProductCreate(DataObject):\n",
    "    \"\"\"\n",
    "    Dataclass for Product\n",
    "    :parameter:\n",
    "    productId:    (required) product id\n",
    "    name:         (required) product name\n",
    "    description:  (required) product description\n",
    "    vendor:       (required) product vendor\n",
    "    price:        (required) product price\n",
    "    currency:     (required) currency\n",
    "    category:     (required) product category\n",
    "    images:       (required) images associated with product (binary value)\n",
    "    :returns:\n",
    "    dataclassObj: Dataclass Product object\n",
    "    \"\"\"\n",
    "    #productId: str\n",
    "    name: str\n",
    "    description: str\n",
    "    vendor: str\n",
    "    price: float\n",
    "    currency: str\n",
    "    category: str\n",
    "    productId: str = field(default=None, metadata={'unit': 'str'})\n",
    "    images: np.ndarray = field(default=None, metadata={'unit': 'str'})\n",
    "\n",
    "    def from_json(self):\n",
    "        super().from_json()\n",
    "\n",
    "    def serialize(self):\n",
    "        super().serialize()\n",
    "    \n",
    "    def validate(self):\n",
    "        \"\"\"\n",
    "        validate different parameters to ensure that the data in the DataObject\n",
    "        will work with the directional survey functions\n",
    "        \"\"\"\n",
    "\n",
    "\n",
    "#         def validate_productId(self):\n",
    "#             \"\"\"\n",
    "#             validate that productId is a string\n",
    "#             :return: pass or TypeError\n",
    "#             \"\"\"\n",
    "#             productId_type = type(self.productId)\n",
    "#             if productId_type is str:\n",
    "#                 pass\n",
    "#             else:\n",
    "#                 raise TypeError(f\"Validation Error: productId has type {productId_type}\")\n",
    "        \n",
    "        def validate_product_name(self):\n",
    "            \"\"\"\n",
    "            validate that the product name has not been used\n",
    "            :return: pass or TypeError\n",
    "            \"\"\"\n",
    "            product_name = self.name\n",
    "            print(product_name)\n",
    "            if redis.sadd('product-names',product_name) == 1:\n",
    "                pass\n",
    "            else:\n",
    "                raise TypeError(f\"Validation Error: product name must be unique: {product_name}\")\n",
    "                \n",
    "        # run validation functions\n",
    "#         validate_productId(self)\n",
    "        validate_product_name(self)\n",
    "\n",
    "    def deserialize(self):\n",
    "        \"\"\"\n",
    "        convert dict values to their proper deserialized dict values\n",
    "        converts lists to np.arrays if not None\n",
    "        converts value to float if not None\n",
    "        converts value to str if not None\n",
    "        :parameter:\n",
    "        DataObject params\n",
    "        :return:\n",
    "        DataObject params deserialized as floats, str, int, or np.arrays\n",
    "        \"\"\"\n",
    "\n",
    "        self.productId = to_type(self.productId, str)\n",
    "        self.name = to_type(self.name, str)\n",
    "        self.description = to_type(self.description, str)\n",
    "        self.vendor = to_type(self.vendor, str)\n",
    "        self.price = to_type(self.price, float)\n",
    "        self.currency = to_type(self.currency, str)\n",
    "        self.category = to_type(self.category, str)\n",
    "        self.images = to_type(self.images, np.array)\n",
    "\n",
    "    def __post_init__(self):\n",
    "        \"\"\"\n",
    "        validate all data,\n",
    "        serialized all validated data,\n",
    "        look in all fields and types,\n",
    "        if type is None pass,\n",
    "        else if type given doesnt match dataclass type raise error\n",
    "        \"\"\"\n",
    "        self.validate()\n",
    "        self.deserialize()\n",
    "        print(self.deserialize())\n",
    "        for (name, field_type) in self.__annotations__.items():\n",
    "            if not isinstance(self.__dict__[name], field_type):\n",
    "                current_type = type(self.__dict__[name])\n",
    "                if current_type is type(None):\n",
    "                    pass\n",
    "                else:\n",
    "                    raise ValueError(f\"The field `{name}` was assigned by `{current_type}` instead of `{field_type}`\")\n"
   ]
  },
  {
   "cell_type": "code",
   "execution_count": 7,
   "id": "numerous-clerk",
   "metadata": {},
   "outputs": [],
   "source": [
    "@dataclass\n",
    "class ProductUpdate(DataObject):\n",
    "    \"\"\"\n",
    "    Dataclass for Product\n",
    "    :parameter:\n",
    "    productId:    (required) product id\n",
    "    name:         (required) product name\n",
    "    description:  (required) product description\n",
    "    vendor:       (required) product vendor\n",
    "    price:        (required) product price\n",
    "    currency:     (required) currency\n",
    "    category:     (required) product category\n",
    "    images:       (required) images associated with product (binary value)\n",
    "    :returns:\n",
    "    dataclassObj: Dataclass Product object\n",
    "    \"\"\"\n",
    "\n",
    "    productId: str\n",
    "    name: str = field(default=None, metadata={'unit': 'str'})\n",
    "    description: str = field(default=None, metadata={'unit': 'str'})\n",
    "    vendor: str = field(default=None, metadata={'unit': 'str'})\n",
    "    price: float = field(default=None, metadata={'unit': 'float'})\n",
    "    currency: str = field(default=None, metadata={'unit': 'str'})\n",
    "    category: str = field(default=None, metadata={'unit': 'str'})\n",
    "    images: np.ndarray = field(default=None, metadata={'unit': 'str'})\n",
    "\n",
    "    def from_json(self):\n",
    "        super().from_json()\n",
    "\n",
    "    def serialize(self):\n",
    "        super().serialize()\n",
    "\n",
    "    def validate(self):\n",
    "        \"\"\"\n",
    "        validate different parameters to ensure that the data in the DataObject\n",
    "        will work with the directional survey functions\n",
    "        \"\"\"\n",
    "\n",
    "\n",
    "        def validate_productId(self):\n",
    "            \"\"\"\n",
    "            validate that productId is a string\n",
    "            :return: pass or TypeError\n",
    "            \"\"\"\n",
    "            print(self.productId)\n",
    "            print(redis.hget(self.productId,'name'))\n",
    "            if type(redis.hget(self.productId,'name')) is bytes:\n",
    "                pass\n",
    "            else:\n",
    "                raise TypeError(f\"Validation Error: productId does not exist\")\n",
    "        \n",
    "#         def validate_product_name(self):\n",
    "#             \"\"\"\n",
    "#             validate that the product name has not been used\n",
    "#             :return: pass or TypeError\n",
    "#             \"\"\"\n",
    "#             product_name = self.name\n",
    "#             print(product_name)\n",
    "#             if redis.sadd('product-names',product_name) == 1:\n",
    "#                 pass\n",
    "#             else:\n",
    "#                 raise TypeError(f\"Validation Error: product name must be unique: {product_name}\")\n",
    "                \n",
    "        # run validation functions\n",
    "        validate_productId(self)\n",
    "        #validate_product_name(self)\n",
    "\n",
    "    def deserialize(self):\n",
    "        \"\"\"\n",
    "        convert dict values to their proper deserialized dict values\n",
    "        converts lists to np.arrays if not None\n",
    "        converts value to float if not None\n",
    "        converts value to str if not None\n",
    "        :parameter:\n",
    "        DataObject params\n",
    "        :return:\n",
    "        DataObject params deserialized as floats, str, int, or np.arrays\n",
    "        \"\"\"\n",
    "\n",
    "        self.productId = to_type(self.productId, str)\n",
    "        self.name = to_type(self.name, str)\n",
    "        self.description = to_type(self.description, str)\n",
    "        self.vendor = to_type(self.vendor, str)\n",
    "        self.price = to_type(self.price, float)\n",
    "        self.currency = to_type(self.currency, str)\n",
    "        self.category = to_type(self.category, str)\n",
    "        self.images = to_type(self.images, np.array)\n",
    "\n",
    "    def __post_init__(self):\n",
    "        \"\"\"\n",
    "        validate all data,\n",
    "        serialized all validated data,\n",
    "        look in all fields and types,\n",
    "        if type is None pass,\n",
    "        else if type given doesnt match dataclass type raise error\n",
    "        \"\"\"\n",
    "        self.validate()\n",
    "        self.deserialize()\n",
    "        print(self.deserialize())\n",
    "        for (name, field_type) in self.__annotations__.items():\n",
    "            if not isinstance(self.__dict__[name], field_type):\n",
    "                current_type = type(self.__dict__[name])\n",
    "                if current_type is type(None):\n",
    "                    pass\n",
    "                else:\n",
    "                    raise ValueError(f\"The field `{name}` was assigned by `{current_type}` instead of `{field_type}`\")\n"
   ]
  },
  {
   "cell_type": "code",
   "execution_count": 8,
   "id": "changed-working",
   "metadata": {},
   "outputs": [],
   "source": [
    "class CalculableObject(DataObject):\n",
    "\n",
    "    def __init__(self, product_obj, **kwargs):\n",
    "        \"\"\"\n",
    "        DirectionalSurvey object with a wells directional survey info\n",
    "        Attributes:\n",
    "        directional_survey_points (Dataclass Object) DataObject object\n",
    "        \"\"\"\n",
    "\n",
    "        self.product_obj = product_obj\n",
    "\n",
    "    def validate(self):\n",
    "        super().validate()\n",
    "\n",
    "    def deserialize(self):\n",
    "        super().deserialize()\n",
    "\n",
    "    @classmethod\n",
    "    def from_json(cls, path: PathOrStr):\n",
    "        \"\"\"\n",
    "        Pass in a json path, either a string or a Path lib path and convert to a WellboreTrajectory data obj\n",
    "        :param:\n",
    "        -------\n",
    "         path: PathOrStr\n",
    "        :return:\n",
    "        -------\n",
    "        deviation_survey_obj: Obj\n",
    "        :examples:\n",
    "        -------\n",
    "        \"\"\"\n",
    "\n",
    "        with open(path) as json_file:\n",
    "            json_data = json.load(json_file)\n",
    "        json_file.close()\n",
    "\n",
    "        res = cls(data=json_data)  # converts json data\n",
    "        return res\n",
    "\n",
    "    def serialize(self):\n",
    "        \"\"\"\n",
    "        Convert survey object to serialized json\n",
    "        :parameter:\n",
    "        -------\n",
    "        None\n",
    "        :return:\n",
    "        -------\n",
    "        json: str\n",
    "        :examples:\n",
    "        -------\n",
    "        \"\"\"\n",
    "        \n",
    "        self.productId = to_type(self.productId, str)\n",
    "        self.name = to_type(self.name, str)\n",
    "        self.description = to_type(self.description, str)\n",
    "        self.vendor = to_type(self.vendor, str)\n",
    "        self.price = to_type(self.price, float)\n",
    "        self.currency = to_type(self.currency, str)\n",
    "        self.category = to_type(self.category, str)\n",
    "        self.images = to_type(self.images, np.array)\n",
    "\n",
    "        json_obj = dict(productId=str(self.product_obj.productId),\n",
    "                        name=str(self.product_obj.name),\n",
    "                        description=str(self.product_obj.description),\n",
    "                        vendor=str(self.product_obj.vendor),\n",
    "                        price=float(self.product_obj.price),\n",
    "                        currency=str(self.product_obj.currency),\n",
    "                        images=list(self.product_obj.images))\n",
    "\n",
    "\n",
    "        json_string = json.dumps(json_obj)  # converts a data object into a json string.\n",
    "\n",
    "        return json_string"
   ]
  },
  {
   "cell_type": "code",
   "execution_count": 9,
   "id": "prompt-religion",
   "metadata": {},
   "outputs": [],
   "source": [
    "class ProductCatalogCreate(CalculableObject):\n",
    "\n",
    "    def __init__(self, data=None):\n",
    "        \"\"\"\n",
    "        DirectionalSurvey object with a wells directional survey info\n",
    "        Attributes:\n",
    "        directional_survey_points (Dataclass Object) DataObject object\n",
    "        \"\"\"\n",
    "\n",
    "        self.data = data\n",
    "        self.product_obj = ProductCreate(**self.data)\n",
    "        \n",
    "#     def category_mapping(self):\n",
    "#         \"create a mapping for the category\"\n",
    "        \n",
    "        \n",
    "    def product_id_gen(self):\n",
    "        \"Generate the product Id\"\n",
    "        product_id_incr = redis.incr('product_id_incr', 1)\n",
    "        product_id = f\"product:{product_id_incr}\"\n",
    "        \n",
    "        self.product_obj.productId = product_id\n",
    "\n",
    "    def product_hash(self):\n",
    "        \"\"\"\n",
    "        Calculate TVD, n_s_deviation, e_w_deviation, and dls values along the wellbore\n",
    "        using md, inc, and azim arrays\n",
    "        :parameter:\n",
    "        -------\n",
    "        None\n",
    "        :return:\n",
    "        -------\n",
    "        calculated np.array values\n",
    "        tvd: np.array\n",
    "        dls: np.array\n",
    "        e_w_deviation: np.array\n",
    "        n_s_deviation: np.array\n",
    "        :examples:\n",
    "        -------\n",
    "        \"\"\"\n",
    "        # get md, inc, and azim arrays\n",
    "        product_id = self.product_obj.productId\n",
    "        name = self.product_obj.name\n",
    "        description = self.product_obj.description\n",
    "        vendor = self.product_obj.vendor\n",
    "        price = self.product_obj.price\n",
    "        currency = self.product_obj.currency\n",
    "        category = self.product_obj.category\n",
    "        images = self.product_obj.images\n",
    "        \n",
    "        redis.hset(product_id,'name',name)\n",
    "        redis.hset(product_id,'description',description)\n",
    "        redis.hset(product_id,'vendor',vendor)\n",
    "        redis.hset(product_id,'price',price)\n",
    "        redis.hset(product_id,'currency',currency)\n",
    "        redis.hset(product_id,'main-category',category)\n",
    "        \n",
    "        # create a list of images, keep only 4 per product\n",
    "        # first image in the list is the number 1 image\n",
    "        list_id_images = f\"{product_id}:images\"\n",
    "        for image_binary_val in images:\n",
    "            redis.rpush(list_id_images,str(image_binary_val))\n",
    "            redis.ltrim(list_id_images,0,3)\n",
    "            #redis.lrange(image_list_id,0,-1)\n",
    "            \n",
    "    def category_set(self):\n",
    "        \"\"\"\n",
    "        You can get the ID from the product hash and create the cateogry hash\n",
    "        you will call the current main cat product id. Find out what it is, then create a unique ID for it.\n",
    "        Like, MEAT, and then update the set??? idk. ughh\n",
    "        \"\"\"\n",
    "        product_id = self.product_obj.productId\n",
    "        category = self.product_obj.category\n",
    "        \n",
    "        category_id = f\"category:{category}\"\n",
    "        redis.sadd(category_id,product_id)\n",
    "        \n",
    "\n",
    "    def generate_product_catalog(self):\n",
    "\n",
    "        self.product_id_gen()  # get generated product id\n",
    "\n",
    "        self.product_hash()  # get product hash\n",
    "        \n",
    "        self.category_set() # get category set"
   ]
  },
  {
   "cell_type": "code",
   "execution_count": 10,
   "id": "fifth-special",
   "metadata": {},
   "outputs": [],
   "source": [
    "class ProductCatalogUpdate(CalculableObject):\n",
    "\n",
    "    def __init__(self, data=None):\n",
    "        \"\"\"\n",
    "        DirectionalSurvey object with a wells directional survey info\n",
    "        Attributes:\n",
    "        directional_survey_points (Dataclass Object) DataObject object\n",
    "        \"\"\"\n",
    "\n",
    "        self.data = data\n",
    "        self.product_obj = ProductUpdate(**self.data)\n",
    "        \n",
    "\n",
    "    def product_hash_update(self):\n",
    "        \"\"\"\n",
    "        Calculate TVD, n_s_deviation, e_w_deviation, and dls values along the wellbore\n",
    "        using md, inc, and azim arrays\n",
    "        :parameter:\n",
    "        -------\n",
    "        None\n",
    "        :return:\n",
    "        -------\n",
    "        calculated np.array values\n",
    "        tvd: np.array\n",
    "        dls: np.array\n",
    "        e_w_deviation: np.array\n",
    "        n_s_deviation: np.array\n",
    "        :examples:\n",
    "        -------\n",
    "        \"\"\"\n",
    "        # get md, inc, and azim arrays\n",
    "        product_id = self.product_obj.productId\n",
    "        name = self.product_obj.name\n",
    "        description = self.product_obj.description\n",
    "        vendor = self.product_obj.vendor\n",
    "        price = self.product_obj.price\n",
    "        currency = self.product_obj.currency\n",
    "        category = self.product_obj.category\n",
    "        images = self.product_obj.images\n",
    "        \n",
    "        # update name if not none, this involves removing and replacing a product name set value\n",
    "        if name is not None: \n",
    "            # get the original value of the name in the product id\n",
    "            orig_name = redis.hget(product_id,'name')\n",
    "            # remove it from the set product-names, (must decode bytes to string)\n",
    "            orig_name = orig_name.decode(\"utf-8\")\n",
    "            redis.srem('product-names', orig_name)\n",
    "            # add it the new name to the product-names set\n",
    "            redis.sadd('product-names',name)\n",
    "            \n",
    "            # update the name in the product hash\n",
    "            redis.hset(product_id,'name',name)\n",
    "            \n",
    "        # updates if present    \n",
    "        if description is not None: redis.hset(product_id,'description',description)\n",
    "        if vendor is not None: redis.hset(product_id,'vendor',vendor)\n",
    "        if price is not None: redis.hset(product_id,'price',price)\n",
    "        if currency is not None: redis.hset(product_id,'currency',currency)\n",
    "        \n",
    "        # image updates\n",
    "        if images is not None:\n",
    "            list_id_images = f\"{product_id}:images\"\n",
    "            # reverse the nparray to keep the image order, (1st in list is best image)\n",
    "            for image_binary_val in images[::-1]:\n",
    "                # lpush image items in\n",
    "                redis.lpush(list_id_images,str(image_binary_val))\n",
    "                # ltrim the list after the 4th image\n",
    "                redis.ltrim(list_id_images,0,3)\n",
    "                #redis.lrange(image_list_id,0,-1)\n",
    "        \n",
    "    def category_update(self):\n",
    "        \"\"\"\n",
    "        You can get the ID from the product hash and create the cateogry hash\n",
    "        you will call the current main cat product id. Find out what it is, then create a unique ID for it.\n",
    "        Like, MEAT, and then update the set??? idk. ughh\n",
    "        \"\"\"\n",
    "        product_id = self.product_obj.productId\n",
    "        category = self.product_obj.category\n",
    "        \n",
    "        if category is not None:\n",
    "            \n",
    "            # get the original value of the category\n",
    "            orig_cat = redis.hget(product_id,'main-category')\n",
    "            # remove it from the set, (must decode bytes to string)\n",
    "            orig_cat = orig_cat.decode(\"utf-8\")\n",
    "            orig_cat_id = f\"category:{orig_cat}\"\n",
    "            redis.srem(orig_cat_id, product_id)\n",
    "            \n",
    "            # update in the product hash\n",
    "            redis.hset(product_id,'main-category',category)\n",
    "            \n",
    "            # add it to the new set\n",
    "            category_id = f\"category:{category}\"\n",
    "            redis.sadd(category_id,product_id)\n",
    "\n",
    "            \n",
    "            \n",
    "    def product_hash_delete(self):\n",
    "        \"\"\"\n",
    "        Calculate TVD, n_s_deviation, e_w_deviation, and dls values along the wellbore\n",
    "        using md, inc, and azim arrays\n",
    "        :parameter:\n",
    "        -------\n",
    "        None\n",
    "        :return:\n",
    "        -------\n",
    "        calculated np.array values\n",
    "        tvd: np.array\n",
    "        dls: np.array\n",
    "        e_w_deviation: np.array\n",
    "        n_s_deviation: np.array\n",
    "        :examples:\n",
    "        -------\n",
    "        \"\"\"\n",
    "        # get md, inc, and azim arrays\n",
    "        product_id = self.product_obj.productId\n",
    "        \n",
    "\n",
    "        # get the original value of the name in the product id\n",
    "        orig_name = redis.hget(product_id,'name')\n",
    "        # remove it from the set product-names, (must decode bytes to string)\n",
    "        orig_name = orig_name.decode(\"utf-8\")\n",
    "        redis.srem('product-names', orig_name)\n",
    "            \n",
    "        # delete the hash\n",
    "        redis.delete(product_id)\n",
    "        \n",
    "    def images_list_delete(self):\n",
    "        \n",
    "        product_id = self.product_obj.productId\n",
    "        #images = self.product_obj.images\n",
    "        \n",
    "\n",
    "        list_id_images = f\"{product_id}:images\"\n",
    "        redis.delete(list_id_images)\n",
    "                \n",
    "\n",
    "    def category_remove(self):\n",
    "        \"\"\"\n",
    "        You can get the ID from the product hash and create the cateogry hash\n",
    "        you will call the current main cat product id. Find out what it is, then create a unique ID for it.\n",
    "        Like, MEAT, and then update the set??? idk. ughh\n",
    "        \"\"\"\n",
    "        product_id = self.product_obj.productId\n",
    "\n",
    "        # get the original value of the category\n",
    "        orig_cat = redis.hget(product_id,'main-category')\n",
    "        # remove it from the set, (must decode bytes to string)\n",
    "        orig_cat = orig_cat.decode(\"utf-8\")\n",
    "        orig_cat_id = f\"category:{orig_cat}\"\n",
    "        redis.srem(orig_cat_id, product_id)           \n",
    "\n",
    "    def update_product_catalog(self):\n",
    "\n",
    "        self.product_hash_update()  # get product hash\n",
    "        \n",
    "        self.category_update() # get category set\n",
    "        \n",
    "    def delete_product_catalog(self):\n",
    "        \n",
    "        self.category_remove()\n",
    "        self.product_hash_delete()\n",
    "        self.images_list_delete()"
   ]
  },
  {
   "cell_type": "code",
   "execution_count": 11,
   "id": "identical-seating",
   "metadata": {},
   "outputs": [],
   "source": [
    "# testing"
   ]
  },
  {
   "cell_type": "code",
   "execution_count": 12,
   "id": "skilled-friday",
   "metadata": {},
   "outputs": [
    {
     "name": "stdout",
     "output_type": "stream",
     "text": [
      "Product_b\n",
      "None\n",
      "product.data:\n",
      "{'name': 'Product_b', 'description': 'Chicken', 'vendor': 'WholeFoods', 'price': 15.5, 'currency': 'dollars', 'category': 'Meat', 'images': [1, 2, 3, 4, 5, 6, 7, 8]}\n"
     ]
    }
   ],
   "source": [
    "\n",
    "\n",
    "# example dict\n",
    "product_dict = {\n",
    "    \"name\": 'Product_b',\n",
    "    \"description\": 'Chicken',\n",
    "    \"vendor\": 'WholeFoods',\n",
    "    \"price\": 15.5,\n",
    "    \"currency\": 'dollars',\n",
    "    \"category\": 'Meat',\n",
    "    \"images\": [1,2,3,4,5,6,7,8]\n",
    "}\n",
    "\n",
    "\n",
    "product_obj = ProductCatalogCreate(product_dict) # get product object\n",
    "print('product.data:')\n",
    "print(product_obj.data)\n",
    "#product_obj.calculate_survey_points() # runs through min curve algo, calc lat lon points, and calc horizontal\n",
    "#print('calc object:')\n",
    "\n",
    "product_obj.generate_product_catalog()"
   ]
  },
  {
   "cell_type": "code",
   "execution_count": 13,
   "id": "senior-technician",
   "metadata": {},
   "outputs": [
    {
     "data": {
      "text/plain": [
       "{b'name': b'Product_b',\n",
       " b'description': b'Chicken',\n",
       " b'vendor': b'WholeFoods',\n",
       " b'price': b'15.5',\n",
       " b'currency': b'dollars',\n",
       " b'main-category': b'Meat'}"
      ]
     },
     "execution_count": 13,
     "metadata": {},
     "output_type": "execute_result"
    }
   ],
   "source": [
    "redis.hgetall('product:1')"
   ]
  },
  {
   "cell_type": "code",
   "execution_count": 14,
   "id": "altered-forward",
   "metadata": {},
   "outputs": [
    {
     "data": {
      "text/plain": [
       "[]"
      ]
     },
     "execution_count": 14,
     "metadata": {},
     "output_type": "execute_result"
    }
   ],
   "source": [
    "redis.lrange('product:1:images',0,-1)"
   ]
  },
  {
   "cell_type": "code",
   "execution_count": 15,
   "id": "lesser-policy",
   "metadata": {},
   "outputs": [
    {
     "data": {
      "text/plain": [
       "{b'product:2'}"
      ]
     },
     "execution_count": 15,
     "metadata": {},
     "output_type": "execute_result"
    }
   ],
   "source": [
    "redis.smembers('category:Meat')"
   ]
  },
  {
   "cell_type": "code",
   "execution_count": 16,
   "id": "electrical-craft",
   "metadata": {},
   "outputs": [
    {
     "data": {
      "text/plain": [
       "{b'Product_A', b'Product_b'}"
      ]
     },
     "execution_count": 16,
     "metadata": {},
     "output_type": "execute_result"
    }
   ],
   "source": [
    "redis.smembers('product-names')"
   ]
  },
  {
   "cell_type": "code",
   "execution_count": 18,
   "id": "cardiac-chart",
   "metadata": {},
   "outputs": [
    {
     "name": "stdout",
     "output_type": "stream",
     "text": [
      "product:2\n",
      "b'Product_b'\n",
      "None\n"
     ]
    }
   ],
   "source": [
    "# example dict\n",
    "product_dict = {\n",
    "    \"productId\": 'product:1',\n",
    "    \"name\": 'product_SICK',\n",
    "    \"description\": 'ChickenBUTTS',\n",
    "    \"vendor\": 'WholeFoodsBUTSS',\n",
    "    \"price\": 1202,\n",
    "    \"currency\": 'dollarsZZZZ',\n",
    "    \"category\": 'Fish',\n",
    "    \"images\": [233,2450]\n",
    "}\n",
    "\n",
    "product_obj = ProductCatalogUpdate(product_dict) # get product object\n",
    "product_obj.update_product_catalog()"
   ]
  },
  {
   "cell_type": "code",
   "execution_count": 19,
   "id": "urban-emperor",
   "metadata": {},
   "outputs": [
    {
     "name": "stdout",
     "output_type": "stream",
     "text": [
      "{}\n",
      "[]\n",
      "set()\n",
      "{b'Product_A', b'product_SICK'}\n",
      "{b'product:2'}\n"
     ]
    }
   ],
   "source": [
    "\n",
    "print(redis.hgetall('product:1'))\n",
    "print(redis.lrange('product:1:images',0,-1))\n",
    "print(redis.smembers('category:Meat'))\n",
    "print(redis.smembers('product-names'))\n",
    "print(redis.smembers('category:Fish'))"
   ]
  },
  {
   "cell_type": "code",
   "execution_count": 34,
   "id": "everyday-crazy",
   "metadata": {},
   "outputs": [
    {
     "name": "stdout",
     "output_type": "stream",
     "text": [
      "product:1\n",
      "b'product_SICK'\n",
      "None\n"
     ]
    }
   ],
   "source": [
    "# example dict\n",
    "product_dict = {\n",
    "    \"productId\": 'product:1'\n",
    "}\n",
    "\n",
    "product_obj = ProductCatalogUpdate(product_dict) # get product object\n",
    "product_obj.delete_product_catalog()"
   ]
  },
  {
   "cell_type": "code",
   "execution_count": 35,
   "id": "parental-network",
   "metadata": {},
   "outputs": [
    {
     "name": "stdout",
     "output_type": "stream",
     "text": [
      "{}\n",
      "[]\n",
      "set()\n",
      "set()\n"
     ]
    }
   ],
   "source": [
    "print(redis.hgetall('product:1'))\n",
    "print(redis.lrange('product:1:images',0,-1))\n",
    "print(redis.smembers('category:Meat'))\n",
    "print(redis.smembers('product-names'))"
   ]
  },
  {
   "cell_type": "code",
   "execution_count": null,
   "id": "arbitrary-invalid",
   "metadata": {},
   "outputs": [],
   "source": []
  },
  {
   "cell_type": "code",
   "execution_count": 20,
   "id": "continent-grain",
   "metadata": {},
   "outputs": [
    {
     "data": {
      "text/plain": [
       "True"
      ]
     },
     "execution_count": 20,
     "metadata": {},
     "output_type": "execute_result"
    }
   ],
   "source": [
    "redis.flushdb()\n"
   ]
  },
  {
   "cell_type": "code",
   "execution_count": 425,
   "id": "moral-morning",
   "metadata": {},
   "outputs": [
    {
     "data": {
      "text/plain": [
       "(1,\n",
       " [b'3748912688',\n",
       "  b'product:4:images',\n",
       "  b'product:1:images',\n",
       "  b'product:2:images',\n",
       "  b'category:Fish',\n",
       "  b'product:2',\n",
       "  b'product:3',\n",
       "  b'product:5',\n",
       "  b'product-names',\n",
       "  b'product:3:images'])"
      ]
     },
     "execution_count": 425,
     "metadata": {},
     "output_type": "execute_result"
    }
   ],
   "source": [
    "redis.scan(0)\n",
    "#redis.smembers('product-names')"
   ]
  },
  {
   "cell_type": "code",
   "execution_count": null,
   "id": "fatty-medium",
   "metadata": {},
   "outputs": [],
   "source": []
  }
 ],
 "metadata": {
  "kernelspec": {
   "display_name": "Python 3",
   "language": "python",
   "name": "python3"
  },
  "language_info": {
   "codemirror_mode": {
    "name": "ipython",
    "version": 3
   },
   "file_extension": ".py",
   "mimetype": "text/x-python",
   "name": "python",
   "nbconvert_exporter": "python",
   "pygments_lexer": "ipython3",
   "version": "3.8.8"
  }
 },
 "nbformat": 4,
 "nbformat_minor": 5
}
