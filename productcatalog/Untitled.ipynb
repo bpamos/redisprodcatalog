{
 "cells": [
  {
   "cell_type": "code",
   "execution_count": null,
   "id": "instant-median",
   "metadata": {},
   "outputs": [],
   "source": []
  },
  {
   "cell_type": "code",
   "execution_count": null,
   "id": "seventh-coffee",
   "metadata": {},
   "outputs": [],
   "source": []
  },
  {
   "cell_type": "code",
   "execution_count": null,
   "id": "neutral-joint",
   "metadata": {},
   "outputs": [],
   "source": []
  },
  {
   "cell_type": "code",
   "execution_count": 1,
   "id": "initial-roberts",
   "metadata": {},
   "outputs": [
    {
     "name": "stdout",
     "output_type": "stream",
     "text": [
      "/Users/brandonamos/Documents/repos/redisprodcatalog\n",
      "/Users/brandonamos/Documents/repos/redisprodcatalog\n"
     ]
    }
   ],
   "source": [
    "import os\n",
    "from pathlib import Path\n",
    "current_dir = Path.cwd()\n",
    "path = current_dir.parent\n",
    "print(path)\n",
    "os.chdir(path)\n",
    "current_dir = Path.cwd()\n",
    "print(current_dir)"
   ]
  },
  {
   "cell_type": "code",
   "execution_count": 2,
   "id": "after-apple",
   "metadata": {},
   "outputs": [],
   "source": [
    "from productcatalog.product_catalog_create import *\n",
    "from productcatalog.product_catalog_update import *\n",
    "from productcatalog.product_catalog_search import *"
   ]
  },
  {
   "cell_type": "code",
   "execution_count": null,
   "id": "historical-defense",
   "metadata": {},
   "outputs": [],
   "source": []
  },
  {
   "cell_type": "code",
   "execution_count": null,
   "id": "latter-viewer",
   "metadata": {},
   "outputs": [],
   "source": []
  },
  {
   "cell_type": "code",
   "execution_count": null,
   "id": "surface-barcelona",
   "metadata": {},
   "outputs": [],
   "source": []
  },
  {
   "cell_type": "code",
   "execution_count": 3,
   "id": "political-athletics",
   "metadata": {},
   "outputs": [
    {
     "name": "stdout",
     "output_type": "stream",
     "text": [
      "product.data:\n",
      "{'name': 'Product_1', 'description': 'Chicken', 'vendor': 'WholeFoods', 'price': 15.5, 'currency': 'dollars', 'category': 'Meat', 'images': [1, 2, 3, 4, 5, 6, 7, 8]}\n",
      "ProductCreate(name='Product_1', description='Chicken', vendor='WholeFoods', price=15.5, currency='dollars', category='Meat', productId=None, images=array([1, 2, 3, 4, 5, 6, 7, 8]), redisSession=[Redis<ConnectionPool<Connection<host=localhost,port=6379,db=0>>>])\n"
     ]
    }
   ],
   "source": [
    "\n",
    "\n",
    "# example dict\n",
    "product_dict = {\n",
    "    \"name\": 'Product_1',\n",
    "    \"description\": 'Chicken',\n",
    "    \"vendor\": 'WholeFoods',\n",
    "    \"price\": 15.5,\n",
    "    \"currency\": 'dollars',\n",
    "    \"category\": 'Meat',\n",
    "    \"images\": [1,2,3,4,5,6,7,8]\n",
    "}\n",
    "\n",
    "\n",
    "product_obj = ProductCatalogCreate(product_dict) # get product object\n",
    "print('product.data:')\n",
    "print(product_obj.data)\n",
    "print(product_obj.product_obj)\n",
    "#product_obj.calculate_survey_points() # runs through min curve algo, calc lat lon points, and calc horizontal\n",
    "#print('calc object:')\n",
    "\n",
    "product_obj.generate_product_catalog()"
   ]
  },
  {
   "cell_type": "code",
   "execution_count": null,
   "id": "fuzzy-buffer",
   "metadata": {},
   "outputs": [],
   "source": []
  },
  {
   "cell_type": "code",
   "execution_count": 4,
   "id": "bronze-paris",
   "metadata": {},
   "outputs": [],
   "source": [
    "# example dict\n",
    "product_dict = {\n",
    "    \"productId\": 'product:1',\n",
    "    \"name\": 'product_NEW',\n",
    "    \"description\": 'ChickenBUTTS',\n",
    "    \"vendor\": 'WholeFoodsBUTSS',\n",
    "    \"price\": 1202,\n",
    "    \"currency\": 'dollarsZZZZ',\n",
    "    \"category\": 'Fish',\n",
    "    \"images\": [233,2450]\n",
    "}\n",
    "\n",
    "product_obj = ProductCatalogUpdate(product_dict) # get product object\n",
    "product_obj.update_product()"
   ]
  },
  {
   "cell_type": "code",
   "execution_count": 5,
   "id": "oriented-aberdeen",
   "metadata": {},
   "outputs": [
    {
     "data": {
      "text/plain": [
       "{b'name': b'product_NEW',\n",
       " b'description': b'ChickenBUTTS',\n",
       " b'vendor': b'WholeFoodsBUTSS',\n",
       " b'price': b'1202.0',\n",
       " b'currency': b'dollarsZZZZ',\n",
       " b'main-category': b'Fish'}"
      ]
     },
     "execution_count": 5,
     "metadata": {},
     "output_type": "execute_result"
    }
   ],
   "source": [
    "# product find\n",
    "product_dict = {\n",
    "    \"productId\": 'product:1'\n",
    "}\n",
    "\n",
    "product_obj = ProductCatalogSearch(product_dict) # get product object\n",
    "product_obj.find_by_product_id()"
   ]
  },
  {
   "cell_type": "code",
   "execution_count": 6,
   "id": "premium-image",
   "metadata": {},
   "outputs": [
    {
     "data": {
      "text/plain": [
       "[b'233', b'2450', b'1', b'2']"
      ]
     },
     "execution_count": 6,
     "metadata": {},
     "output_type": "execute_result"
    }
   ],
   "source": [
    "# product images find\n",
    "product_dict = {\n",
    "    \"productId\": 'product:1'\n",
    "}\n",
    "\n",
    "product_obj = ProductCatalogSearch(product_dict) # get product object\n",
    "product_obj.find_images_by_product_id()"
   ]
  },
  {
   "cell_type": "code",
   "execution_count": 8,
   "id": "designing-concert",
   "metadata": {},
   "outputs": [
    {
     "name": "stdout",
     "output_type": "stream",
     "text": [
      "category:Fish\n"
     ]
    },
    {
     "data": {
      "text/plain": [
       "{b'product:1'}"
      ]
     },
     "execution_count": 8,
     "metadata": {},
     "output_type": "execute_result"
    }
   ],
   "source": [
    "# category find\n",
    "product_dict = {\n",
    "    \"category\": 'Fish'\n",
    "}\n",
    "\n",
    "product_obj = ProductCatalogSearch(product_dict) # get product object\n",
    "product_obj.find_products_in_category()"
   ]
  },
  {
   "cell_type": "code",
   "execution_count": 9,
   "id": "revised-opening",
   "metadata": {},
   "outputs": [
    {
     "data": {
      "text/plain": [
       "{b'name': b'product_NEW',\n",
       " b'description': b'ChickenBUTTS',\n",
       " b'vendor': b'WholeFoodsBUTSS',\n",
       " b'price': b'1202.0',\n",
       " b'currency': b'dollarsZZZZ',\n",
       " b'main-category': b'Fish'}"
      ]
     },
     "execution_count": 9,
     "metadata": {},
     "output_type": "execute_result"
    }
   ],
   "source": [
    "# find product by its name or part of its name\n",
    "\n",
    "product_dict = {\n",
    "    \"name\": 'product_NEW'\n",
    "}\n",
    "\n",
    "product_obj = ProductCatalogSearch(product_dict) # get product object\n",
    "product_obj.find_products_by_name()"
   ]
  },
  {
   "cell_type": "code",
   "execution_count": 10,
   "id": "anticipated-modification",
   "metadata": {},
   "outputs": [],
   "source": [
    "# Delete Product by Product ID\n",
    "product_dict = {\n",
    "    \"productId\": 'product:1'\n",
    "}\n",
    "\n",
    "product_obj = ProductCatalogUpdate(product_dict) # get product object\n",
    "product_obj.delete_product()"
   ]
  },
  {
   "cell_type": "code",
   "execution_count": 11,
   "id": "described-editor",
   "metadata": {},
   "outputs": [
    {
     "data": {
      "text/plain": [
       "{}"
      ]
     },
     "execution_count": 11,
     "metadata": {},
     "output_type": "execute_result"
    }
   ],
   "source": [
    "redis = product_obj.product_obj.redisSession[0]\n",
    "\n",
    "redis.hgetall('product-name-index')"
   ]
  },
  {
   "cell_type": "code",
   "execution_count": 12,
   "id": "chubby-borough",
   "metadata": {},
   "outputs": [
    {
     "data": {
      "text/plain": [
       "True"
      ]
     },
     "execution_count": 12,
     "metadata": {},
     "output_type": "execute_result"
    }
   ],
   "source": [
    "redis = product_obj.product_obj.redisSession[0]\n",
    "redis.flushdb()"
   ]
  },
  {
   "cell_type": "code",
   "execution_count": null,
   "id": "classical-stupid",
   "metadata": {},
   "outputs": [],
   "source": []
  },
  {
   "cell_type": "code",
   "execution_count": 10,
   "id": "automated-rugby",
   "metadata": {},
   "outputs": [],
   "source": []
  },
  {
   "cell_type": "code",
   "execution_count": null,
   "id": "fresh-radius",
   "metadata": {},
   "outputs": [],
   "source": []
  },
  {
   "cell_type": "code",
   "execution_count": null,
   "id": "embedded-cargo",
   "metadata": {},
   "outputs": [],
   "source": []
  },
  {
   "cell_type": "code",
   "execution_count": 7,
   "id": "hungarian-reynolds",
   "metadata": {},
   "outputs": [],
   "source": [
    "redis = product_obj.product_obj.redisSession[0]"
   ]
  },
  {
   "cell_type": "code",
   "execution_count": 8,
   "id": "serial-manitoba",
   "metadata": {},
   "outputs": [
    {
     "name": "stdout",
     "output_type": "stream",
     "text": [
      "{}\n",
      "[]\n",
      "{b'product:2', b'product:4', b'product:1', b'product:5', b'product:6'}\n",
      "{b'Product_5', b'Product_10', b'Product_q', b'Product_2', b'Product_1', b'Product_11', b'Product_c', b'Product_f', b'Product_z', b'Product_e', b'Product_b', b'Product_6', b'Product_3', b'Product_d', b'Product_4'}\n",
      "set()\n"
     ]
    }
   ],
   "source": [
    "\n",
    "print(redis.hgetall('product:7'))\n",
    "print(redis.lrange('product:7:images',0,-1))\n",
    "print(redis.smembers('category:Meat'))\n",
    "print(redis.smembers('product-names'))\n",
    "print(redis.smembers('category:Fish'))"
   ]
  },
  {
   "cell_type": "code",
   "execution_count": null,
   "id": "spiritual-academy",
   "metadata": {},
   "outputs": [],
   "source": []
  }
 ],
 "metadata": {
  "kernelspec": {
   "display_name": "Python 3",
   "language": "python",
   "name": "python3"
  },
  "language_info": {
   "codemirror_mode": {
    "name": "ipython",
    "version": 3
   },
   "file_extension": ".py",
   "mimetype": "text/x-python",
   "name": "python",
   "nbconvert_exporter": "python",
   "pygments_lexer": "ipython3",
   "version": "3.8.8"
  }
 },
 "nbformat": 4,
 "nbformat_minor": 5
}
