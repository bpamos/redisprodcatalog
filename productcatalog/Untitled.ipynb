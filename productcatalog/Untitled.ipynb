{
 "cells": [
  {
   "cell_type": "code",
   "execution_count": null,
   "id": "committed-memorial",
   "metadata": {},
   "outputs": [],
   "source": []
  },
  {
   "cell_type": "code",
   "execution_count": null,
   "id": "willing-intake",
   "metadata": {},
   "outputs": [],
   "source": []
  },
  {
   "cell_type": "code",
   "execution_count": null,
   "id": "written-booth",
   "metadata": {},
   "outputs": [],
   "source": []
  },
  {
   "cell_type": "code",
   "execution_count": 1,
   "id": "returning-fortune",
   "metadata": {},
   "outputs": [
    {
     "name": "stdout",
     "output_type": "stream",
     "text": [
      "/Users/brandonamos/Documents/repos/redisprodcatalog\n",
      "/Users/brandonamos/Documents/repos/redisprodcatalog\n"
     ]
    }
   ],
   "source": [
    "import os\n",
    "from pathlib import Path\n",
    "current_dir = Path.cwd()\n",
    "path = current_dir.parent\n",
    "print(path)\n",
    "os.chdir(path)\n",
    "current_dir = Path.cwd()\n",
    "print(current_dir)"
   ]
  },
  {
   "cell_type": "code",
   "execution_count": 2,
   "id": "electrical-african",
   "metadata": {},
   "outputs": [],
   "source": [
    "from productcatalog.product_catalog_create import *\n",
    "from productcatalog.product_catalog_update import *\n",
    "from productcatalog.product_catalog_search import *"
   ]
  },
  {
   "cell_type": "code",
   "execution_count": null,
   "id": "tight-albany",
   "metadata": {},
   "outputs": [],
   "source": []
  },
  {
   "cell_type": "code",
   "execution_count": null,
   "id": "fallen-fault",
   "metadata": {},
   "outputs": [],
   "source": []
  },
  {
   "cell_type": "code",
   "execution_count": null,
   "id": "front-flesh",
   "metadata": {},
   "outputs": [],
   "source": []
  },
  {
   "cell_type": "code",
   "execution_count": 3,
   "id": "legendary-episode",
   "metadata": {},
   "outputs": [
    {
     "name": "stdout",
     "output_type": "stream",
     "text": [
      "product.data:\n",
      "{'name': 'Product_4', 'description': 'Chicken', 'vendor': 'WholeFoods', 'price': 15.5, 'currency': 'dollars', 'category': 'Meat', 'images': [1, 2, 3, 4, 5, 6, 7, 8]}\n",
      "ProductCreate(name='Product_4', description='Chicken', vendor='WholeFoods', price=15.5, currency='dollars', category='Meat', productId=None, images=array([1, 2, 3, 4, 5, 6, 7, 8]), redisSession=[Redis<ConnectionPool<Connection<host=localhost,port=6379,db=0>>>])\n"
     ]
    }
   ],
   "source": [
    "\n",
    "\n",
    "# example dict\n",
    "product_dict = {\n",
    "    \"name\": 'Product_4',\n",
    "    \"description\": 'Chicken',\n",
    "    \"vendor\": 'WholeFoods',\n",
    "    \"price\": 15.5,\n",
    "    \"currency\": 'dollars',\n",
    "    \"category\": 'Meat',\n",
    "    \"images\": [1,2,3,4,5,6,7,8]\n",
    "}\n",
    "\n",
    "\n",
    "product_obj = ProductCatalogCreate(product_dict) # get product object\n",
    "print('product.data:')\n",
    "print(product_obj.data)\n",
    "print(product_obj.product_obj)\n",
    "#product_obj.calculate_survey_points() # runs through min curve algo, calc lat lon points, and calc horizontal\n",
    "#print('calc object:')\n",
    "\n",
    "product_obj.generate_product_catalog()"
   ]
  },
  {
   "cell_type": "code",
   "execution_count": null,
   "id": "ceramic-criterion",
   "metadata": {},
   "outputs": [],
   "source": []
  },
  {
   "cell_type": "code",
   "execution_count": 5,
   "id": "loving-scene",
   "metadata": {},
   "outputs": [],
   "source": [
    "# example dict\n",
    "product_dict = {\n",
    "    \"productId\": 'product:4',\n",
    "    \"name\": 'product_FAG',\n",
    "    \"description\": 'ChickenBUTTS',\n",
    "    \"vendor\": 'WholeFoodsBUTSS',\n",
    "    \"price\": 1202,\n",
    "    \"currency\": 'dollarsZZZZ',\n",
    "    \"category\": 'Fish',\n",
    "    \"images\": [233,2450]\n",
    "}\n",
    "\n",
    "product_obj = ProductCatalogUpdate(product_dict) # get product object\n",
    "product_obj.update_product()"
   ]
  },
  {
   "cell_type": "code",
   "execution_count": 6,
   "id": "potential-operation",
   "metadata": {},
   "outputs": [
    {
     "data": {
      "text/plain": [
       "{b'name': b'product_FAG',\n",
       " b'description': b'ChickenBUTTS',\n",
       " b'vendor': b'WholeFoodsBUTSS',\n",
       " b'price': b'1202.0',\n",
       " b'currency': b'dollarsZZZZ',\n",
       " b'main-category': b'Fish'}"
      ]
     },
     "execution_count": 6,
     "metadata": {},
     "output_type": "execute_result"
    }
   ],
   "source": [
    "# product find\n",
    "product_dict = {\n",
    "    \"productId\": 'product:4'\n",
    "}\n",
    "\n",
    "product_obj = ProductCatalogSearch(product_dict) # get product object\n",
    "product_obj.find_by_product_id()"
   ]
  },
  {
   "cell_type": "code",
   "execution_count": 8,
   "id": "foster-binary",
   "metadata": {},
   "outputs": [
    {
     "name": "stdout",
     "output_type": "stream",
     "text": [
      "category:Meat\n"
     ]
    },
    {
     "data": {
      "text/plain": [
       "{b'product:2'}"
      ]
     },
     "execution_count": 8,
     "metadata": {},
     "output_type": "execute_result"
    }
   ],
   "source": [
    "# category find\n",
    "product_dict = {\n",
    "    \"category\": 'Meat'\n",
    "}\n",
    "\n",
    "product_obj = ProductCatalogSearch(product_dict) # get product object\n",
    "product_obj.find_products_in_category()"
   ]
  },
  {
   "cell_type": "code",
   "execution_count": 21,
   "id": "italic-grass",
   "metadata": {},
   "outputs": [
    {
     "name": "stdout",
     "output_type": "stream",
     "text": [
      "product_NEW\n"
     ]
    },
    {
     "data": {
      "text/plain": [
       "{b'name': b'product_NEW',\n",
       " b'description': b'ChickenBUTTS',\n",
       " b'vendor': b'WholeFoodsBUTSS',\n",
       " b'price': b'1202.0',\n",
       " b'currency': b'dollarsZZZZ',\n",
       " b'main-category': b'Fish'}"
      ]
     },
     "execution_count": 21,
     "metadata": {},
     "output_type": "execute_result"
    }
   ],
   "source": [
    "# find product by its name or part of its name\n",
    "\n",
    "product_dict = {\n",
    "    \"name\": 'product_NEW'\n",
    "}\n",
    "\n",
    "product_obj = ProductCatalogSearch(product_dict) # get product object\n",
    "product_obj.find_products_by_name()"
   ]
  },
  {
   "cell_type": "code",
   "execution_count": 11,
   "id": "stuffed-horror",
   "metadata": {},
   "outputs": [
    {
     "data": {
      "text/plain": [
       "{b'Product_2': b'product:2',\n",
       " b'product_SICK': b'product:3',\n",
       " b'product_NEW': b'product:1'}"
      ]
     },
     "execution_count": 11,
     "metadata": {},
     "output_type": "execute_result"
    }
   ],
   "source": [
    "redis = product_obj.product_obj.redisSession[0]\n",
    "\n",
    "redis.hgetall('product-name-index')"
   ]
  },
  {
   "cell_type": "code",
   "execution_count": 6,
   "id": "canadian-embassy",
   "metadata": {},
   "outputs": [
    {
     "data": {
      "text/plain": [
       "True"
      ]
     },
     "execution_count": 6,
     "metadata": {},
     "output_type": "execute_result"
    }
   ],
   "source": [
    "redis = product_obj.product_obj.redisSession[0]\n",
    "redis.flushdb()"
   ]
  },
  {
   "cell_type": "code",
   "execution_count": null,
   "id": "mounted-embassy",
   "metadata": {},
   "outputs": [],
   "source": []
  },
  {
   "cell_type": "code",
   "execution_count": 10,
   "id": "moving-certificate",
   "metadata": {},
   "outputs": [],
   "source": [
    "# Delete Product by Product ID\n",
    "product_dict = {\n",
    "    \"productId\": 'product:4'\n",
    "}\n",
    "\n",
    "product_obj = ProductCatalogUpdate(product_dict) # get product object\n",
    "product_obj.delete_product()"
   ]
  },
  {
   "cell_type": "code",
   "execution_count": null,
   "id": "continuing-litigation",
   "metadata": {},
   "outputs": [],
   "source": []
  },
  {
   "cell_type": "code",
   "execution_count": null,
   "id": "copyrighted-granny",
   "metadata": {},
   "outputs": [],
   "source": []
  },
  {
   "cell_type": "code",
   "execution_count": 7,
   "id": "charming-allowance",
   "metadata": {},
   "outputs": [],
   "source": [
    "redis = product_obj.product_obj.redisSession[0]"
   ]
  },
  {
   "cell_type": "code",
   "execution_count": 8,
   "id": "coastal-fruit",
   "metadata": {},
   "outputs": [
    {
     "name": "stdout",
     "output_type": "stream",
     "text": [
      "{}\n",
      "[]\n",
      "{b'product:2', b'product:4', b'product:1', b'product:5', b'product:6'}\n",
      "{b'Product_5', b'Product_10', b'Product_q', b'Product_2', b'Product_1', b'Product_11', b'Product_c', b'Product_f', b'Product_z', b'Product_e', b'Product_b', b'Product_6', b'Product_3', b'Product_d', b'Product_4'}\n",
      "set()\n"
     ]
    }
   ],
   "source": [
    "\n",
    "print(redis.hgetall('product:7'))\n",
    "print(redis.lrange('product:7:images',0,-1))\n",
    "print(redis.smembers('category:Meat'))\n",
    "print(redis.smembers('product-names'))\n",
    "print(redis.smembers('category:Fish'))"
   ]
  },
  {
   "cell_type": "code",
   "execution_count": null,
   "id": "systematic-estate",
   "metadata": {},
   "outputs": [],
   "source": []
  }
 ],
 "metadata": {
  "kernelspec": {
   "display_name": "Python 3",
   "language": "python",
   "name": "python3"
  },
  "language_info": {
   "codemirror_mode": {
    "name": "ipython",
    "version": 3
   },
   "file_extension": ".py",
   "mimetype": "text/x-python",
   "name": "python",
   "nbconvert_exporter": "python",
   "pygments_lexer": "ipython3",
   "version": "3.8.8"
  }
 },
 "nbformat": 4,
 "nbformat_minor": 5
}
